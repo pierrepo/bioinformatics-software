{
 "cells": [
  {
   "cell_type": "code",
   "execution_count": 2,
   "id": "28e7d4e2-6d8e-403b-a14d-a8010abf1475",
   "metadata": {},
   "outputs": [],
   "source": [
    "import json\n",
    "import re\n",
    "import time\n",
    "\n",
    "from linkify_it import LinkifyIt\n",
    "import matplotlib.pyplot as plt\n",
    "import numpy as np\n",
    "import os\n",
    "import pandas as pd\n",
    "import sys\n",
    "from tqdm import tqdm\n",
    "import requests\n",
    "import xmltodict\n",
    "\n",
    "%reload_ext autoreload\n",
    "%autoreload 2\n",
    "sys.path.append('../scripts')\n",
    "import pbmd_tools as pbmd"
   ]
  },
  {
   "cell_type": "code",
   "execution_count": 6,
   "id": "890d875e-15fe-4682-b9cf-ed8c99f60e26",
   "metadata": {},
   "outputs": [],
   "source": [
    "pbmd.read_tokens(\"../.env\")\n",
    "GITHUB_TOKEN = os.environ.get(\"GITHUB_TOKEN\")\n",
    "PUBMED_TOKEN = os.environ.get(\"PUBMED_TOKEN\")"
   ]
  },
  {
   "cell_type": "code",
   "execution_count": 13,
   "id": "d755d531-7c81-4f30-a523-bf2f98c8f732",
   "metadata": {},
   "outputs": [
    {
     "data": {
      "text/html": [
       "<div>\n",
       "<style scoped>\n",
       "    .dataframe tbody tr th:only-of-type {\n",
       "        vertical-align: middle;\n",
       "    }\n",
       "\n",
       "    .dataframe tbody tr th {\n",
       "        vertical-align: top;\n",
       "    }\n",
       "\n",
       "    .dataframe thead th {\n",
       "        text-align: right;\n",
       "    }\n",
       "</style>\n",
       "<table border=\"1\" class=\"dataframe\">\n",
       "  <thead>\n",
       "    <tr style=\"text-align: right;\">\n",
       "      <th></th>\n",
       "      <th>year</th>\n",
       "      <th>PMID</th>\n",
       "    </tr>\n",
       "  </thead>\n",
       "  <tbody>\n",
       "    <tr>\n",
       "      <th>0</th>\n",
       "      <td>2010</td>\n",
       "      <td>21169373</td>\n",
       "    </tr>\n",
       "    <tr>\n",
       "      <th>1</th>\n",
       "      <td>2010</td>\n",
       "      <td>21124986</td>\n",
       "    </tr>\n",
       "    <tr>\n",
       "      <th>2</th>\n",
       "      <td>2010</td>\n",
       "      <td>20935049</td>\n",
       "    </tr>\n",
       "    <tr>\n",
       "      <th>3</th>\n",
       "      <td>2010</td>\n",
       "      <td>20798169</td>\n",
       "    </tr>\n",
       "    <tr>\n",
       "      <th>4</th>\n",
       "      <td>2010</td>\n",
       "      <td>20562450</td>\n",
       "    </tr>\n",
       "    <tr>\n",
       "      <th>...</th>\n",
       "      <td>...</td>\n",
       "      <td>...</td>\n",
       "    </tr>\n",
       "    <tr>\n",
       "      <th>11020</th>\n",
       "      <td>2022</td>\n",
       "      <td>32750861</td>\n",
       "    </tr>\n",
       "    <tr>\n",
       "      <th>11021</th>\n",
       "      <td>2022</td>\n",
       "      <td>32750860</td>\n",
       "    </tr>\n",
       "    <tr>\n",
       "      <th>11022</th>\n",
       "      <td>2022</td>\n",
       "      <td>32678794</td>\n",
       "    </tr>\n",
       "    <tr>\n",
       "      <th>11023</th>\n",
       "      <td>2022</td>\n",
       "      <td>32559172</td>\n",
       "    </tr>\n",
       "    <tr>\n",
       "      <th>11024</th>\n",
       "      <td>2022</td>\n",
       "      <td>32247284</td>\n",
       "    </tr>\n",
       "  </tbody>\n",
       "</table>\n",
       "<p>11025 rows × 2 columns</p>\n",
       "</div>"
      ],
      "text/plain": [
       "       year      PMID\n",
       "0      2010  21169373\n",
       "1      2010  21124986\n",
       "2      2010  20935049\n",
       "3      2010  20798169\n",
       "4      2010  20562450\n",
       "...     ...       ...\n",
       "11020  2022  32750861\n",
       "11021  2022  32750860\n",
       "11022  2022  32678794\n",
       "11023  2022  32559172\n",
       "11024  2022  32247284\n",
       "\n",
       "[11025 rows x 2 columns]"
      ]
     },
     "execution_count": 13,
     "metadata": {},
     "output_type": "execute_result"
    }
   ],
   "source": [
    "pbmd.query_pubmed(query='\"github.com\"[tiab:~0]', year_start=2009, year_end=2022, output_name=\"github\")"
   ]
  },
  {
   "cell_type": "code",
   "execution_count": 3,
   "id": "7f7e5eaa-da2d-4e28-a3d7-230be4495b76",
   "metadata": {},
   "outputs": [],
   "source": [
    "linkify = (\n",
    "    LinkifyIt()\n",
    "    .set({\"fuzzy_email\": False}) \n",
    ")"
   ]
  },
  {
   "cell_type": "code",
   "execution_count": 40,
   "id": "3426934e-96b0-4dae-a8aa-a67cf937456d",
   "metadata": {},
   "outputs": [
    {
     "data": {
      "text/plain": [
       "'2023/04/03'"
      ]
     },
     "execution_count": 40,
     "metadata": {},
     "output_type": "execute_result"
    }
   ],
   "source": [
    "pbmd.add_days(\"2023/03/24\", 10)"
   ]
  },
  {
   "cell_type": "code",
   "execution_count": 11,
   "id": "14c7ee0a-62d7-4fad-992c-9b11ed387b67",
   "metadata": {},
   "outputs": [
    {
     "name": "stderr",
     "output_type": "stream",
     "text": [
      "100%|██████████| 14/14 [04:07<00:00, 17.69s/it]"
     ]
    },
    {
     "name": "stdout",
     "output_type": "stream",
     "text": [
      "\n",
      "87768 articles with 'http(s)' found in PubMed\n"
     ]
    },
    {
     "name": "stderr",
     "output_type": "stream",
     "text": [
      "\n"
     ]
    }
   ],
   "source": [
    "queries = []\n",
    "for year in range(2009, 2023):\n",
    "    queries.append(f'((\"http\"[Title/Abstract]) OR (\"https\"[Title/Abstract])) AND ((\"{year}/01/01\"[Date - Publication] : \"{year}/12/31\"[Date - Publication]))')\n",
    "df = pbmd.get_all_pmids(queries)\n",
    "\n",
    "print(f\"\\n{len(df)} articles with 'http(s)' found in PubMed\")"
   ]
  },
  {
   "cell_type": "code",
   "execution_count": 9,
   "id": "a207d5b1-0364-4293-b6bf-664cca08bda5",
   "metadata": {},
   "outputs": [
    {
     "data": {
      "text/html": [
       "<div>\n",
       "<style scoped>\n",
       "    .dataframe tbody tr th:only-of-type {\n",
       "        vertical-align: middle;\n",
       "    }\n",
       "\n",
       "    .dataframe tbody tr th {\n",
       "        vertical-align: top;\n",
       "    }\n",
       "\n",
       "    .dataframe thead th {\n",
       "        text-align: right;\n",
       "    }\n",
       "</style>\n",
       "<table border=\"1\" class=\"dataframe\">\n",
       "  <thead>\n",
       "    <tr style=\"text-align: right;\">\n",
       "      <th></th>\n",
       "      <th>year</th>\n",
       "      <th>count</th>\n",
       "    </tr>\n",
       "  </thead>\n",
       "  <tbody>\n",
       "    <tr>\n",
       "      <th>0</th>\n",
       "      <td>2009</td>\n",
       "      <td>2720</td>\n",
       "    </tr>\n",
       "    <tr>\n",
       "      <th>1</th>\n",
       "      <td>2010</td>\n",
       "      <td>3036</td>\n",
       "    </tr>\n",
       "    <tr>\n",
       "      <th>2</th>\n",
       "      <td>2011</td>\n",
       "      <td>3164</td>\n",
       "    </tr>\n",
       "    <tr>\n",
       "      <th>3</th>\n",
       "      <td>2012</td>\n",
       "      <td>3645</td>\n",
       "    </tr>\n",
       "    <tr>\n",
       "      <th>4</th>\n",
       "      <td>2013</td>\n",
       "      <td>4279</td>\n",
       "    </tr>\n",
       "    <tr>\n",
       "      <th>5</th>\n",
       "      <td>2014</td>\n",
       "      <td>4637</td>\n",
       "    </tr>\n",
       "    <tr>\n",
       "      <th>6</th>\n",
       "      <td>2015</td>\n",
       "      <td>4788</td>\n",
       "    </tr>\n",
       "    <tr>\n",
       "      <th>7</th>\n",
       "      <td>2016</td>\n",
       "      <td>5210</td>\n",
       "    </tr>\n",
       "    <tr>\n",
       "      <th>8</th>\n",
       "      <td>2017</td>\n",
       "      <td>5679</td>\n",
       "    </tr>\n",
       "    <tr>\n",
       "      <th>9</th>\n",
       "      <td>2018</td>\n",
       "      <td>6855</td>\n",
       "    </tr>\n",
       "    <tr>\n",
       "      <th>10</th>\n",
       "      <td>2019</td>\n",
       "      <td>7871</td>\n",
       "    </tr>\n",
       "    <tr>\n",
       "      <th>11</th>\n",
       "      <td>2020</td>\n",
       "      <td>9921</td>\n",
       "    </tr>\n",
       "    <tr>\n",
       "      <th>12</th>\n",
       "      <td>2021</td>\n",
       "      <td>12360</td>\n",
       "    </tr>\n",
       "    <tr>\n",
       "      <th>13</th>\n",
       "      <td>2022</td>\n",
       "      <td>13603</td>\n",
       "    </tr>\n",
       "  </tbody>\n",
       "</table>\n",
       "</div>"
      ],
      "text/plain": [
       "    year  count\n",
       "0   2009   2720\n",
       "1   2010   3036\n",
       "2   2011   3164\n",
       "3   2012   3645\n",
       "4   2013   4279\n",
       "5   2014   4637\n",
       "6   2015   4788\n",
       "7   2016   5210\n",
       "8   2017   5679\n",
       "9   2018   6855\n",
       "10  2019   7871\n",
       "11  2020   9921\n",
       "12  2021  12360\n",
       "13  2022  13603"
      ]
     },
     "execution_count": 9,
     "metadata": {},
     "output_type": "execute_result"
    }
   ],
   "source": [
    "df.groupby(df['year']).size().reset_index(name='count')"
   ]
  },
  {
   "cell_type": "code",
   "execution_count": 13,
   "id": "3929a94a-caa2-4cf1-857f-ec33b9ab9d51",
   "metadata": {},
   "outputs": [],
   "source": [
    "df.to_csv('../data/PMIDs.tsv', sep='\\t', index=False)"
   ]
  },
  {
   "cell_type": "code",
   "execution_count": 12,
   "id": "cfdf2ff7-0646-46e8-887c-48aba6dfad68",
   "metadata": {},
   "outputs": [],
   "source": [
    "PMIDs = df['PMID'].to_list()"
   ]
  },
  {
   "cell_type": "code",
   "execution_count": 16,
   "id": "4bb1ec96-c2c6-4c1e-9ce9-1aeaef5627dc",
   "metadata": {},
   "outputs": [],
   "source": [
    "db = \"pubmed\"\n",
    "domain = \"https://www.ncbi.nlm.nih.gov/entrez/eutils\"\n",
    "retmode = \"xml\""
   ]
  },
  {
   "cell_type": "code",
   "execution_count": 17,
   "id": "032963fb-b22e-4eb4-af23-dc857a3741ff",
   "metadata": {},
   "outputs": [
    {
     "name": "stderr",
     "output_type": "stream",
     "text": [
      "  3%|▎         | 2624/87768 [29:39<30:23:02,  1.28s/it]"
     ]
    },
    {
     "name": "stdout",
     "output_type": "stream",
     "text": [
      "18854357 failed : 502\n"
     ]
    },
    {
     "name": "stderr",
     "output_type": "stream",
     "text": [
      "  3%|▎         | 2753/87768 [31:00<32:47:39,  1.39s/it]"
     ]
    },
    {
     "name": "stdout",
     "output_type": "stream",
     "text": [
      "21393795 failed : 400\n"
     ]
    },
    {
     "name": "stderr",
     "output_type": "stream",
     "text": [
      "  5%|▌         | 4563/87768 [50:43<33:24:09,  1.45s/it]"
     ]
    },
    {
     "name": "stdout",
     "output_type": "stream",
     "text": [
      "20529895 failed : 400\n"
     ]
    },
    {
     "name": "stderr",
     "output_type": "stream",
     "text": [
      "  6%|▌         | 5051/87768 [56:00<32:18:21,  1.41s/it]"
     ]
    },
    {
     "name": "stdout",
     "output_type": "stream",
     "text": [
      "20385020 failed : 400\n"
     ]
    },
    {
     "name": "stderr",
     "output_type": "stream",
     "text": [
      "  6%|▌         | 5175/87768 [57:15<32:10:00,  1.40s/it]"
     ]
    },
    {
     "name": "stdout",
     "output_type": "stream",
     "text": [
      "20299326 failed : 400\n"
     ]
    },
    {
     "name": "stderr",
     "output_type": "stream",
     "text": [
      "  7%|▋         | 5793/87768 [1:03:41<39:55:07,  1.75s/it]"
     ]
    },
    {
     "name": "stdout",
     "output_type": "stream",
     "text": [
      "22384322 failed : 400\n"
     ]
    },
    {
     "name": "stderr",
     "output_type": "stream",
     "text": [
      " 10%|█         | 9003/87768 [1:37:00<22:01:40,  1.01s/it]"
     ]
    },
    {
     "name": "stdout",
     "output_type": "stream",
     "text": [
      "23281809 failed : 500\n"
     ]
    },
    {
     "name": "stderr",
     "output_type": "stream",
     "text": [
      " 10%|█         | 9164/87768 [1:38:45<30:21:56,  1.39s/it]"
     ]
    },
    {
     "name": "stdout",
     "output_type": "stream",
     "text": [
      "23240086 failed : 400\n"
     ]
    },
    {
     "name": "stderr",
     "output_type": "stream",
     "text": [
      " 11%|█         | 9701/87768 [1:44:47<37:34:28,  1.73s/it]"
     ]
    },
    {
     "name": "stdout",
     "output_type": "stream",
     "text": [
      "23118925 failed : 400\n"
     ]
    },
    {
     "name": "stderr",
     "output_type": "stream",
     "text": [
      " 12%|█▏        | 10252/87768 [1:50:42<31:40:58,  1.47s/it]"
     ]
    },
    {
     "name": "stdout",
     "output_type": "stream",
     "text": [
      "22949472 failed : 400\n"
     ]
    },
    {
     "name": "stderr",
     "output_type": "stream",
     "text": [
      " 17%|█▋        | 15233/87768 [2:40:30<33:37:03,  1.67s/it]"
     ]
    },
    {
     "name": "stdout",
     "output_type": "stream",
     "text": [
      "23716633 failed : 400\n"
     ]
    },
    {
     "name": "stderr",
     "output_type": "stream",
     "text": [
      " 18%|█▊        | 15469/87768 [2:42:57<28:18:11,  1.41s/it]"
     ]
    },
    {
     "name": "stdout",
     "output_type": "stream",
     "text": [
      "23652697 failed : 400\n"
     ]
    },
    {
     "name": "stderr",
     "output_type": "stream",
     "text": [
      " 19%|█▉        | 16798/87768 [2:58:09<27:51:37,  1.41s/it] "
     ]
    },
    {
     "name": "stdout",
     "output_type": "stream",
     "text": [
      "23271155 failed : 400\n"
     ]
    },
    {
     "name": "stderr",
     "output_type": "stream",
     "text": [
      " 19%|█▉        | 17114/87768 [3:01:20<33:15:45,  1.69s/it]"
     ]
    },
    {
     "name": "stdout",
     "output_type": "stream",
     "text": [
      "25510390 failed : 400\n"
     ]
    },
    {
     "name": "stderr",
     "output_type": "stream",
     "text": [
      " 20%|██        | 17692/87768 [3:06:59<27:01:01,  1.39s/it]"
     ]
    },
    {
     "name": "stdout",
     "output_type": "stream",
     "text": [
      "25359893 failed : 400\n"
     ]
    },
    {
     "name": "stderr",
     "output_type": "stream",
     "text": [
      " 27%|██▋       | 23903/87768 [4:09:17<14:58:45,  1.18it/s]"
     ]
    },
    {
     "name": "stdout",
     "output_type": "stream",
     "text": [
      "26140380 failed : 500\n"
     ]
    },
    {
     "name": "stderr",
     "output_type": "stream",
     "text": [
      " 35%|███▍      | 30672/87768 [5:17:48<23:17:52,  1.47s/it] "
     ]
    },
    {
     "name": "stdout",
     "output_type": "stream",
     "text": [
      "26937654 failed : 400\n"
     ]
    },
    {
     "name": "stderr",
     "output_type": "stream",
     "text": [
      " 39%|███▉      | 34271/87768 [5:52:13<12:25:50,  1.20it/s]"
     ]
    },
    {
     "name": "stdout",
     "output_type": "stream",
     "text": [
      "28651291 failed : 500\n"
     ]
    },
    {
     "name": "stderr",
     "output_type": "stream",
     "text": [
      " 42%|████▏     | 36731/87768 [6:15:48<12:42:05,  1.12it/s]"
     ]
    },
    {
     "name": "stdout",
     "output_type": "stream",
     "text": [
      "28068987 failed : 500\n"
     ]
    },
    {
     "name": "stderr",
     "output_type": "stream",
     "text": [
      " 46%|████▌     | 40566/87768 [6:52:23<18:20:57,  1.40s/it]"
     ]
    },
    {
     "name": "stdout",
     "output_type": "stream",
     "text": [
      "29893754 failed : 400\n"
     ]
    },
    {
     "name": "stderr",
     "output_type": "stream",
     "text": [
      " 53%|█████▎    | 46861/87768 [7:50:30<15:53:30,  1.40s/it]"
     ]
    },
    {
     "name": "stdout",
     "output_type": "stream",
     "text": [
      "31370886 failed : 400\n"
     ]
    },
    {
     "name": "stderr",
     "output_type": "stream",
     "text": [
      " 54%|█████▎    | 47159/87768 [7:53:22<16:02:28,  1.42s/it]"
     ]
    },
    {
     "name": "stdout",
     "output_type": "stream",
     "text": [
      "31310539 failed : 400\n"
     ]
    },
    {
     "name": "stderr",
     "output_type": "stream",
     "text": [
      " 55%|█████▍    | 48091/87768 [8:02:00<15:34:07,  1.41s/it]"
     ]
    },
    {
     "name": "stdout",
     "output_type": "stream",
     "text": [
      "31142511 failed : 400\n"
     ]
    },
    {
     "name": "stderr",
     "output_type": "stream",
     "text": [
      " 55%|█████▌    | 48702/87768 [8:07:37<15:11:23,  1.40s/it]"
     ]
    },
    {
     "name": "stdout",
     "output_type": "stream",
     "text": [
      "31039763 failed : 400\n"
     ]
    },
    {
     "name": "stderr",
     "output_type": "stream",
     "text": [
      " 67%|██████▋   | 59229/87768 [9:49:04<78:26:54,  9.90s/it] "
     ]
    },
    {
     "name": "stdout",
     "output_type": "stream",
     "text": [
      "33296240 failed : 502\n"
     ]
    },
    {
     "name": "stderr",
     "output_type": "stream",
     "text": [
      " 67%|██████▋   | 59235/87768 [9:49:09<15:50:24,  2.00s/it]"
     ]
    },
    {
     "name": "stdout",
     "output_type": "stream",
     "text": [
      "33294945 failed : 500\n"
     ]
    },
    {
     "name": "stderr",
     "output_type": "stream",
     "text": [
      " 69%|██████▉   | 60452/87768 [10:01:30<10:59:26,  1.45s/it]"
     ]
    },
    {
     "name": "stdout",
     "output_type": "stream",
     "text": [
      "33064602 failed : 400\n"
     ]
    },
    {
     "name": "stderr",
     "output_type": "stream",
     "text": [
      " 74%|███████▎  | 64674/87768 [10:42:01<9:17:55,  1.45s/it] "
     ]
    },
    {
     "name": "stdout",
     "output_type": "stream",
     "text": [
      "33719338 failed : 400\n"
     ]
    },
    {
     "name": "stderr",
     "output_type": "stream",
     "text": [
      " 75%|███████▍  | 65466/87768 [10:49:54<9:36:35,  1.55s/it]"
     ]
    },
    {
     "name": "stdout",
     "output_type": "stream",
     "text": [
      "33573701 failed : 400\n"
     ]
    },
    {
     "name": "stderr",
     "output_type": "stream",
     "text": [
      " 76%|███████▌  | 66668/87768 [11:02:06<8:23:00,  1.43s/it]"
     ]
    },
    {
     "name": "stdout",
     "output_type": "stream",
     "text": [
      "33313665 failed : 400\n"
     ]
    },
    {
     "name": "stderr",
     "output_type": "stream",
     "text": [
      " 76%|███████▌  | 66896/87768 [11:04:21<8:37:16,  1.49s/it]"
     ]
    },
    {
     "name": "stdout",
     "output_type": "stream",
     "text": [
      "33119754 failed : 400\n"
     ]
    },
    {
     "name": "stderr",
     "output_type": "stream",
     "text": [
      " 77%|███████▋  | 67321/87768 [11:08:49<8:32:49,  1.50s/it] "
     ]
    },
    {
     "name": "stdout",
     "output_type": "stream",
     "text": [
      "34536568 failed : 400\n"
     ]
    },
    {
     "name": "stderr",
     "output_type": "stream",
     "text": [
      " 77%|███████▋  | 67468/87768 [11:10:18<8:46:22,  1.56s/it]"
     ]
    },
    {
     "name": "stdout",
     "output_type": "stream",
     "text": [
      "34446489 failed : 400\n"
     ]
    },
    {
     "name": "stderr",
     "output_type": "stream",
     "text": [
      " 77%|███████▋  | 67757/87768 [11:13:43<7:46:05,  1.40s/it]"
     ]
    },
    {
     "name": "stdout",
     "output_type": "stream",
     "text": [
      "34383594 failed : 400\n"
     ]
    },
    {
     "name": "stderr",
     "output_type": "stream",
     "text": [
      " 78%|███████▊  | 68103/87768 [11:17:34<8:17:30,  1.52s/it]"
     ]
    },
    {
     "name": "stdout",
     "output_type": "stream",
     "text": [
      "34303360 failed : 400\n"
     ]
    },
    {
     "name": "stderr",
     "output_type": "stream",
     "text": [
      " 81%|████████  | 70659/87768 [11:42:53<7:04:02,  1.49s/it]"
     ]
    },
    {
     "name": "stdout",
     "output_type": "stream",
     "text": [
      "32255488 failed : 400\n"
     ]
    },
    {
     "name": "stderr",
     "output_type": "stream",
     "text": [
      " 82%|████████▏ | 71776/87768 [11:54:07<6:17:30,  1.42s/it]"
     ]
    },
    {
     "name": "stdout",
     "output_type": "stream",
     "text": [
      "34775781 failed : 400\n"
     ]
    },
    {
     "name": "stderr",
     "output_type": "stream",
     "text": [
      " 82%|████████▏ | 71817/87768 [11:54:33<6:17:19,  1.42s/it]"
     ]
    },
    {
     "name": "stdout",
     "output_type": "stream",
     "text": [
      "34763532 failed : 400\n"
     ]
    },
    {
     "name": "stderr",
     "output_type": "stream",
     "text": [
      " 86%|████████▌ | 75392/87768 [12:28:20<4:51:04,  1.41s/it]"
     ]
    },
    {
     "name": "stdout",
     "output_type": "stream",
     "text": [
      "36204368 failed : 400\n"
     ]
    },
    {
     "name": "stderr",
     "output_type": "stream",
     "text": [
      " 86%|████████▌ | 75542/87768 [12:29:45<4:43:53,  1.39s/it]"
     ]
    },
    {
     "name": "stdout",
     "output_type": "stream",
     "text": [
      "36129860 failed : 400\n"
     ]
    },
    {
     "name": "stderr",
     "output_type": "stream",
     "text": [
      " 86%|████████▋ | 75748/87768 [12:31:47<5:16:04,  1.58s/it]"
     ]
    },
    {
     "name": "stdout",
     "output_type": "stream",
     "text": [
      "36049454 failed : 400\n"
     ]
    },
    {
     "name": "stderr",
     "output_type": "stream",
     "text": [
      " 86%|████████▋ | 75749/87768 [12:31:49<5:05:20,  1.52s/it]"
     ]
    },
    {
     "name": "stdout",
     "output_type": "stream",
     "text": [
      "36048833 failed : 500\n"
     ]
    },
    {
     "name": "stderr",
     "output_type": "stream",
     "text": [
      " 87%|████████▋ | 75934/87768 [12:33:40<4:44:51,  1.44s/it]"
     ]
    },
    {
     "name": "stdout",
     "output_type": "stream",
     "text": [
      "35938015 failed : 400\n"
     ]
    },
    {
     "name": "stderr",
     "output_type": "stream",
     "text": [
      " 87%|████████▋ | 75976/87768 [12:34:05<4:36:47,  1.41s/it]"
     ]
    },
    {
     "name": "stdout",
     "output_type": "stream",
     "text": [
      "35924170 failed : 400\n"
     ]
    },
    {
     "name": "stderr",
     "output_type": "stream",
     "text": [
      " 87%|████████▋ | 76639/87768 [12:40:13<4:32:29,  1.47s/it]"
     ]
    },
    {
     "name": "stdout",
     "output_type": "stream",
     "text": [
      "35594250 failed : 400\n"
     ]
    },
    {
     "name": "stderr",
     "output_type": "stream",
     "text": [
      " 87%|████████▋ | 76766/87768 [12:41:27<4:17:34,  1.40s/it]"
     ]
    },
    {
     "name": "stdout",
     "output_type": "stream",
     "text": [
      "35536084 failed : 400\n"
     ]
    },
    {
     "name": "stderr",
     "output_type": "stream",
     "text": [
      " 88%|████████▊ | 77122/87768 [12:44:43<4:07:43,  1.40s/it]"
     ]
    },
    {
     "name": "stdout",
     "output_type": "stream",
     "text": [
      "35451938 failed : 400\n"
     ]
    },
    {
     "name": "stderr",
     "output_type": "stream",
     "text": [
      " 88%|████████▊ | 77462/87768 [12:47:52<3:58:11,  1.39s/it]"
     ]
    },
    {
     "name": "stdout",
     "output_type": "stream",
     "text": [
      "35397090 failed : 400\n"
     ]
    },
    {
     "name": "stderr",
     "output_type": "stream",
     "text": [
      " 89%|████████▊ | 77840/87768 [12:51:21<4:04:24,  1.48s/it]"
     ]
    },
    {
     "name": "stdout",
     "output_type": "stream",
     "text": [
      "35350598 failed : 400\n"
     ]
    },
    {
     "name": "stderr",
     "output_type": "stream",
     "text": [
      " 90%|█████████ | 79145/87768 [13:03:39<23:29:39,  9.81s/it]"
     ]
    },
    {
     "name": "stdout",
     "output_type": "stream",
     "text": [
      "35157600 failed : 502\n"
     ]
    },
    {
     "name": "stderr",
     "output_type": "stream",
     "text": [
      " 90%|█████████ | 79161/87768 [13:03:54<3:47:06,  1.58s/it] "
     ]
    },
    {
     "name": "stdout",
     "output_type": "stream",
     "text": [
      "35157018 failed : 400\n"
     ]
    },
    {
     "name": "stderr",
     "output_type": "stream",
     "text": [
      " 91%|█████████ | 79641/87768 [13:08:29<3:09:18,  1.40s/it]"
     ]
    },
    {
     "name": "stdout",
     "output_type": "stream",
     "text": [
      "35085775 failed : 400\n"
     ]
    },
    {
     "name": "stderr",
     "output_type": "stream",
     "text": [
      " 96%|█████████▌| 84130/87768 [13:49:49<1:25:54,  1.42s/it]"
     ]
    },
    {
     "name": "stdout",
     "output_type": "stream",
     "text": [
      "35362024 failed : 400\n"
     ]
    },
    {
     "name": "stderr",
     "output_type": "stream",
     "text": [
      " 99%|█████████▉| 86944/87768 [14:15:35<19:17,  1.41s/it]  "
     ]
    },
    {
     "name": "stdout",
     "output_type": "stream",
     "text": [
      "36122583 failed : 400\n"
     ]
    },
    {
     "name": "stderr",
     "output_type": "stream",
     "text": [
      "100%|█████████▉| 87554/87768 [14:21:16<05:09,  1.45s/it]"
     ]
    },
    {
     "name": "stdout",
     "output_type": "stream",
     "text": [
      "35737911 failed : 400\n"
     ]
    },
    {
     "name": "stderr",
     "output_type": "stream",
     "text": [
      "100%|█████████▉| 87631/87768 [14:22:01<03:13,  1.41s/it]"
     ]
    },
    {
     "name": "stdout",
     "output_type": "stream",
     "text": [
      "35188180 failed : 400\n"
     ]
    },
    {
     "name": "stderr",
     "output_type": "stream",
     "text": [
      "100%|██████████| 87768/87768 [14:23:15<00:00,  1.69it/s]\n"
     ]
    }
   ],
   "source": [
    "for PMID in tqdm(PMIDs):\n",
    "    url = f'{domain}/efetch.fcgi?db={db}&id={PMID}&retmode={retmode}&rettype=abstract&api_key={PUBMED_TOKEN}'  \n",
    "    try:\n",
    "        response = requests.get(url)\n",
    "        if response.status_code == 200:\n",
    "            with open(f\"../data/xml/{PMID}.xml\", \"wb\") as file:\n",
    "                file.write(response.content)\n",
    "        else:\n",
    "            print(f\"{PMID} failed :\", response.status_code)\n",
    "    except:\n",
    "        continue"
   ]
  },
  {
   "cell_type": "code",
   "execution_count": 20,
   "id": "36034be2-bdfe-4f97-b8ec-a8ac860f1872",
   "metadata": {},
   "outputs": [
    {
     "name": "stdout",
     "output_type": "stream",
     "text": [
      "87768\n",
      "87768\n",
      "0\n"
     ]
    }
   ],
   "source": [
    "PMIDs_failed = []\n",
    "\n",
    "files = os.listdir('../data/xml')\n",
    "for file in files:\n",
    "    if file[-4:] != \".xml\":\n",
    "        files.remove(file)\n",
    "\n",
    "PMIDs_succed = [file.split('.')[0] for file in files]\n",
    "\n",
    "for id in PMIDs:\n",
    "    if id not in PMIDs_succed :\n",
    "        PMIDs_failed.append(id)\n",
    "print(len(PMIDs))\n",
    "print(len(PMIDs_succed))\n",
    "print(len(PMIDs_failed))"
   ]
  },
  {
   "cell_type": "code",
   "execution_count": 19,
   "id": "01774f33-ae38-4c1c-abd9-5478b0546496",
   "metadata": {},
   "outputs": [
    {
     "name": "stderr",
     "output_type": "stream",
     "text": [
      "100%|██████████| 88/88 [00:46<00:00,  1.90it/s]\n"
     ]
    }
   ],
   "source": [
    "for PMID in tqdm(PMIDs_failed):\n",
    "    url = f'{domain}/efetch.fcgi?db={db}&id={PMID}&retmode={retmode}&rettype=abstract&api_key={PUBMED_TOKEN}'  \n",
    "    try:\n",
    "        response = requests.get(url)\n",
    "        if response.status_code == 200:\n",
    "            with open(f\"../data/xml/{PMID}.xml\", \"wb\") as file:\n",
    "                file.write(response.content)\n",
    "        else:\n",
    "            print(f\"{PMID} failed :\", response.status_code)\n",
    "    except:\n",
    "        continue"
   ]
  },
  {
   "cell_type": "code",
   "execution_count": 22,
   "id": "5456550d-bb45-426b-8f2c-4fb1ca7f37d9",
   "metadata": {},
   "outputs": [],
   "source": [
    "with_http = 0\n",
    "without_http = 0\n",
    "github_occur = 0\n",
    "\n",
    "links_stat = {}\n",
    "\n",
    "for file in files:\n",
    "    with open(f\"../data/xml/{file}\", \"r\") as f:\n",
    "        #summary = xmltodict.parse(f.read())\n",
    "        #abstract = pbmd.get_abstract_from_summary(summary, \"../data/log_files/status_all_links.txt\")\n",
    "        abstract = f.read()\n",
    "    \n",
    "        if abstract != None:\n",
    "\n",
    "            if linkify.test(abstract):\n",
    "                if 'github.com' in abstract:\n",
    "                    github_occur += abstract.count('github.com')\n",
    "                for match in linkify.match(abstract):\n",
    "                    link = match.raw\n",
    "                    if link.startswith('http://github') or link.startswith('https://github'):\n",
    "                        with_http += 1\n",
    "                    elif link.startswith('github'):\n",
    "                        without_http += 1\n",
    "                    try:\n",
    "                        key = link.split('/')[2]\n",
    "                    except:\n",
    "                        try:\n",
    "                            key = link.split('/')[0]\n",
    "                        except:\n",
    "                            key = link\n",
    "                    if key in links_stat:\n",
    "                        links_stat[key] += 1\n",
    "                    else:\n",
    "                        links_stat[key] = 1"
   ]
  },
  {
   "cell_type": "code",
   "execution_count": 23,
   "id": "53f9f238-66ea-4583-b1c9-9372b6d7d9e6",
   "metadata": {},
   "outputs": [
    {
     "data": {
      "text/plain": [
       "23375"
      ]
     },
     "execution_count": 23,
     "metadata": {},
     "output_type": "execute_result"
    }
   ],
   "source": [
    "len(links_stat)"
   ]
  },
  {
   "cell_type": "code",
   "execution_count": 24,
   "id": "3b8a80d9-aec4-4dce-9d49-dca8fc8acae5",
   "metadata": {},
   "outputs": [
    {
     "data": {
      "text/plain": [
       "110438"
      ]
     },
     "execution_count": 24,
     "metadata": {},
     "output_type": "execute_result"
    }
   ],
   "source": [
    "sum(links_stat.values())"
   ]
  },
  {
   "cell_type": "code",
   "execution_count": 25,
   "id": "6056c3b7-3bc2-4987-961b-30402179ac95",
   "metadata": {},
   "outputs": [],
   "source": [
    "links_stat_lower = {}\n",
    "\n",
    "for key in links_stat.keys():\n",
    "    if key.lower() in links_stat_lower:\n",
    "        links_stat_lower[key.lower()] += links_stat[key]\n",
    "    else:\n",
    "        links_stat_lower[key.lower()] = links_stat[key]"
   ]
  },
  {
   "cell_type": "code",
   "execution_count": 26,
   "id": "cc11c612-fd77-413c-9bd5-31247d8dc16e",
   "metadata": {},
   "outputs": [
    {
     "data": {
      "text/plain": [
       "23065"
      ]
     },
     "execution_count": 26,
     "metadata": {},
     "output_type": "execute_result"
    }
   ],
   "source": [
    "len(links_stat_lower)"
   ]
  },
  {
   "cell_type": "code",
   "execution_count": 27,
   "id": "a38fb283-fc40-4380-8f4e-69927fd69169",
   "metadata": {
    "tags": []
   },
   "outputs": [],
   "source": [
    "keys_to_modify = [key for key in links_stat_lower.keys() if key.startswith('www')]\n",
    "\n",
    "for key in keys_to_modify:\n",
    "    if key[4:] in links_stat_lower:\n",
    "        links_stat_lower[key[4:]] += links_stat_lower[key]\n",
    "    else:\n",
    "        links_stat_lower[key[4:]] = links_stat_lower[key]\n",
    "    links_stat_lower[key] = 0\n",
    "    "
   ]
  },
  {
   "cell_type": "code",
   "execution_count": 28,
   "id": "bb6dcb83-0611-40a4-a01f-711be385de28",
   "metadata": {},
   "outputs": [],
   "source": [
    "keys_to_delete = [key for key, value in links_stat_lower.items() if value == 0]\n",
    "for key in keys_to_delete:\n",
    "    del links_stat_lower[key]"
   ]
  },
  {
   "cell_type": "code",
   "execution_count": 29,
   "id": "b0313dfb-61a7-4890-8c5a-6e6b9a02b8e0",
   "metadata": {},
   "outputs": [
    {
     "data": {
      "text/plain": [
       "22397"
      ]
     },
     "execution_count": 29,
     "metadata": {},
     "output_type": "execute_result"
    }
   ],
   "source": [
    "len(links_stat_lower)"
   ]
  },
  {
   "cell_type": "code",
   "execution_count": 33,
   "id": "eccd5ff6-d4e3-47d2-99fe-fd8308e92be4",
   "metadata": {},
   "outputs": [],
   "source": [
    "with open(\"../data/links_stat_lower.json\", \"w\") as f:\n",
    "    json.dump(links_stat_lower, f)"
   ]
  },
  {
   "cell_type": "code",
   "execution_count": 36,
   "id": "8bcfe88d-fa75-48cd-935a-e082a0f62fe9",
   "metadata": {},
   "outputs": [],
   "source": [
    "with open(\"../data/stats_github.json\", \"r\") as f:\n",
    "    stats_github = json.load(f)\n",
    "with open(\"../data/stats_gitlab.json\", \"r\") as f:\n",
    "    stats_gitlab = json.load(f)\n",
    "with open(\"../data/stats_sourceforge.json\", \"r\") as f:\n",
    "    stats_sourceforge = json.load(f)\n",
    "with open(\"../data/stats_googlecode.json\", \"r\") as f:\n",
    "    stats_googlecode = json.load(f)\n",
    "with open(\"../data/stats_bitbucket.json\", \"r\") as f:\n",
    "    stats_bitbucket = json.load(f)\n",
    "with open(\"../data/PMIDs.txt\", \"r\") as f:\n",
    "    PMIDs = f.readlines()\n",
    "PMIDs = [PMID.strip() for PMID in PMIDs]"
   ]
  },
  {
   "cell_type": "code",
   "execution_count": 34,
   "id": "a6e6ac10-d626-4701-af88-98c729e610f6",
   "metadata": {},
   "outputs": [],
   "source": [
    "forges_http = {'github.com': links_stat_lower['github.com'],\n",
    "              'sourceforge.net': links_stat_lower['sourceforge.net'],\n",
    "              'code.google.com': links_stat_lower['code.google.com'],\n",
    "              'bitbucket.org': links_stat_lower['bitbucket.org'],\n",
    "              'gitlab.com': links_stat_lower['gitlab.com']}"
   ]
  },
  {
   "cell_type": "code",
   "execution_count": 37,
   "id": "92fa02ca-3eb5-4bfc-b1ef-9e4fbb8c58cf",
   "metadata": {},
   "outputs": [],
   "source": [
    "forges_no_http = {'github.com': sum(stats_github.values()),\n",
    "                  'sourceforge.net': sum(stats_sourceforge.values()),\n",
    "                  'code.google.com': sum(stats_googlecode.values()),\n",
    "                  'bitbucket.org': sum(stats_bitbucket.values()),\n",
    "                  'gitlab.com': sum(stats_gitlab.values())}"
   ]
  },
  {
   "cell_type": "code",
   "execution_count": 38,
   "id": "08a9a9eb-1d30-4de4-87d2-693ea622004a",
   "metadata": {},
   "outputs": [
    {
     "data": {
      "image/png": "[encoded data removed]",
      "text/plain": [
       "<Figure size 720x504 with 1 Axes>"
      ]
     },
     "metadata": {
      "needs_background": "light"
     },
     "output_type": "display_data"
    }
   ],
   "source": [
    "fig, ax = plt.subplots(figsize=(10, 7))\n",
    "\n",
    "forges = list(forges_http.keys())\n",
    "values_http = list(forges_http.values())\n",
    "values_no_http = list(forges_no_http.values())\n",
    "\n",
    "bar_width = 0.45\n",
    "x_pos = np.arange(len(forges)) \n",
    "\n",
    "ax.bar(x_pos - bar_width/2, values_http, color='#225ea8', alpha = 0.5, width=bar_width)\n",
    "ax.bar(x_pos + bar_width/2, values_no_http, color='red', alpha = 0.5, width=bar_width)\n",
    "\n",
    "\n",
    "ax.set_xlabel('Forge', fontsize=15, fontfamily='sans-serif')\n",
    "ax.set_ylabel('Number of articles\\n', fontsize=15, fontfamily='sans-serif')\n",
    "#ax.set_title('Publications per year', fontsize=15, fontfamily='sans-serif')\n",
    "\n",
    "# adding numbers for each point (if needed)\n",
    "\n",
    "for i in range(len(forges)):\n",
    "    ax.text(i-bar_width/2, values_http[i], str(values_http[i]), \n",
    "            ha='center', va='bottom', fontsize=10, color='#225ea8', alpha = 0.8)\n",
    "    ax.text(i+bar_width/2, values_no_http[i], str(values_no_http[i]), \n",
    "            ha='center', va='bottom', fontsize=10, color='red', alpha = 0.8)\n",
    "\n",
    "\n",
    "ax.legend([f\"Links with http(s)\", \n",
    "           f\"Links without http(s)\"], fontsize=15)\n",
    "\n",
    "ax.set_xticks(x_pos)\n",
    "ax.set_xticklabels(forges, fontsize=14, rotation=70)\n",
    "ax.tick_params(axis='y', labelsize=15) \n",
    "ax.tick_params(axis='x', labelsize=15) \n",
    "\n",
    "#plt.savefig(\"../data/images/stat_swh.png\")\n",
    "plt.show()"
   ]
  },
  {
   "cell_type": "code",
   "execution_count": 36,
   "id": "fb7f4dfb-9f09-4a26-a621-2f4845fc4c67",
   "metadata": {
    "tags": []
   },
   "outputs": [
    {
     "data": {
      "text/plain": [
       "{'clinicaltrials.gov': 14670,\n",
       " 'github.com': 9257,\n",
       " 'doi.org': 6072,\n",
       " 'links.lww.com': 2339,\n",
       " 'dx.doi.org': 2028,\n",
       " 'crd.york.ac.uk': 1947,\n",
       " 'elsevier.com': 1533,\n",
       " 'chictr.org.cn': 1255,\n",
       " 'webcitation.org': 1232,\n",
       " 'onlinelibrary.wiley.com': 1063,\n",
       " 'osf.io': 863,\n",
       " 'bit.ly': 850,\n",
       " 'anzctr.org.au': 811,\n",
       " 'youtu.be': 796,\n",
       " 'ncbi.nlm.nih.gov': 736,\n",
       " 'isrctn.com': 643,\n",
       " 'diagnosticpathology.diagnomx.eu': 639,\n",
       " 'sourceforge.net': 599,\n",
       " 'trialregister.nl': 552,\n",
       " 'cran.r-project.org': 534,\n",
       " 'bioconductor.org': 470,\n",
       " 'controlled-trials.com': 441,\n",
       " 'ow.ly': 381,\n",
       " 'umin.ac.jp': 360,\n",
       " '': 329,\n",
       " 'irct.ir': 309,\n",
       " 'ebi.ac.uk': 304,\n",
       " 'bitbucket.org': 302,\n",
       " 'drks.de': 299,\n",
       " 'biomedcentral.com': 270,\n",
       " 'tinyurl.com': 265,\n",
       " 'europeanreview.org': 260,\n",
       " 'cancerres.aacrjournals.org': 252,\n",
       " 'cdc.gov': 235,\n",
       " 'code.google.com': 232,\n",
       " 'upload.umin.ac.jp': 207,\n",
       " 'sites.google.com': 189,\n",
       " 'proteomecentral.proteomexchange.org': 174,\n",
       " 'rimed.org': 172,\n",
       " 'clinicaltrialsregister.eu': 172,\n",
       " 'cris.nih.go.kr': 170,\n",
       " 'springer.com': 162,\n",
       " 'youtube.com': 159,\n",
       " 'radiology.rsna.org': 146,\n",
       " 'ensaiosclinicos.gov.br': 138,\n",
       " 'who.int': 138,\n",
       " 'inplasy.com': 130,\n",
       " 'wileyonlinelibrary.com': 129,\n",
       " 'ctri.nic.in': 126,\n",
       " 'clinicaltrial.gov': 120,\n",
       " 'benthamscience.com': 116,\n",
       " 'journals.sagepub.com': 115,\n",
       " 'gitlab.com': 115,\n",
       " 'apps.who.int': 111,\n",
       " 'cos.io': 101,\n",
       " 'register.clinicaltrials.gov': 96,\n",
       " 'asn-online.org': 96,\n",
       " 'nt.ars-grin.gov': 93,\n",
       " 'hub.docker.com': 92,\n",
       " 'chictr.org': 92,\n",
       " 'trials.gov': 88,\n",
       " 'w3.org': 88,\n",
       " 'physiatry.org': 86,\n",
       " 'en.irct.ir': 83,\n",
       " 'creativecommons.org': 82,\n",
       " 'stream.cadmore.media': 79,\n",
       " 'pubmlst.org': 73,\n",
       " 'crdd.osdd.net': 70,\n",
       " 'isrctn.org': 70,\n",
       " 'zenodo.org': 69,\n",
       " 'mcr.aacrjournals.org': 66,\n",
       " 'jci-bioinfo.cn': 65,\n",
       " 'cns.org': 63,\n",
       " 'guidetopharmacology.org': 61,\n",
       " 'goo.gl': 58,\n",
       " 'data.mendeley.com': 56,\n",
       " 'cbs.dtu.dk': 56,\n",
       " 'r-project.org': 56,\n",
       " 'apps.cytoscape.org': 54,\n",
       " 'pypi.org': 54,\n",
       " 'jrct.niph.go.jp': 54,\n",
       " 'chinadrugtrials.org.cn': 52,\n",
       " 'pactr.samrc.ac.za': 51,\n",
       " 'fda.gov': 51,\n",
       " 'vimeo.com': 49,\n",
       " 'bmcmedicine.biomedcentral.com': 49,\n",
       " 'comet-initiative.org': 49,\n",
       " 'figshare.com': 48,\n",
       " 'nitrc.org': 47,\n",
       " 'pubmed.ncbi.nlm.nih.gov': 45,\n",
       " 'sparks-lab.org': 45,\n",
       " 'aasldpubs.onlinelibrary.wiley.com': 45,\n",
       " 'csbio.sjtu.edu.cn': 45,\n",
       " 'eudract.ema.europa.eu': 44,\n",
       " 'simtk.org': 43,\n",
       " 'clini\\u200bcaltr\\u200bials.gov': 43,\n",
       " 'genome.jp': 43,\n",
       " 'webs.iiitd.edu.in': 42,\n",
       " 'ensembl.org': 42,\n",
       " 'ochem.eu': 41,\n",
       " 'brm.psychonomic-journals.org': 41,\n",
       " 'genome.ucsc.edu': 41,\n",
       " 'server.malab.cn': 41,\n",
       " 'cbrc.kaust.edu.sa': 41,\n",
       " 'proteopedia.org': 40,\n",
       " 'uniprot.org': 39,\n",
       " 'karger.com': 39,\n",
       " 'insilico.eu': 39,\n",
       " 'surveymonkey.com': 37,\n",
       " 'jtcvs.org': 37,\n",
       " 'radiographics.rsna.org': 36,\n",
       " 'drks-neu.uniklinik-freiburg.de': 36,\n",
       " 'rcsb.org': 36,\n",
       " 'pactr.org': 36,\n",
       " 'discover.dc.nihr.ac.uk': 35,\n",
       " 'zhanglab.ccmb.med.umich.edu': 35,\n",
       " 'lin-group.cn': 35,\n",
       " 'ajpheart.podbean.com': 35,\n",
       " 'arxiv.org': 34,\n",
       " 'prodata.swmed.edu': 34,\n",
       " 'embase.com': 34,\n",
       " 'ccforum.com': 34,\n",
       " 'clinicaltrials.in.th': 34,\n",
       " 'bliulab.net': 33,\n",
       " 'google.com': 33,\n",
       " 'trialsearch.who.int': 32,\n",
       " 'targetscan.org': 32,\n",
       " 'lin.uestc.edu.cn': 32,\n",
       " 'referencecitationanalysis.com': 32,\n",
       " 'pypi.python.org': 31,\n",
       " 'rgd.mcw.edu': 31,\n",
       " 'bigd.big.ac.cn': 31,\n",
       " 'effectivehealthcare.ahrq.gov': 31,\n",
       " 'thaiclinicaltrials.org': 31,\n",
       " 'sanger.ac.uk': 31,\n",
       " 'bioinformatics.hitsz.edu.cn': 30,\n",
       " 'radiology.rsnajnls.org': 30,\n",
       " 'bioinformatics.psb.ugent.be': 30,\n",
       " 'zoobank.org': 29,\n",
       " 'bioinfo.hrbmu.edu.cn': 29,\n",
       " 'nursingcare.cochrane.org': 29,\n",
       " 'salilab.org': 29,\n",
       " 'bioinfo.au.tsinghua.edu.cn': 28,\n",
       " 'journals.lww.com': 28,\n",
       " 'kmplot.com': 28,\n",
       " 'biosig.unimelb.edu.au': 28,\n",
       " 'center6.umin.ac.jp': 28,\n",
       " 'yeastgenome.org': 28,\n",
       " 'germanctr.de': 28,\n",
       " 'informatics.jax.org': 28,\n",
       " 'bioinfo.life.hust.edu.cn': 27,\n",
       " 'portal.gdc.cancer.gov': 27,\n",
       " 'broadinstitute.org': 27,\n",
       " 'acponline.org': 27,\n",
       " 'string-db.org': 26,\n",
       " 'bis.zju.edu.cn': 26,\n",
       " 'bioportal.bioontology.org': 26,\n",
       " 'evidence.nihr.ac.uk': 26,\n",
       " 'link.springer.com': 26,\n",
       " 'metagenomics.atc.tcs.com': 26,\n",
       " 'pubmed.gov': 26,\n",
       " 'nature.com': 26,\n",
       " 'researchregistry.com': 26,\n",
       " 'surgicalneurologyint.com': 25,\n",
       " 'mips.helmholtz-muenchen.de': 25,\n",
       " 'pier.acponline.org': 25,\n",
       " 'aseronline.org': 25,\n",
       " 'jhc.org': 25,\n",
       " 'ijhpr.org': 25,\n",
       " 'sorg-apps.shinyapps.io': 24,\n",
       " 'bioinformatics.ust.hk': 24,\n",
       " 'go.nature.com': 24,\n",
       " 'bioinformatics.charite.de': 24,\n",
       " 'img.jgi.doe.gov': 24,\n",
       " 'pubchem.ncbi.nlm.nih.gov': 24,\n",
       " 'bioinformatics.ua.pt': 24,\n",
       " 'purl.obolibrary.org': 24,\n",
       " 'lab.malab.cn': 24,\n",
       " 'csb.cse.yzu.edu.tw': 24,\n",
       " 'reproduction-online.org': 24,\n",
       " 'closeconcerns.com': 24,\n",
       " 'hdl.handle.net': 23,\n",
       " 'en.wikipedia.org': 23,\n",
       " 'professional.diabetes.org': 23,\n",
       " 'opig.stats.ox.ac.uk': 23,\n",
       " 'bio-bigdata.hrbmu.edu.cn': 23,\n",
       " 'ec.europa.eu': 23,\n",
       " 'lovd.nl': 23,\n",
       " 'epa.gov': 23,\n",
       " 'sciencedirect.com': 23,\n",
       " 'webcitation': 23,\n",
       " 'jshbps.jp': 23,\n",
       " 'caps.ncbs.res.in': 22,\n",
       " 'drive.google.com': 22,\n",
       " 'ctdbase.org': 22,\n",
       " 'galaxy.seoklab.org': 22,\n",
       " 'bioinformatics.bc.edu': 22,\n",
       " 'usegalaxy.org': 22,\n",
       " 'purl.org': 22,\n",
       " 'gbif.org': 22,\n",
       " 'charmm-gui.org': 22,\n",
       " 'cazy.org': 22,\n",
       " 'pharmgkb.org': 22,\n",
       " 'bioserv.rpbs.univ-paris-diderot.fr': 21,\n",
       " 'bibliometric.com': 21,\n",
       " 'academic.oup.com': 21,\n",
       " 'microrna.gr': 21,\n",
       " 'helixweb.nih.gov': 21,\n",
       " 'kiharalab.org': 21,\n",
       " 'ophid.utoronto.ca': 21,\n",
       " 'genomebiology.biomedcentral.com': 21,\n",
       " 'imgt.org': 21,\n",
       " 'reactome.org': 21,\n",
       " 'nice.org.uk': 21,\n",
       " 'health.gov.on.ca': 21,\n",
       " 'theplantlist.org': 21,\n",
       " 'imtech.res.in': 21,\n",
       " 'bioinformatics.org': 20,\n",
       " 'biomine.cs.vcu.edu': 20,\n",
       " 'exon.niaid.nih.gov': 20,\n",
       " 'biomine.ece.ualberta.ca': 20,\n",
       " 'mg.kg': 20,\n",
       " 'csbio.njust.edu.cn': 20,\n",
       " 'david.abcc.ncifcrf.gov': 20,\n",
       " 'blast.ncbi.nlm.nih.gov': 20,\n",
       " 'genomemedicine.com': 20,\n",
       " 'clinicaltrials.jp': 20,\n",
       " 'way2drug.com': 20,\n",
       " 'ema.europa.eu': 20,\n",
       " 'team.inria.fr': 19,\n",
       " 'geneontology.org': 19,\n",
       " 'rth.dk': 19,\n",
       " 'yanglab.nankai.edu.cn': 19,\n",
       " 'bioinfo.ncu.edu.cn': 19,\n",
       " 'sysbio.rnet.missouri.edu': 19,\n",
       " '2021.osf.io': 19,\n",
       " 'clinicaltrails.gov': 19,\n",
       " 'protein.bio.unipd.it': 19,\n",
       " 'cs.cmu.edu': 19,\n",
       " 'bioinfo.org': 19,\n",
       " 'cochrane.org': 19,\n",
       " 'dei.unipd.it': 19,\n",
       " 'csbl.bmb.uga.edu': 18,\n",
       " 'i.uestc.edu.cn': 18,\n",
       " 'bioinfo.iconcologia.net': 18,\n",
       " 'r2.amc.nl': 18,\n",
       " 'bioinfo.imtech.res.in': 18,\n",
       " 'legacy.library.ucsf.edu': 18,\n",
       " 'uroweb.org': 18,\n",
       " 'bioinfo.henu.edu.cn': 18,\n",
       " 'research.nhgri.nih.gov': 18,\n",
       " 'scholar.google.com': 18,\n",
       " 'loschmidt.chemi.muni.cz': 18,\n",
       " 'cs.tau.ac.il': 18,\n",
       " 'accessdata.fda.gov': 18,\n",
       " 'fao.org': 18,\n",
       " 'cadth.ca': 18,\n",
       " 'moh.gov.sg': 18,\n",
       " 'bioinformatics.biol.uoa.gr': 17,\n",
       " 'theta.utoronto.ca': 17,\n",
       " 'nipgr.res.in': 17,\n",
       " 'aspredicted.org': 17,\n",
       " 'starbase.sysu.edu.cn': 17,\n",
       " 'nematode.net': 17,\n",
       " 'web.iitm.ac.in': 17,\n",
       " 'goreni.org': 17,\n",
       " 'gepia.cancer-pku.cn': 17,\n",
       " 'surfer.nmr.mgh.harvard.edu': 17,\n",
       " 'wileyhealthlearning.com': 17,\n",
       " 'reading.ac.uk': 17,\n",
       " 'bioinf.uni-leipzig.de': 17,\n",
       " 'equator-network.org': 17,\n",
       " 'manu.edu.mk': 17,\n",
       " 'iitm.ac.in': 17,\n",
       " 'picb.ac.cn': 17,\n",
       " 'mdpi.com': 17,\n",
       " 'erad.org': 17,\n",
       " 'cancergenome.nih.gov': 16,\n",
       " 'dna.cs.miami.edu': 16,\n",
       " 'hive.biochemistry.gwu.edu': 16,\n",
       " 'biohealth.snu.ac.kr': 16,\n",
       " 'discover.nci.nih.gov': 16,\n",
       " 'engr.uconn.edu': 16,\n",
       " 'bioinformatics.mdanderson.org': 16,\n",
       " 'hivdb.stanford.edu': 16,\n",
       " 'clinicaltrials.org': 16,\n",
       " 'cssb.biology.gatech.edu': 16,\n",
       " 'cbioportal.org': 16,\n",
       " 'prisma-statement.org': 16,\n",
       " 'kegg.jp': 16,\n",
       " 'acgih.org': 16,\n",
       " 'cuilab.cn': 16,\n",
       " 'atgc-montpellier.fr': 16,\n",
       " 'jjwanglab.org': 15,\n",
       " 'bio.kuas.edu.tw': 15,\n",
       " 'nd.edu': 15,\n",
       " 'cadd.zju.edu.cn': 15,\n",
       " 'galaxyproject.org': 15,\n",
       " 'mdl.shsmu.edu.cn': 15,\n",
       " 'amp.pharm.mssm.edu': 15,\n",
       " 'mmb.irbbarcelona.org': 15,\n",
       " 'csdb.glycoscience.ru': 15,\n",
       " 'clincaltrials.gov': 15,\n",
       " 'lifecenter.sgst.cn': 15,\n",
       " 'compbio.clemson.edu': 15,\n",
       " 'courses.elseviercme.com': 15,\n",
       " 'mlda.swu.edu.cn': 15,\n",
       " 'oncomine.org': 15,\n",
       " 'cancer.gov': 15,\n",
       " 'ibi.vu.nl': 15,\n",
       " 'slicer.org': 15,\n",
       " 'violinet.org': 15,\n",
       " 'lcqb.upmc.fr': 15,\n",
       " 'stats.ox.ac.uk': 15,\n",
       " 'zbh.uni-hamburg.de': 15,\n",
       " 'scfbio-iitd.res.in': 15,\n",
       " 'ccb.uni-saarland.de': 15,\n",
       " 'wikipathways.org': 15,\n",
       " 'interpol.int': 15,\n",
       " 'biit.cs.ut.ee': 14,\n",
       " 'bioinformatics.fafu.edu.cn': 14,\n",
       " 'genome.jgi.doe.gov': 14,\n",
       " 'bioinfo3d.cs.tau.ac.il': 14,\n",
       " 'swami.wustl.edu': 14,\n",
       " 'swissmodel.expasy.org': 14,\n",
       " 'odin.mdacc.tmc.edu': 14,\n",
       " 'iimcb.genesilico.pl': 14,\n",
       " 'bioinformatics.cau.edu.cn': 14,\n",
       " 'rna.urmc.rochester.edu': 14,\n",
       " 'cbio.ensmp.fr': 14,\n",
       " 'gsp.tamu.edu': 14,\n",
       " 'statgen.snu.ac.kr': 14,\n",
       " 'research.cchmc.org': 14,\n",
       " 'bioinfo.mc.vanderbilt.edu': 14,\n",
       " 'sorfs.org': 14,\n",
       " 'doi.ieeecomputersociety.org': 14,\n",
       " 'live.ece.utexas.edu': 14,\n",
       " 'cabn.psychonomic-journals.org': 14,\n",
       " 'bioinformatics.cs.vt.edu': 14,\n",
       " 'fa.irct.ir': 14,\n",
       " 'tiny.cc': 14,\n",
       " 'encodeproject.org': 14,\n",
       " 'chibi.ubc.ca': 14,\n",
       " 'life.bsc.es': 14,\n",
       " 'sailing.cs.cmu.edu': 14,\n",
       " 'nactem.ac.uk': 14,\n",
       " 'gnu.org': 14,\n",
       " 'ddbj.nig.ac.jp': 14,\n",
       " 'peptideatlas.org': 14,\n",
       " 'mathworks.com': 14,\n",
       " 'inetbio.org': 14,\n",
       " 'netpath.org': 14,\n",
       " 'biosino.org': 14,\n",
       " 'iscos.org.uk': 14,\n",
       " 'genoscope.cns.fr': 14,\n",
       " 'proteinatlas.org': 13,\n",
       " 'cabgrid.res.in:8080': 13,\n",
       " 'app.aporc.org': 13,\n",
       " 'durrantlab.com': 13,\n",
       " 'cge.cbs.dtu.dk': 13,\n",
       " 'sun.aei.polsl.pl': 13,\n",
       " 'anaconda.org': 13,\n",
       " 'biocomp.chem.uw.edu.pl': 13,\n",
       " 'biokinet.belozersky.msu.ru': 13,\n",
       " 'compgenomics.utsa.edu': 13,\n",
       " 'aps.unmc.edu': 13,\n",
       " 'bioinfo.icgeb.res.in': 13,\n",
       " 'tools.iedb.org': 13,\n",
       " 'rostlab.org': 13,\n",
       " 'merops.sanger.ac.uk': 13,\n",
       " 'mcg.ustc.edu.cn': 13,\n",
       " 'imagej.net': 13,\n",
       " 'encepp.eu': 13,\n",
       " 'pantherdb.org': 13,\n",
       " 'synapse.org': 13,\n",
       " 'protein.cau.edu.cn': 13,\n",
       " 'structure.bmc.lu.se': 13,\n",
       " 'cs.bgu.ac.il': 13,\n",
       " 'genenames.org': 13,\n",
       " 'mirbase.org': 13,\n",
       " 'stata.com': 13,\n",
       " 'seqan.de': 13,\n",
       " 'gradeworkinggroup.org': 13,\n",
       " 'dsimb.inserm.fr': 13,\n",
       " 'cbil.ece.vt.edu': 13,\n",
       " 'oxfordjournals.org': 13,\n",
       " 'biocreative.org': 13,\n",
       " 'gramene.org': 13,\n",
       " 'bioinf.uni-freiburg.de': 13,\n",
       " 'ngdc.cncb.ac.cn': 12,\n",
       " 'bioinfo.ut.ee': 12,\n",
       " 'ualcan.path.uab.edu': 12,\n",
       " 'genetics.cs.ucla.edu': 12,\n",
       " 'wheat.pw.usda.gov': 12,\n",
       " 'wwpdb.org': 12,\n",
       " 'cmbi.bjmu.edu.cn': 12,\n",
       " 'pine.nmrfam.wisc.edu': 12,\n",
       " 'nclab.hit.edu.cn': 12,\n",
       " 'webclu.bio.wzw.tum.de': 12,\n",
       " 'webtom.cabgrid.res.in': 12,\n",
       " 'bioinfo.eie.polyu.edu.hk': 12,\n",
       " 'thegleelab.org': 12,\n",
       " 'git.io': 12,\n",
       " 'cytoscape.org': 12,\n",
       " 'orcid.org': 12,\n",
       " 'obofoundry.org': 12,\n",
       " 'sfb.kaust.edu.sa': 12,\n",
       " 'bioinf.cs.ucl.ac.uk': 12,\n",
       " 'r-forge.r-project.org': 12,\n",
       " 'huanglab.phys.hust.edu.cn': 12,\n",
       " 'nursing.cochrane.org': 12,\n",
       " 'digbio.missouri.edu': 12,\n",
       " 'eupathdb.org': 12,\n",
       " 'healthinformaticslab.org': 12,\n",
       " 'toxodb.org': 12,\n",
       " 'meps.ahrq.gov': 12,\n",
       " 'metaboanalyst.ca': 12,\n",
       " 'maizegdb.org': 12,\n",
       " 'cell.com': 12,\n",
       " 'waspweb.org': 12,\n",
       " 'bio.ifi.lmu.de': 12,\n",
       " 'cnki.net': 12,\n",
       " 'paineurope.com': 12,\n",
       " 'ncrna.org': 12,\n",
       " 'hqontario.ca': 12,\n",
       " 'bioinformatics.deib.polimi.it': 12,\n",
       " 'asco.org': 12,\n",
       " 'patternlabforproteomics.org': 11,\n",
       " 'smartmedicine.acponline.org': 11,\n",
       " 'mksap.acponline.org': 11,\n",
       " 'plantgrn.noble.org': 11,\n",
       " 'sparks.informatics.iupui.edu': 11,\n",
       " 'rna.sysu.edu.cn': 11,\n",
       " 'sing-group.org': 11,\n",
       " 'public.ukcrn.org.uk': 11,\n",
       " 'register': 11,\n",
       " 'zfin.org': 11,\n",
       " 'cic.scu.edu.cn': 11,\n",
       " 'fhs.mcmaster.ca': 11,\n",
       " 'bioinfo.vanderbilt.edu': 11,\n",
       " 'cbdm.mdc-berlin.de': 11,\n",
       " 'netbio.bgu.ac.il': 11,\n",
       " '111.68.99.218': 11,\n",
       " 'chemyang.ccnu.edu.cn': 11,\n",
       " 'bioinfo.usu.edu': 11,\n",
       " 'bioinfor.imu.edu.cn': 11,\n",
       " 'bioinformatics.ustc.edu.cn': 11,\n",
       " 'pbr.psychonomic-journals.org': 11,\n",
       " 'slctr.lk': 11,\n",
       " 'massive.ucsd.edu': 11,\n",
       " 'bclab.inha.ac.kr': 11,\n",
       " 'regprecise.lbl.gov': 11,\n",
       " 'toolkit.tuebingen.mpg.de': 11,\n",
       " 'predictor.nchu.edu.tw': 11,\n",
       " 'cistrome.org': 11,\n",
       " 'cbcb.umd.edu': 11,\n",
       " 'sing.ei.uvigo.es': 11,\n",
       " 'mcx.space': 11,\n",
       " 'genesilico.pl': 11,\n",
       " 'omabrowser.org': 11,\n",
       " 'iedb.org': 11,\n",
       " 'mirdb.org': 11,\n",
       " 'structure.bioc.cam.ac.uk': 11,\n",
       " 'coronavirus.jhu.edu': 11,\n",
       " 'tcm.cmu.edu.tw': 11,\n",
       " 'regulondb.ccg.unam.mx': 11,\n",
       " 'bar.utoronto.ca': 11,\n",
       " 'maayanlab.net': 11,\n",
       " 'researchweb.org': 11,\n",
       " 'toolshed.g2.bx.psu.edu': 11,\n",
       " 'homes.esat.kuleuven.be': 11,\n",
       " 'lussierlab.org': 11,\n",
       " 'solgenomics.net': 11,\n",
       " 'thejns.org': 11,\n",
       " 'flybase.org': 11,\n",
       " 'david.ncifcrf.gov': 11,\n",
       " 'supfam.org': 11,\n",
       " 'gmql.eu': 11,\n",
       " 'nuclmed.web.auth.gr': 11,\n",
       " 'clinicaltrials.com': 11,\n",
       " 'eucast.org': 11,\n",
       " 'psidev.info': 11,\n",
       " 'brylinski.org': 11,\n",
       " 'sbg.bio.ic.ac.uk': 11,\n",
       " 'path-hta.ca': 11,\n",
       " 'anaesthesiacorrespondence.com': 11,\n",
       " 'genecards.org': 11,\n",
       " 'rna-society.org': 11,\n",
       " 'ingenuity.com': 11,\n",
       " 'rxnfinder.org': 11,\n",
       " 'scopus.com': 11,\n",
       " 'ctcms.nist.gov': 11,\n",
       " 'folk.uio.no': 10,\n",
       " 'clinical': 10,\n",
       " 'bioinformaticstools.mayo.edu': 10,\n",
       " 'syrf.org.uk': 10,\n",
       " 'rna.tbi.univie.ac.at': 10,\n",
       " 'cefg.uestc.edu.cn': 10,\n",
       " 'cwtung.kmu.edu.tw': 10,\n",
       " 'nar.oxfordjournals.org': 10,\n",
       " 'rpcec.sld.cu': 10,\n",
       " 'proteininformatics.org': 10,\n",
       " 'pbil.univ-lyon1.fr': 10,\n",
       " 'teqip.jdvu.ac.in': 10,\n",
       " 'compbio.uthsc.edu': 10,\n",
       " 'csbg.cnb.csic.es': 10,\n",
       " 'biocomputing.it': 10,\n",
       " 'iclab.life.nctu.edu.tw': 10,\n",
       " 'rsb.info.nih.gov': 10,\n",
       " 'kiwi.cs.dal.ca': 10,\n",
       " 'agknapp.chemie.fu-berlin.de': 10,\n",
       " 'sbi.imim.es': 10,\n",
       " 'clue.io': 10,\n",
       " 'hyperbrowser.uio.no': 10,\n",
       " 'commondataelements.ninds.nih.gov': 10,\n",
       " 'kurata14.bio.kyutech.ac.jp': 10,\n",
       " 'adni.loni.usc.edu': 10,\n",
       " 'proteininformationresource.org': 10,\n",
       " 'identifiers.org': 10,\n",
       " 'ekhidna.biocenter.helsinki.fi': 10,\n",
       " 'rna.informatik.uni-freiburg.de': 10,\n",
       " 'clincialtrials.gov': 10,\n",
       " 'mfrlab.org': 10,\n",
       " 'idrblab.org': 10,\n",
       " 'sysbio.org.cn': 10,\n",
       " 'acgt.cs.tau.ac.il': 10,\n",
       " 'rna.physics.missouri.edu': 10,\n",
       " 'molgenis.org': 10,\n",
       " 'nsclbio.jbnu.ac.kr': 10,\n",
       " 'probis.cmm.ki.si': 10,\n",
       " 'consensus.nih.gov': 10,\n",
       " 'jaspar.genereg.net': 10,\n",
       " 'biocc.hrbmu.edu.cn': 10,\n",
       " 'agbase.msstate.edu': 10,\n",
       " 'genomics.senescence.info': 10,\n",
       " 'csbi.ltdk.helsinki.fi': 10,\n",
       " 'rgenome.net': 10,\n",
       " 'asp.net': 10,\n",
       " 'ctj.sagepub.com': 10,\n",
       " 'chemdata.shu.edu.cn': 10,\n",
       " 'lipidmaps.org': 10,\n",
       " 'ssg.uab.edu': 10,\n",
       " 'health.nsw.gov.au': 10,\n",
       " 'iqtree.org': 10,\n",
       " 'megabionet.org': 10,\n",
       " 'metabolomicsworkbench.org': 10,\n",
       " 'compbio.dundee.ac.uk': 10,\n",
       " 'actrec.gov.in': 10,\n",
       " 'flyrnai.org': 10,\n",
       " 'allelefrequencies.net': 10,\n",
       " '.imperial.ac.uk': 10,\n",
       " 'stat.sinica.edu.tw': 10,\n",
       " 'broad.mit.edu': 10,\n",
       " '.montpellier.inra.fr': 10,\n",
       " 'bio-bigdata.net': 10,\n",
       " 'awmf.org': 10,\n",
       " 'cryst.bioc.cam.ac.uk': 10,\n",
       " 'cs.helsinki.fi': 10,\n",
       " 'proteomexchange.org': 10,\n",
       " 'worldometers.info': 10,\n",
       " 'toetsingonline.nl': 10,\n",
       " 'huttenhower.sph.harvard.edu': 9,\n",
       " 'genomevolution.org': 9,\n",
       " 'http': 9,\n",
       " 'tubic.tju.edu.cn': 9,\n",
       " 'ftp.ncbi.nlm.nih.gov': 9,\n",
       " 'research.ics.aalto.fi': 9,\n",
       " 'db.cngb.org': 9,\n",
       " 'ctd.mdibl.org': 9,\n",
       " 'dhsprogram.com': 9,\n",
       " 'winrop.com': 9,\n",
       " 'lbgi.fr': 9,\n",
       " 'bioinformatics.intec.ugent.be': 9,\n",
       " 'rctportal.niph.go.jp': 9,\n",
       " 'gd.eppo.int': 9,\n",
       " 'genome.jouy.inra.fr': 9,\n",
       " 'tomocomd.com': 9,\n",
       " 'integrativemodeling.org': 9,\n",
       " 'unite.ut.ee': 9,\n",
       " 'ep.espacenet.com': 9,\n",
       " 'icbi.at': 9,\n",
       " 'pmlabstack.pythonanywhere.com': 9,\n",
       " 'fiji.sc': 9,\n",
       " 'xmipp.cnb.csic.es': 9,\n",
       " 'hpcwebapps.cit.nih.gov': 9,\n",
       " 'ncbr.muni.cz': 9,\n",
       " 'sb.cs.cmu.edu': 9,\n",
       " 'bioinf.iiit.ac.in': 9,\n",
       " 'bioweb.me': 9,\n",
       " 'fsl.fmrib.ox.ac.uk': 9,\n",
       " 'raptorx.uchicago.edu': 9,\n",
       " 'genome-cancer.ucsc.edu': 9,\n",
       " 'pubpeer.com': 9,\n",
       " 'scratch.proteomics.ics.uci.edu': 9,\n",
       " 'bioinfo.net.in': 9,\n",
       " 'ekhidna2.biocenter.helsinki.fi': 9,\n",
       " 'bioinf.spbau.ru': 9,\n",
       " 'w3id.org': 9,\n",
       " 'webofknowledge.com': 9,\n",
       " 'sysbio.unl.edu': 9,\n",
       " 'metagenomics.iiserb.ac.in': 9,\n",
       " 'web.expasy.org': 9,\n",
       " 'opengrey.eu': 9,\n",
       " 'protocols.io': 9,\n",
       " 'arrowsmith.psych.uic.edu': 9,\n",
       " 'bioinfo.noble.org': 9,\n",
       " 'genome.igib.res.in': 9,\n",
       " 'bioinfo.ahu.edu.cn:8080': 9,\n",
       " 'biodb.sdau.edu.cn': 9,\n",
       " 'jarvis.nist.gov': 9,\n",
       " 'guanlab.ccmb.med.umich.edu': 9,\n",
       " 'tcga-data.nci.nih.gov': 9,\n",
       " 'stanford.edu': 9,\n",
       " 'hulab.ucf.edu': 9,\n",
       " 'bioc.sourceforge.net': 9,\n",
       " 'actamedicaportuguesa.com': 9,\n",
       " 'hiv.lanl.gov': 9,\n",
       " 'pubmed.com': 9,\n",
       " 'omim.org': 9,\n",
       " 'rosaceae.org': 9,\n",
       " 'iuphar-db.org': 9,\n",
       " 'spine.org': 9,\n",
       " 'thecochranelibrary.com': 9,\n",
       " 'mgc.ac.cn': 9,\n",
       " 'isical.ac.in': 9,\n",
       " 'bioinformatics.nl': 9,\n",
       " 'trialsjournal.com': 9,\n",
       " 'cgga.org.cn': 9,\n",
       " 'nii.ac.in': 9,\n",
       " 'dentistryresearch.org': 9,\n",
       " 'bio-bigdata.com': 9,\n",
       " 'cs.ucr.edu': 9,\n",
       " 'rnanut.net': 9,\n",
       " '.warwick.ac.uk': 9,\n",
       " 'cibiv.at': 9,\n",
       " 'nextprot.org': 9,\n",
       " 'phenxtoolkit.org': 9,\n",
       " 'kaggle.com': 9,\n",
       " 'itb.cnr.it': 9,\n",
       " 'niehs.nih.gov': 9,\n",
       " 'c.cdc.gov': 9,\n",
       " 'medresman.org.cn': 9,\n",
       " 'jcvi.org': 9,\n",
       " 'ucl.ac.uk': 9,\n",
       " 'riken.jp': 9,\n",
       " 'bionet.sscc.ru': 9,\n",
       " 'stat.osu.edu': 8,\n",
       " 'wodaklab.org': 8,\n",
       " 'openclinical.net': 8,\n",
       " '219.219.62.123:8888': 8,\n",
       " 'probes.pw.usda.gov': 8,\n",
       " 'ibi.zju.edu.cn': 8,\n",
       " 'bioinformatics.towson.edu': 8,\n",
       " 'acgjournalcme.gi.org': 8,\n",
       " 'microrna.sanger.ac.uk': 8,\n",
       " 'codes.bio': 8,\n",
       " 'pitgroup.org': 8,\n",
       " 'milou.science.uu.nl': 8,\n",
       " 'coiledcoils.chm.bris.ac.uk': 8,\n",
       " 'research.bioinformatics.udel.edu': 8,\n",
       " 'ms.iis.sinica.edu.tw': 8,\n",
       " 'bioware.ucd.ie': 8,\n",
       " 'atted.jp': 8,\n",
       " 'cqb.pku.edu.cn': 8,\n",
       " 'iomics.ugent.be': 8,\n",
       " 'camt.pythonanywhere.com': 8,\n",
       " 'umin': 8,\n",
       " 'compbio.cs.brown.edu': 8,\n",
       " 'urgi.versailles.inra.fr': 8,\n",
       " 'reprod.njmu.edu.cn': 8,\n",
       " 'prime.psc.riken.jp': 8,\n",
       " 'stitch.embl.de': 8,\n",
       " 'genemania.org': 8,\n",
       " 'xenabrowser.net': 8,\n",
       " 'bioinfo.lifl.fr': 8,\n",
       " 'murphylab.web.cmu.edu': 8,\n",
       " 'home.ustc.edu.cn': 8,\n",
       " 'bioinfolab.miamioh.edu': 8,\n",
       " 'education.amjmed.com': 8,\n",
       " 'rsat.ulb.ac.be': 8,\n",
       " 'cosbi.ee.ncku.edu.tw': 8,\n",
       " 'clingen.igib.res.in': 8,\n",
       " 'apps.sanbi.ac.za': 8,\n",
       " 'gitlab.pasteur.fr': 8,\n",
       " 'bioconda.github.io': 8,\n",
       " 'physionet.org': 8,\n",
       " 'tcoffee.crg.cat': 8,\n",
       " 'datamining-iip.fudan.edu.cn': 8,\n",
       " 'omics.informatics.indiana.edu': 8,\n",
       " 'service.bioinformatik.uni-saarland.de': 8,\n",
       " 'registroclinico.sld.cu': 8,\n",
       " 'evryrna.ibisc.univ-evry.fr': 8,\n",
       " 'terciario.se': 8,\n",
       " 'bidd.nus.edu.sg': 8,\n",
       " 'biotech.bmi.ac.cn': 8,\n",
       " 'fantom.gsc.riken.jp': 8,\n",
       " 'meme.nbcr.net': 8,\n",
       " 'gene3d.biochem.ucl.ac.uk': 8,\n",
       " 'systbio.cau.edu.cn': 8,\n",
       " 'admis.fudan.edu.cn': 8,\n",
       " 'lmmd.ecust.edu.cn': 8,\n",
       " 'biodev.cea.fr': 8,\n",
       " 'ntp.niehs.nih.gov': 8,\n",
       " 'cbdm-01.zdv.uni-mainz.de': 8,\n",
       " 'bmcbiol.biomedcentral.com': 8,\n",
       " 'genetics.ucla.edu': 8,\n",
       " 'omics.pnl.gov': 8,\n",
       " 'icpr.jci.edu.cn': 8,\n",
       " 'compbio.cs.toronto.edu': 8,\n",
       " 'yiplab.cse.cuhk.edu.hk': 8,\n",
       " 'bioinf.eva.mpg.de': 8,\n",
       " 'epregistry.com.br': 8,\n",
       " 'share.streamlit.io': 8,\n",
       " 'sciencemag.org': 8,\n",
       " 'biocomp.unibo.it': 8,\n",
       " 'bidd2.nus.edu.sg': 8,\n",
       " 'primerdigital.com': 8,\n",
       " 'bioinf.mind.meiji.ac.jp': 8,\n",
       " 'licpathway.net': 8,\n",
       " 'nasn.org': 8,\n",
       " 'wormbase.org': 8,\n",
       " 'freepatentsonline.com': 8,\n",
       " 'medresman.org': 8,\n",
       " 'mr.vc': 8,\n",
       " 'ajplegacy.physiology.org': 8,\n",
       " 'ensemblgenomes.org': 8,\n",
       " 'openms.de': 8,\n",
       " 'vectorbase.org': 8,\n",
       " 'myexperiment.org': 8,\n",
       " 'cs.utexas.edu': 8,\n",
       " 'bi.cs.titech.ac.jp': 8,\n",
       " 'noncode.org': 8,\n",
       " 'biorxiv.org': 8,\n",
       " 'megasoftware.net': 8,\n",
       " 'thieme-connect.de': 8,\n",
       " 'cmbi.ru.nl': 8,\n",
       " 'pkumdl.cn': 8,\n",
       " 'facebook.com': 8,\n",
       " 'unc.edu': 8,\n",
       " 'a.biotec.or.th': 8,\n",
       " 'integratomics-time.com': 8,\n",
       " 'animalgenome.org': 8,\n",
       " 'researchsquare.com': 8,\n",
       " 'cathdb.info': 8,\n",
       " 'dropbox.com': 8,\n",
       " 'guideline.gov': 8,\n",
       " 'hsph.harvard.edu': 8,\n",
       " 'asia-spinalinjury.org': 8,\n",
       " 'toxpath.org': 8,\n",
       " 'cs.tut.fi': 8,\n",
       " 'metaxis.com': 8,\n",
       " 'caspur.it': 8,\n",
       " 'bioinformatics.org.au': 7,\n",
       " 'design.rxnfinder.org': 7,\n",
       " 'glycanstructure.org': 7,\n",
       " 'clinical-trials.gov': 7,\n",
       " 'archive.org': 7,\n",
       " 'faostat.fao.org': 7,\n",
       " 'biodev.extra.cea.fr': 7,\n",
       " 'soft.bioinfo-minzhao.org': 7,\n",
       " 'github': 7,\n",
       " 'animal.nwsuaf.edu.cn': 7,\n",
       " 'bigsdb.pasteur.fr': 7,\n",
       " 'dl.dropbox.com': 7,\n",
       " 'isolate.fusariumdb.org': 7,\n",
       " 'cansar.icr.ac.uk': 7,\n",
       " 'bioinformatics.med.yale.edu': 7,\n",
       " 'structuralbiology.cau.edu.cn': 7,\n",
       " 'app.psychonomic-journals.org': 7,\n",
       " 'docs.google.com': 7,\n",
       " 'rsbweb.nih.gov': 7,\n",
       " 'plants.ensembl.org': 7,\n",
       " 'wanglab.ucsd.edu': 7,\n",
       " 'cobi.uestc.edu.cn': 7,\n",
       " 'sunlab.cpy.cuhk.edu.hk': 7,\n",
       " 'bioinformatics.csu.edu.cn': 7,\n",
       " 'proteins.plus': 7,\n",
       " 'homepages.inf.ed.ac.uk': 7,\n",
       " 'imed.med.ucm.es': 7,\n",
       " 'ngs.ym.edu.tw': 7,\n",
       " 'jjj.bio.vu.nl': 7,\n",
       " 'metlin.scripps.edu': 7,\n",
       " 'sunflower.kuicr.kyoto-u.ac.jp': 7,\n",
       " 'aliasgharheidari.com': 7,\n",
       " 'subtiwiki.uni-goettingen.de': 7,\n",
       " 'thebiogrid.org': 7,\n",
       " 's.tartaglialab.com': 7,\n",
       " 'arabidopsis.org': 7,\n",
       " 'stacks.cdc.gov': 7,\n",
       " 'noble.gs.washington.edu': 7,\n",
       " 'rna.bgsu.edu': 7,\n",
       " 'elm.eu.org': 7,\n",
       " 'ccb.jhu.edu': 7,\n",
       " 'biogps.org': 7,\n",
       " 'cpclab.uni-duesseldorf.de': 7,\n",
       " 'clinical.trials.gov': 7,\n",
       " 'dtclab.webs.com': 7,\n",
       " 'lilab.ecust.edu.cn': 7,\n",
       " 'compbio.cs.umn.edu': 7,\n",
       " 'pdbe.org': 7,\n",
       " 'openneuro.org': 7,\n",
       " 'bicresources.jcbose.ac.in': 7,\n",
       " 'microrna.org': 7,\n",
       " 'csb.shu.edu.cn': 7,\n",
       " 'proline.biochem.iisc.ernet.in': 7,\n",
       " 'gcancer.org': 7,\n",
       " 'engineering.purdue.edu': 7,\n",
       " 'rosie.rosettacommons.org': 7,\n",
       " 'decipher.sanger.ac.uk': 7,\n",
       " 'sfold.wadsworth.org': 7,\n",
       " '2020.osf.io': 7,\n",
       " 'genome.ucf.edu': 7,\n",
       " 'search.cpan.org': 7,\n",
       " 'tanlab.ucdenver.edu': 7,\n",
       " 'compbio.mit.edu': 7,\n",
       " 'talk.ictvonline.org': 7,\n",
       " 'plantpathology.ba.ars.usda.gov': 7,\n",
       " 'mammoth.bcm.tmc.edu': 7,\n",
       " 'biokb.ncpsb.org': 7,\n",
       " 'soykb.org': 7,\n",
       " 'eggnog.embl.de': 7,\n",
       " 'groups.google.com': 7,\n",
       " 'zzdlab.com': 7,\n",
       " 'clintrials.gov': 7,\n",
       " 'mga.bionet.nsc.ru': 7,\n",
       " 'faculty.pieas.edu.pk': 7,\n",
       " 'bioinfo.protres.ru': 7,\n",
       " 'compgen.bio.ub.edu': 7,\n",
       " 'bioinformatics.cise.ufl.edu': 7,\n",
       " 'panoramaweb.org': 7,\n",
       " 'dongjunchung.github.io': 7,\n",
       " 'drugs.com': 7,\n",
       " 'sysbio.suda.edu.cn': 7,\n",
       " 'socialscienceregistry.org': 7,\n",
       " 'alan.cs.gsu.edu': 7,\n",
       " 'trial.gov': 7,\n",
       " 'databases.lovd.nl': 7,\n",
       " 'cdb.ics.uci.edu': 7,\n",
       " 'ddg-pharmfac.net': 7,\n",
       " 'genome.tugraz.at': 7,\n",
       " 'mafft.cbrc.jp': 7,\n",
       " 'genomebiology.com': 7,\n",
       " 'service.tartaglialab.com': 7,\n",
       " 'mspc.bii.a-star.edu.sg': 7,\n",
       " 'play.google.com': 7,\n",
       " 'brl.uiu.ac.bd': 7,\n",
       " 'bioprofiling.de': 7,\n",
       " 't1dbase.org': 7,\n",
       " 'ictv.global': 7,\n",
       " 'doc.aporc.org': 7,\n",
       " 'exac.broadinstitute.org': 7,\n",
       " 'babylone.ulb.ac.be': 7,\n",
       " 'wheatgenome.info': 7,\n",
       " 'covid19.who.int': 7,\n",
       " 'umd.be': 7,\n",
       " 'patricbrc.org': 7,\n",
       " 'yhrd.org': 7,\n",
       " 'genome.cs.nthu.edu.tw': 7,\n",
       " 'copasi.org': 7,\n",
       " 'medrxiv.org': 7,\n",
       " 'immunet.cn': 7,\n",
       " 'fich.unl.edu.ar': 7,\n",
       " 'pride-endodonticguidelines.org': 7,\n",
       " 'rbvi.ucsf.edu': 7,\n",
       " 'lcb.infotech.monash.edu.au': 7,\n",
       " 'biocomputer.bio.cuhk.edu.hk': 7,\n",
       " 'sbml.org': 7,\n",
       " 'mips.gsf.de': 7,\n",
       " 'expasy.org': 7,\n",
       " 'meilerlab.org': 7,\n",
       " 'genome.gov': 7,\n",
       " 'arrayanalysis.org': 7,\n",
       " 'hmdb.ca': 7,\n",
       " 'disease-ontology.org': 7,\n",
       " 'ng.ml': 7,\n",
       " 'cogsys.cs.uni-tuebingen.de': 7,\n",
       " 'consort-statement.org': 7,\n",
       " 'comp.nus.edu.sg': 7,\n",
       " 'ibt.lt': 7,\n",
       " 'cebm.net': 7,\n",
       " 'diabetes.org.uk': 7,\n",
       " '.ccrb.cuhk.edu.hk': 7,\n",
       " 'arb-silva.de': 7,\n",
       " 'tongji.edu.cn': 7,\n",
       " 'aporc.org': 7,\n",
       " 'phytozome.net': 7,\n",
       " 'drugbank.ca': 7,\n",
       " 'tbi.univie.ac.at': 7,\n",
       " 'snmmilearningcenter.org': 7,\n",
       " 'insdc.org': 7,\n",
       " 'gsea-msigdb.org': 7,\n",
       " 'jianglab.cn': 7,\n",
       " 'candidagenome.org': 7,\n",
       " 'acsu.buffalo.edu': 7,\n",
       " 'bcgsc.ca': 7,\n",
       " 'cbs.knaw.nl': 7,\n",
       " 'addgene.org': 7,\n",
       " 'biotec.or.th': 7,\n",
       " 'ece.tamu.edu': 7,\n",
       " 'bioapp.org': 7,\n",
       " 'scbit.org': 7,\n",
       " 'fil.ion.ucl.ac.uk': 7,\n",
       " 'bioinsilico.org': 7,\n",
       " 'grass.cgs.hku.hk': 6,\n",
       " 'prism.ccbb.ku.edu.tr': 6,\n",
       " 'mbb.univ-montp2.fr': 6,\n",
       " 'sysimm.ifrec.osaka-u.ac.jp': 6,\n",
       " 'bioinformatics.med.uoc.gr': 6,\n",
       " 'bioputer.mimuw.edu.pl': 6,\n",
       " 'microbiology.se': 6,\n",
       " '103.99.176.239': 6,\n",
       " 'pmonodon.biotec.or.th': 6,\n",
       " 'pathogenomics.sfu.ca': 6,\n",
       " 'implicit.harvard.edu': 6,\n",
       " 'metnetdb.org': 6,\n",
       " 'lbb.ut.ac.ir': 6,\n",
       " 'mlg.hit.edu.cn': 6,\n",
       " 'show': 6,\n",
       " 'edwards.sdsu.edu': 6,\n",
       " 'abcd.care': 6,\n",
       " 'proteomics.ysu.edu': 6,\n",
       " 'compbio.cs.princeton.edu': 6,\n",
       " 'dbcentre3.jmacct.med.or.jp': 6,\n",
       " 'gensc.org': 6,\n",
       " 'lab6.iitp.ru': 6,\n",
       " 'eur-lex.europa.eu': 6,\n",
       " 'severus.dbmi.pitt.edu': 6,\n",
       " 'amjmed.com': 6,\n",
       " 'hci.iwr.uni-heidelberg.de': 6,\n",
       " 'sysbio.cvm.msstate.edu': 6,\n",
       " 'function.princeton.edu': 6,\n",
       " 'csbio.unc.edu': 6,\n",
       " 'watson.hgen.pitt.edu': 6,\n",
       " 'web.iitd.ac.in': 6,\n",
       " 'gobics.de': 6,\n",
       " 'isg.nist.gov': 6,\n",
       " '14.139.227.92': 6,\n",
       " 'data.gbif.org': 6,\n",
       " 'atoz.ebsco.com': 6,\n",
       " 'lishuyan.lzu.edu.cn': 6,\n",
       " 'nabic.rda.go.kr': 6,\n",
       " 'bioinf.scmb.uq.edu.au': 6,\n",
       " 'esot.org': 6,\n",
       " 'webs2.kazusa.or.jp': 6,\n",
       " 'dna.cs.byu.edu': 6,\n",
       " 'resource.ibab.ac.in': 6,\n",
       " 'bioinformatics.njit.edu': 6,\n",
       " 'bmbl.sdstate.edu': 6,\n",
       " 'antismash.secondarymetabolites.org': 6,\n",
       " 'bioinfo2.ugr.es': 6,\n",
       " 'comp.chem.nottingham.ac.uk': 6,\n",
       " 'bio.informatics.iupui.edu': 6,\n",
       " 'genome.sph.umich.edu': 6,\n",
       " 'cred.pubs.asha.org': 6,\n",
       " 'myvariant.info': 6,\n",
       " 'metalweb.cerm.unifi.it': 6,\n",
       " 'serioussoap.nl': 6,\n",
       " 'db-mml.sjtu.edu.cn': 6,\n",
       " 'cal.tongji.edu.cn': 6,\n",
       " 'samson-connect.net': 6,\n",
       " 'discovery.informatics.uab.edu': 6,\n",
       " 'decisionaid.ohri.ca': 6,\n",
       " 'bio-cluster.iis.sinica.edu.tw': 6,\n",
       " 'cosbi4.ee.ncku.edu.tw': 6,\n",
       " 'compgen.bio.unipd.it': 6,\n",
       " 'seer.cancer.gov': 6,\n",
       " 'mirtarbase.mbc.nctu.edu.tw': 6,\n",
       " 'cpc.cs.qub.ac.uk': 6,\n",
       " 'portals.broadinstitute.org': 6,\n",
       " 'cys.bios.niu.edu': 6,\n",
       " 'zhulab.ahu.edu.cn': 6,\n",
       " 'bioinfo.tsinghua.edu.cn': 6,\n",
       " 'dockground.compbio.ku.edu': 6,\n",
       " 'genome.sfu.ca': 6,\n",
       " 'computationalbiology.cn': 6,\n",
       " 'soybase.org': 6,\n",
       " 'nipgr.ac.in': 6,\n",
       " 'cbc.case.edu': 6,\n",
       " 'gitlab.inria.fr': 6,\n",
       " 'web.rniapps.net': 6,\n",
       " 'weilab.math.msu.edu': 6,\n",
       " 'compbio.cs.sfu.ca': 6,\n",
       " 'mleg.cse.sc.edu': 6,\n",
       " 'purl.oclc.org': 6,\n",
       " 'metabiosys.iiserb.ac.in': 6,\n",
       " 'bix.ucsd.edu': 6,\n",
       " 'darwin.uvigo.es': 6,\n",
       " 'bioinfo-mml.sjtu.edu.cn': 6,\n",
       " 'wallnerlab.org': 6,\n",
       " 'clinicaltrials.gov.unique': 6,\n",
       " 'gdb.unibe.ch': 6,\n",
       " 'lse.ascb.org': 6,\n",
       " 'anzctr.org': 6,\n",
       " 'predictioncenter.org': 6,\n",
       " 'bioinformatica.mty.itesm.mx': 6,\n",
       " 'bioinf.xmu.edu.cn': 6,\n",
       " 'combio.pl': 6,\n",
       " 'mamiris.com': 6,\n",
       " 'sbl.inria.fr': 6,\n",
       " 'adj.hr': 6,\n",
       " ...}"
      ]
     },
     "execution_count": 36,
     "metadata": {},
     "output_type": "execute_result"
    }
   ],
   "source": [
    "dict(sorted(links_stat_lower.items(), key=lambda x: x[1], reverse=True))"
   ]
  },
  {
   "cell_type": "code",
   "execution_count": 34,
   "id": "cecdbfd2-2a46-405e-abaf-65e81dbc4f4d",
   "metadata": {
    "tags": []
   },
   "outputs": [],
   "source": [
    "df = pd.read_csv('../data/articles.tsv', sep='\\t')\n",
    "abstracts = df['Abstract'].to_list()\n",
    "\n",
    "with_http = 0\n",
    "without_http = 0\n",
    "links_stat = {}\n",
    "\n",
    "for abstract in abstracts:\n",
    "    if abstract != None:\n",
    "\n",
    "        if linkify.test(str(abstract)):\n",
    "            for match in linkify.match(str(abstract)):\n",
    "                link = match.raw\n",
    "                if link.startswith('http://github') or link.startswith('https://github'):\n",
    "                    with_http += 1\n",
    "                elif link.startswith('github') :\n",
    "                    without_http += 1\n",
    "                try:\n",
    "                    key = link.split('/')[2]\n",
    "                except:\n",
    "                    try:\n",
    "                        key = link.split('/')[0]\n",
    "                    except:\n",
    "                        key = link\n",
    "                if key in links_stat:\n",
    "                    links_stat[key] += 1\n",
    "                else:\n",
    "                    links_stat[key] = 1"
   ]
  },
  {
   "cell_type": "code",
   "execution_count": 35,
   "id": "f3bfdbd7-e87f-4116-9d52-4449a1fb5f52",
   "metadata": {},
   "outputs": [
    {
     "data": {
      "text/plain": [
       "(10840, 329)"
      ]
     },
     "execution_count": 35,
     "metadata": {},
     "output_type": "execute_result"
    }
   ],
   "source": [
    "with_http, without_http "
   ]
  }
 ],
 "metadata": {
  "kernelspec": {
   "display_name": "Python 3",
   "language": "python",
   "name": "python3"
  },
  "language_info": {
   "codemirror_mode": {
    "name": "ipython",
    "version": 3
   },
   "file_extension": ".py",
   "mimetype": "text/x-python",
   "name": "python",
   "nbconvert_exporter": "python",
   "pygments_lexer": "ipython3",
   "version": "3.9.16"
  }
 },
 "nbformat": 4,
 "nbformat_minor": 5
}

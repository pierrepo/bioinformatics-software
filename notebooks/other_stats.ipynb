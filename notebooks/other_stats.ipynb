{
 "cells": [
  {
   "cell_type": "code",
   "execution_count": 29,
   "id": "7ad63f30-a503-4e34-8a12-0e2b47e1b0a2",
   "metadata": {},
   "outputs": [],
   "source": [
    "import json\n",
    "import re\n",
    "import time\n",
    "\n",
    "import matplotlib.pyplot as plt\n",
    "import numpy as np\n",
    "import os\n",
    "import pandas as pd\n",
    "import sys\n",
    "from tqdm import tqdm\n",
    "import requests\n",
    "import textwrap\n",
    "import xmltodict\n",
    "\n",
    "%reload_ext autoreload\n",
    "%autoreload 2\n",
    "sys.path.append('../scripts')\n",
    "import pbmd_tools as pbmd"
   ]
  },
  {
   "cell_type": "code",
   "execution_count": 3,
   "id": "862288cd-7de1-4a3d-a8d2-72f41a617600",
   "metadata": {},
   "outputs": [],
   "source": [
    "pbmd.read_tokens()\n",
    "GITHUB_TOKEN = os.environ.get(\"GITHUB_TOKEN\")\n",
    "PUBMED_TOKEN = os.environ.get(\"PUBMED_TOKEN\")"
   ]
  },
  {
   "cell_type": "markdown",
   "id": "b92fb4e4-570d-49ec-90af-0c11cafffdb1",
   "metadata": {},
   "source": [
    "## Last commit analysis"
   ]
  },
  {
   "cell_type": "code",
   "execution_count": 4,
   "id": "069cdc7e-2708-4cdf-b902-acbf2c2499ad",
   "metadata": {},
   "outputs": [
    {
     "name": "stdout",
     "output_type": "stream",
     "text": [
      "Files changed in the last commit:\n",
      "\n",
      "README.md\n",
      "renano/main.cpp\n"
     ]
    }
   ],
   "source": [
    "owner = 'guilledufort'\n",
    "repo = 'RENANO'\n",
    "\n",
    "files_changed = pbmd.get_last_commit_files(owner, repo, GITHUB_TOKEN)\n",
    "if files_changed:\n",
    "    print('Files changed in the last commit:\\n')\n",
    "    for file in files_changed:\n",
    "        print(file)"
   ]
  },
  {
   "cell_type": "code",
   "execution_count": null,
   "id": "5afea103-6455-4951-93fc-5f99f5647ffe",
   "metadata": {},
   "outputs": [],
   "source": [
    "df = pd.read_csv('../data/articles.tsv', sep='\\t')\n",
    "PMIDs = df['PMID'][df['GitHub_repo'].notna()].to_list()\n",
    "len(PMIDs)"
   ]
  },
  {
   "cell_type": "code",
   "execution_count": null,
   "id": "709bd86b-c5ce-4dc5-9505-f9c2742739c2",
   "metadata": {},
   "outputs": [],
   "source": [
    "for PMID in tqdm(PMIDs):\n",
    "\n",
    "    #with open(\"gitstat.txt\", \"a\") as f:\n",
    "    #    f.write(f\"\\n\\n PMID: {PMID}, GitHub link: {df[df['PMID'] == PMID]['GitHub_link_clean'].values[0]}\")\n",
    "    \n",
    "    last_commit_files = ''\n",
    "    files = get_last_commit_files(df[df['PMID']==PMID]['GitHub_owner'].values[0], df[df['PMID']==PMID]['GitHub_repo'].values[0])\n",
    "    for file in files:\n",
    "        last_commit_files += f\"{file}, \"\n",
    "        \n",
    "    idx = df.index[df['PMID'] == PMID][0]\n",
    "\n",
    "    df.loc[idx, \"Last_commit\"] = last_commit_files"
   ]
  },
  {
   "cell_type": "markdown",
   "id": "89a75d82-b29a-41ec-be35-1468d631152c",
   "metadata": {},
   "source": [
    "# A large-scale analysis of bioinformatics code on GitHub\n",
    "### DOI: 10.1371/journal.pone.0205898"
   ]
  },
  {
   "cell_type": "code",
   "execution_count": 6,
   "id": "888f94b8-f47d-47cb-899c-e6bad970155a",
   "metadata": {},
   "outputs": [],
   "source": [
    "url = 'https://doi.org/10.1371/journal.pone.0205898.s005'\n",
    "response = requests.get(url)\n",
    "with open(f\"../data/{url.split('/')[3]}.xlsx\", 'wb') as f:\n",
    "    f.write(response.content)\n",
    "\n",
    "df = pd.read_excel(f\"../data/{url.split('/')[3]}.xlsx\")"
   ]
  },
  {
   "cell_type": "code",
   "execution_count": 16,
   "id": "89ea67f1-442f-4214-8d02-847adacc9de3",
   "metadata": {},
   "outputs": [
    {
     "data": {
      "text/plain": [
       "1720"
      ]
     },
     "execution_count": 16,
     "metadata": {},
     "output_type": "execute_result"
    }
   ],
   "source": [
    "df = df[df['use_repo']==1]\n",
    "len(df)"
   ]
  },
  {
   "cell_type": "code",
   "execution_count": 19,
   "id": "8226facd-b137-44c2-8785-cf6bd9c53db9",
   "metadata": {},
   "outputs": [],
   "source": [
    "df['GitHub_owner'] = df['repo_name'].apply(lambda x: x.split('/')[0])\n",
    "df['GitHub_repo'] = df['repo_name'].apply(lambda x: x.split('/')[1])\n",
    "df['GitHub_link']= df['repo_name'].apply(lambda x: 'https://github.com/' + str(x) + '/')"
   ]
  },
  {
   "cell_type": "code",
   "execution_count": 18,
   "id": "d8a967c1-3640-47ac-9e71-5f9e3bfdd5a3",
   "metadata": {},
   "outputs": [
    {
     "name": "stderr",
     "output_type": "stream",
     "text": [
      "100%|██████████| 1720/1720 [08:22<00:00,  3.42it/s]\n"
     ]
    }
   ],
   "source": [
    "for num in tqdm(df.iloc[:, 0].to_list()):\n",
    "\n",
    "    info = pbmd.get_repo_info(df[df.iloc[:, 0]==num]['GitHub_owner'].values[0], df[df.iloc[:, 0]==num]['GitHub_repo'].values[0], GITHUB_TOKEN, \"stat.txt\")\n",
    "\n",
    "    if info[\"status\"]: \n",
    "        idx = df.index[df.iloc[:, 0]==num][0]\n",
    "\n",
    "        df.loc[idx, \"Repo_created_at\"] = pbmd.get_repo_date_created(info)\n",
    "        df.loc[idx, \"Repo_updated_at\"] = pbmd.get_repo_date_updated(info)\n",
    "        df.loc[idx, \"Fork\"] = pbmd.is_fork(info)\n"
   ]
  },
  {
   "cell_type": "code",
   "execution_count": 22,
   "id": "11617613-92cd-4019-9bfd-141c24622857",
   "metadata": {},
   "outputs": [
    {
     "name": "stderr",
     "output_type": "stream",
     "text": [
      "100%|██████████| 1720/1720 [03:26<00:00,  8.34it/s]\n"
     ]
    }
   ],
   "source": [
    "for num in tqdm(df.iloc[:, 0].to_list()):\n",
    "\n",
    "    info = pbmd.check_is_in_softwh(df[df.iloc[:, 0]==num]['GitHub_link'].values[0])\n",
    "\n",
    "    idx = df.index[df.iloc[:, 0]==num][0]\n",
    "\n",
    "    df.loc[idx, \"In_SoftWH\"] = pbmd.is_in_softwh(info)\n",
    "    df.loc[idx, \"Archived\"] = pbmd.get_date_archived(info)"
   ]
  },
  {
   "cell_type": "code",
   "execution_count": 23,
   "id": "dbc57e50-79c4-47e8-b2c1-940ca9e95f32",
   "metadata": {},
   "outputs": [
    {
     "name": "stderr",
     "output_type": "stream",
     "text": [
      "<ipython-input-23-7f8a08a9cd80>:1: UserWarning: Boolean Series key will be reindexed to match DataFrame index.\n",
      "  len(set(df[df['In_SoftWH'] == 1][df['use_repo'] == 1]['repo_name'].to_list()))\n"
     ]
    },
    {
     "data": {
      "text/plain": [
       "1632"
      ]
     },
     "execution_count": 23,
     "metadata": {},
     "output_type": "execute_result"
    }
   ],
   "source": [
    "len(set(df[df['In_SoftWH'] == 1][df['use_repo'] == 1]['repo_name'].to_list()))"
   ]
  },
  {
   "cell_type": "code",
   "execution_count": 24,
   "id": "3379e865-44da-41e8-b361-27189c4d584b",
   "metadata": {},
   "outputs": [
    {
     "name": "stderr",
     "output_type": "stream",
     "text": [
      "<ipython-input-24-82aaf8ff4134>:1: UserWarning: Boolean Series key will be reindexed to match DataFrame index.\n",
      "  len(set(df[df['In_SoftWH'] == 0][df['use_repo'] == 1]['repo_name'].to_list()))\n"
     ]
    },
    {
     "data": {
      "text/plain": [
       "88"
      ]
     },
     "execution_count": 24,
     "metadata": {},
     "output_type": "execute_result"
    }
   ],
   "source": [
    "len(set(df[df['In_SoftWH'] == 0][df['use_repo'] == 1]['repo_name'].to_list()))"
   ]
  },
  {
   "cell_type": "code",
   "execution_count": 25,
   "id": "89a98416-4419-4a41-8f45-42f7702a9d23",
   "metadata": {},
   "outputs": [
    {
     "name": "stderr",
     "output_type": "stream",
     "text": [
      "<ipython-input-25-214bd0e691a8>:1: UserWarning: Boolean Series key will be reindexed to match DataFrame index.\n",
      "  len(set(df[df['Repo_created_at'].isna()][df['use_repo'] == 1]['repo_name'].to_list()))\n"
     ]
    },
    {
     "data": {
      "text/plain": [
       "18"
      ]
     },
     "execution_count": 25,
     "metadata": {},
     "output_type": "execute_result"
    }
   ],
   "source": [
    "len(set(df[df['Repo_created_at'].isna()][df['use_repo'] == 1]['repo_name'].to_list()))"
   ]
  },
  {
   "cell_type": "code",
   "execution_count": 26,
   "id": "1f97d603-f4f2-44aa-89f7-78f82028fb36",
   "metadata": {},
   "outputs": [
    {
     "name": "stderr",
     "output_type": "stream",
     "text": [
      "<ipython-input-26-0b846f606168>:1: UserWarning: Boolean Series key will be reindexed to match DataFrame index.\n",
      "  len(set(df[df['Repo_created_at'].isna()][df['In_SoftWH'] == 0][df['use_repo'] == 1]['repo_name'].to_list()))\n"
     ]
    },
    {
     "data": {
      "text/plain": [
       "0"
      ]
     },
     "execution_count": 26,
     "metadata": {},
     "output_type": "execute_result"
    }
   ],
   "source": [
    "len(set(df[df['Repo_created_at'].isna()][df['In_SoftWH'] == 0][df['use_repo'] == 1]['repo_name'].to_list()))"
   ]
  },
  {
   "cell_type": "code",
   "execution_count": 28,
   "id": "cf9231aa-ee27-450f-b055-92fd1bf299a7",
   "metadata": {},
   "outputs": [],
   "source": [
    "df.to_csv('../data/file_info.tsv', sep='\\t', index=False)"
   ]
  },
  {
   "cell_type": "code",
   "execution_count": 31,
   "id": "9e919d88-6cb8-4f0d-9b92-e166dae97088",
   "metadata": {},
   "outputs": [
    {
     "ename": "FileNotFoundError",
     "evalue": "[Errno 2] No such file or directory: '../data/articles.tsv'",
     "output_type": "error",
     "traceback": [
      "\u001b[0;31m---------------------------------------------------------------------------\u001b[0m",
      "\u001b[0;31mFileNotFoundError\u001b[0m                         Traceback (most recent call last)",
      "Cell \u001b[0;32mIn[31], line 3\u001b[0m\n\u001b[1;32m      1\u001b[0m fig, ax \u001b[38;5;241m=\u001b[39m plt\u001b[38;5;241m.\u001b[39msubplots(\u001b[38;5;241m1\u001b[39m,\u001b[38;5;241m2\u001b[39m, figsize\u001b[38;5;241m=\u001b[39m(\u001b[38;5;241m28\u001b[39m, \u001b[38;5;241m8\u001b[39m))\n\u001b[0;32m----> 3\u001b[0m df \u001b[38;5;241m=\u001b[39m \u001b[43mpd\u001b[49m\u001b[38;5;241;43m.\u001b[39;49m\u001b[43mread_csv\u001b[49m\u001b[43m(\u001b[49m\u001b[38;5;124;43m'\u001b[39;49m\u001b[38;5;124;43m../data/articles.tsv\u001b[39;49m\u001b[38;5;124;43m'\u001b[39;49m\u001b[43m,\u001b[49m\u001b[43m \u001b[49m\u001b[43msep\u001b[49m\u001b[38;5;241;43m=\u001b[39;49m\u001b[38;5;124;43m'\u001b[39;49m\u001b[38;5;130;43;01m\\t\u001b[39;49;00m\u001b[38;5;124;43m'\u001b[39;49m\u001b[43m)\u001b[49m\n\u001b[1;32m      4\u001b[0m journals_article \u001b[38;5;241m=\u001b[39m df[\u001b[38;5;124m'\u001b[39m\u001b[38;5;124mJournal\u001b[39m\u001b[38;5;124m'\u001b[39m]\u001b[38;5;241m.\u001b[39mvalue_counts()\u001b[38;5;241m.\u001b[39mto_dict()\n\u001b[1;32m      5\u001b[0m journals \u001b[38;5;241m=\u001b[39m \u001b[38;5;28mlist\u001b[39m(journals_article\u001b[38;5;241m.\u001b[39mkeys())[:\u001b[38;5;241m20\u001b[39m]\n",
      "File \u001b[0;32m~/miniconda3/envs/bioinfosoft/lib/python3.9/site-packages/pandas/util/_decorators.py:211\u001b[0m, in \u001b[0;36mdeprecate_kwarg.<locals>._deprecate_kwarg.<locals>.wrapper\u001b[0;34m(*args, **kwargs)\u001b[0m\n\u001b[1;32m    209\u001b[0m     \u001b[38;5;28;01melse\u001b[39;00m:\n\u001b[1;32m    210\u001b[0m         kwargs[new_arg_name] \u001b[38;5;241m=\u001b[39m new_arg_value\n\u001b[0;32m--> 211\u001b[0m \u001b[38;5;28;01mreturn\u001b[39;00m \u001b[43mfunc\u001b[49m\u001b[43m(\u001b[49m\u001b[38;5;241;43m*\u001b[39;49m\u001b[43margs\u001b[49m\u001b[43m,\u001b[49m\u001b[43m \u001b[49m\u001b[38;5;241;43m*\u001b[39;49m\u001b[38;5;241;43m*\u001b[39;49m\u001b[43mkwargs\u001b[49m\u001b[43m)\u001b[49m\n",
      "File \u001b[0;32m~/miniconda3/envs/bioinfosoft/lib/python3.9/site-packages/pandas/util/_decorators.py:331\u001b[0m, in \u001b[0;36mdeprecate_nonkeyword_arguments.<locals>.decorate.<locals>.wrapper\u001b[0;34m(*args, **kwargs)\u001b[0m\n\u001b[1;32m    325\u001b[0m \u001b[38;5;28;01mif\u001b[39;00m \u001b[38;5;28mlen\u001b[39m(args) \u001b[38;5;241m>\u001b[39m num_allow_args:\n\u001b[1;32m    326\u001b[0m     warnings\u001b[38;5;241m.\u001b[39mwarn(\n\u001b[1;32m    327\u001b[0m         msg\u001b[38;5;241m.\u001b[39mformat(arguments\u001b[38;5;241m=\u001b[39m_format_argument_list(allow_args)),\n\u001b[1;32m    328\u001b[0m         \u001b[38;5;167;01mFutureWarning\u001b[39;00m,\n\u001b[1;32m    329\u001b[0m         stacklevel\u001b[38;5;241m=\u001b[39mfind_stack_level(),\n\u001b[1;32m    330\u001b[0m     )\n\u001b[0;32m--> 331\u001b[0m \u001b[38;5;28;01mreturn\u001b[39;00m \u001b[43mfunc\u001b[49m\u001b[43m(\u001b[49m\u001b[38;5;241;43m*\u001b[39;49m\u001b[43margs\u001b[49m\u001b[43m,\u001b[49m\u001b[43m \u001b[49m\u001b[38;5;241;43m*\u001b[39;49m\u001b[38;5;241;43m*\u001b[39;49m\u001b[43mkwargs\u001b[49m\u001b[43m)\u001b[49m\n",
      "File \u001b[0;32m~/miniconda3/envs/bioinfosoft/lib/python3.9/site-packages/pandas/io/parsers/readers.py:950\u001b[0m, in \u001b[0;36mread_csv\u001b[0;34m(filepath_or_buffer, sep, delimiter, header, names, index_col, usecols, squeeze, prefix, mangle_dupe_cols, dtype, engine, converters, true_values, false_values, skipinitialspace, skiprows, skipfooter, nrows, na_values, keep_default_na, na_filter, verbose, skip_blank_lines, parse_dates, infer_datetime_format, keep_date_col, date_parser, dayfirst, cache_dates, iterator, chunksize, compression, thousands, decimal, lineterminator, quotechar, quoting, doublequote, escapechar, comment, encoding, encoding_errors, dialect, error_bad_lines, warn_bad_lines, on_bad_lines, delim_whitespace, low_memory, memory_map, float_precision, storage_options)\u001b[0m\n\u001b[1;32m    935\u001b[0m kwds_defaults \u001b[38;5;241m=\u001b[39m _refine_defaults_read(\n\u001b[1;32m    936\u001b[0m     dialect,\n\u001b[1;32m    937\u001b[0m     delimiter,\n\u001b[0;32m   (...)\u001b[0m\n\u001b[1;32m    946\u001b[0m     defaults\u001b[38;5;241m=\u001b[39m{\u001b[38;5;124m\"\u001b[39m\u001b[38;5;124mdelimiter\u001b[39m\u001b[38;5;124m\"\u001b[39m: \u001b[38;5;124m\"\u001b[39m\u001b[38;5;124m,\u001b[39m\u001b[38;5;124m\"\u001b[39m},\n\u001b[1;32m    947\u001b[0m )\n\u001b[1;32m    948\u001b[0m kwds\u001b[38;5;241m.\u001b[39mupdate(kwds_defaults)\n\u001b[0;32m--> 950\u001b[0m \u001b[38;5;28;01mreturn\u001b[39;00m \u001b[43m_read\u001b[49m\u001b[43m(\u001b[49m\u001b[43mfilepath_or_buffer\u001b[49m\u001b[43m,\u001b[49m\u001b[43m \u001b[49m\u001b[43mkwds\u001b[49m\u001b[43m)\u001b[49m\n",
      "File \u001b[0;32m~/miniconda3/envs/bioinfosoft/lib/python3.9/site-packages/pandas/io/parsers/readers.py:605\u001b[0m, in \u001b[0;36m_read\u001b[0;34m(filepath_or_buffer, kwds)\u001b[0m\n\u001b[1;32m    602\u001b[0m _validate_names(kwds\u001b[38;5;241m.\u001b[39mget(\u001b[38;5;124m\"\u001b[39m\u001b[38;5;124mnames\u001b[39m\u001b[38;5;124m\"\u001b[39m, \u001b[38;5;28;01mNone\u001b[39;00m))\n\u001b[1;32m    604\u001b[0m \u001b[38;5;66;03m# Create the parser.\u001b[39;00m\n\u001b[0;32m--> 605\u001b[0m parser \u001b[38;5;241m=\u001b[39m \u001b[43mTextFileReader\u001b[49m\u001b[43m(\u001b[49m\u001b[43mfilepath_or_buffer\u001b[49m\u001b[43m,\u001b[49m\u001b[43m \u001b[49m\u001b[38;5;241;43m*\u001b[39;49m\u001b[38;5;241;43m*\u001b[39;49m\u001b[43mkwds\u001b[49m\u001b[43m)\u001b[49m\n\u001b[1;32m    607\u001b[0m \u001b[38;5;28;01mif\u001b[39;00m chunksize \u001b[38;5;129;01mor\u001b[39;00m iterator:\n\u001b[1;32m    608\u001b[0m     \u001b[38;5;28;01mreturn\u001b[39;00m parser\n",
      "File \u001b[0;32m~/miniconda3/envs/bioinfosoft/lib/python3.9/site-packages/pandas/io/parsers/readers.py:1442\u001b[0m, in \u001b[0;36mTextFileReader.__init__\u001b[0;34m(self, f, engine, **kwds)\u001b[0m\n\u001b[1;32m   1439\u001b[0m     \u001b[38;5;28mself\u001b[39m\u001b[38;5;241m.\u001b[39moptions[\u001b[38;5;124m\"\u001b[39m\u001b[38;5;124mhas_index_names\u001b[39m\u001b[38;5;124m\"\u001b[39m] \u001b[38;5;241m=\u001b[39m kwds[\u001b[38;5;124m\"\u001b[39m\u001b[38;5;124mhas_index_names\u001b[39m\u001b[38;5;124m\"\u001b[39m]\n\u001b[1;32m   1441\u001b[0m \u001b[38;5;28mself\u001b[39m\u001b[38;5;241m.\u001b[39mhandles: IOHandles \u001b[38;5;241m|\u001b[39m \u001b[38;5;28;01mNone\u001b[39;00m \u001b[38;5;241m=\u001b[39m \u001b[38;5;28;01mNone\u001b[39;00m\n\u001b[0;32m-> 1442\u001b[0m \u001b[38;5;28mself\u001b[39m\u001b[38;5;241m.\u001b[39m_engine \u001b[38;5;241m=\u001b[39m \u001b[38;5;28;43mself\u001b[39;49m\u001b[38;5;241;43m.\u001b[39;49m\u001b[43m_make_engine\u001b[49m\u001b[43m(\u001b[49m\u001b[43mf\u001b[49m\u001b[43m,\u001b[49m\u001b[43m \u001b[49m\u001b[38;5;28;43mself\u001b[39;49m\u001b[38;5;241;43m.\u001b[39;49m\u001b[43mengine\u001b[49m\u001b[43m)\u001b[49m\n",
      "File \u001b[0;32m~/miniconda3/envs/bioinfosoft/lib/python3.9/site-packages/pandas/io/parsers/readers.py:1735\u001b[0m, in \u001b[0;36mTextFileReader._make_engine\u001b[0;34m(self, f, engine)\u001b[0m\n\u001b[1;32m   1733\u001b[0m     \u001b[38;5;28;01mif\u001b[39;00m \u001b[38;5;124m\"\u001b[39m\u001b[38;5;124mb\u001b[39m\u001b[38;5;124m\"\u001b[39m \u001b[38;5;129;01mnot\u001b[39;00m \u001b[38;5;129;01min\u001b[39;00m mode:\n\u001b[1;32m   1734\u001b[0m         mode \u001b[38;5;241m+\u001b[39m\u001b[38;5;241m=\u001b[39m \u001b[38;5;124m\"\u001b[39m\u001b[38;5;124mb\u001b[39m\u001b[38;5;124m\"\u001b[39m\n\u001b[0;32m-> 1735\u001b[0m \u001b[38;5;28mself\u001b[39m\u001b[38;5;241m.\u001b[39mhandles \u001b[38;5;241m=\u001b[39m \u001b[43mget_handle\u001b[49m\u001b[43m(\u001b[49m\n\u001b[1;32m   1736\u001b[0m \u001b[43m    \u001b[49m\u001b[43mf\u001b[49m\u001b[43m,\u001b[49m\n\u001b[1;32m   1737\u001b[0m \u001b[43m    \u001b[49m\u001b[43mmode\u001b[49m\u001b[43m,\u001b[49m\n\u001b[1;32m   1738\u001b[0m \u001b[43m    \u001b[49m\u001b[43mencoding\u001b[49m\u001b[38;5;241;43m=\u001b[39;49m\u001b[38;5;28;43mself\u001b[39;49m\u001b[38;5;241;43m.\u001b[39;49m\u001b[43moptions\u001b[49m\u001b[38;5;241;43m.\u001b[39;49m\u001b[43mget\u001b[49m\u001b[43m(\u001b[49m\u001b[38;5;124;43m\"\u001b[39;49m\u001b[38;5;124;43mencoding\u001b[39;49m\u001b[38;5;124;43m\"\u001b[39;49m\u001b[43m,\u001b[49m\u001b[43m \u001b[49m\u001b[38;5;28;43;01mNone\u001b[39;49;00m\u001b[43m)\u001b[49m\u001b[43m,\u001b[49m\n\u001b[1;32m   1739\u001b[0m \u001b[43m    \u001b[49m\u001b[43mcompression\u001b[49m\u001b[38;5;241;43m=\u001b[39;49m\u001b[38;5;28;43mself\u001b[39;49m\u001b[38;5;241;43m.\u001b[39;49m\u001b[43moptions\u001b[49m\u001b[38;5;241;43m.\u001b[39;49m\u001b[43mget\u001b[49m\u001b[43m(\u001b[49m\u001b[38;5;124;43m\"\u001b[39;49m\u001b[38;5;124;43mcompression\u001b[39;49m\u001b[38;5;124;43m\"\u001b[39;49m\u001b[43m,\u001b[49m\u001b[43m \u001b[49m\u001b[38;5;28;43;01mNone\u001b[39;49;00m\u001b[43m)\u001b[49m\u001b[43m,\u001b[49m\n\u001b[1;32m   1740\u001b[0m \u001b[43m    \u001b[49m\u001b[43mmemory_map\u001b[49m\u001b[38;5;241;43m=\u001b[39;49m\u001b[38;5;28;43mself\u001b[39;49m\u001b[38;5;241;43m.\u001b[39;49m\u001b[43moptions\u001b[49m\u001b[38;5;241;43m.\u001b[39;49m\u001b[43mget\u001b[49m\u001b[43m(\u001b[49m\u001b[38;5;124;43m\"\u001b[39;49m\u001b[38;5;124;43mmemory_map\u001b[39;49m\u001b[38;5;124;43m\"\u001b[39;49m\u001b[43m,\u001b[49m\u001b[43m \u001b[49m\u001b[38;5;28;43;01mFalse\u001b[39;49;00m\u001b[43m)\u001b[49m\u001b[43m,\u001b[49m\n\u001b[1;32m   1741\u001b[0m \u001b[43m    \u001b[49m\u001b[43mis_text\u001b[49m\u001b[38;5;241;43m=\u001b[39;49m\u001b[43mis_text\u001b[49m\u001b[43m,\u001b[49m\n\u001b[1;32m   1742\u001b[0m \u001b[43m    \u001b[49m\u001b[43merrors\u001b[49m\u001b[38;5;241;43m=\u001b[39;49m\u001b[38;5;28;43mself\u001b[39;49m\u001b[38;5;241;43m.\u001b[39;49m\u001b[43moptions\u001b[49m\u001b[38;5;241;43m.\u001b[39;49m\u001b[43mget\u001b[49m\u001b[43m(\u001b[49m\u001b[38;5;124;43m\"\u001b[39;49m\u001b[38;5;124;43mencoding_errors\u001b[39;49m\u001b[38;5;124;43m\"\u001b[39;49m\u001b[43m,\u001b[49m\u001b[43m \u001b[49m\u001b[38;5;124;43m\"\u001b[39;49m\u001b[38;5;124;43mstrict\u001b[39;49m\u001b[38;5;124;43m\"\u001b[39;49m\u001b[43m)\u001b[49m\u001b[43m,\u001b[49m\n\u001b[1;32m   1743\u001b[0m \u001b[43m    \u001b[49m\u001b[43mstorage_options\u001b[49m\u001b[38;5;241;43m=\u001b[39;49m\u001b[38;5;28;43mself\u001b[39;49m\u001b[38;5;241;43m.\u001b[39;49m\u001b[43moptions\u001b[49m\u001b[38;5;241;43m.\u001b[39;49m\u001b[43mget\u001b[49m\u001b[43m(\u001b[49m\u001b[38;5;124;43m\"\u001b[39;49m\u001b[38;5;124;43mstorage_options\u001b[39;49m\u001b[38;5;124;43m\"\u001b[39;49m\u001b[43m,\u001b[49m\u001b[43m \u001b[49m\u001b[38;5;28;43;01mNone\u001b[39;49;00m\u001b[43m)\u001b[49m\u001b[43m,\u001b[49m\n\u001b[1;32m   1744\u001b[0m \u001b[43m\u001b[49m\u001b[43m)\u001b[49m\n\u001b[1;32m   1745\u001b[0m \u001b[38;5;28;01massert\u001b[39;00m \u001b[38;5;28mself\u001b[39m\u001b[38;5;241m.\u001b[39mhandles \u001b[38;5;129;01mis\u001b[39;00m \u001b[38;5;129;01mnot\u001b[39;00m \u001b[38;5;28;01mNone\u001b[39;00m\n\u001b[1;32m   1746\u001b[0m f \u001b[38;5;241m=\u001b[39m \u001b[38;5;28mself\u001b[39m\u001b[38;5;241m.\u001b[39mhandles\u001b[38;5;241m.\u001b[39mhandle\n",
      "File \u001b[0;32m~/miniconda3/envs/bioinfosoft/lib/python3.9/site-packages/pandas/io/common.py:856\u001b[0m, in \u001b[0;36mget_handle\u001b[0;34m(path_or_buf, mode, encoding, compression, memory_map, is_text, errors, storage_options)\u001b[0m\n\u001b[1;32m    851\u001b[0m \u001b[38;5;28;01melif\u001b[39;00m \u001b[38;5;28misinstance\u001b[39m(handle, \u001b[38;5;28mstr\u001b[39m):\n\u001b[1;32m    852\u001b[0m     \u001b[38;5;66;03m# Check whether the filename is to be opened in binary mode.\u001b[39;00m\n\u001b[1;32m    853\u001b[0m     \u001b[38;5;66;03m# Binary mode does not support 'encoding' and 'newline'.\u001b[39;00m\n\u001b[1;32m    854\u001b[0m     \u001b[38;5;28;01mif\u001b[39;00m ioargs\u001b[38;5;241m.\u001b[39mencoding \u001b[38;5;129;01mand\u001b[39;00m \u001b[38;5;124m\"\u001b[39m\u001b[38;5;124mb\u001b[39m\u001b[38;5;124m\"\u001b[39m \u001b[38;5;129;01mnot\u001b[39;00m \u001b[38;5;129;01min\u001b[39;00m ioargs\u001b[38;5;241m.\u001b[39mmode:\n\u001b[1;32m    855\u001b[0m         \u001b[38;5;66;03m# Encoding\u001b[39;00m\n\u001b[0;32m--> 856\u001b[0m         handle \u001b[38;5;241m=\u001b[39m \u001b[38;5;28;43mopen\u001b[39;49m\u001b[43m(\u001b[49m\n\u001b[1;32m    857\u001b[0m \u001b[43m            \u001b[49m\u001b[43mhandle\u001b[49m\u001b[43m,\u001b[49m\n\u001b[1;32m    858\u001b[0m \u001b[43m            \u001b[49m\u001b[43mioargs\u001b[49m\u001b[38;5;241;43m.\u001b[39;49m\u001b[43mmode\u001b[49m\u001b[43m,\u001b[49m\n\u001b[1;32m    859\u001b[0m \u001b[43m            \u001b[49m\u001b[43mencoding\u001b[49m\u001b[38;5;241;43m=\u001b[39;49m\u001b[43mioargs\u001b[49m\u001b[38;5;241;43m.\u001b[39;49m\u001b[43mencoding\u001b[49m\u001b[43m,\u001b[49m\n\u001b[1;32m    860\u001b[0m \u001b[43m            \u001b[49m\u001b[43merrors\u001b[49m\u001b[38;5;241;43m=\u001b[39;49m\u001b[43merrors\u001b[49m\u001b[43m,\u001b[49m\n\u001b[1;32m    861\u001b[0m \u001b[43m            \u001b[49m\u001b[43mnewline\u001b[49m\u001b[38;5;241;43m=\u001b[39;49m\u001b[38;5;124;43m\"\u001b[39;49m\u001b[38;5;124;43m\"\u001b[39;49m\u001b[43m,\u001b[49m\n\u001b[1;32m    862\u001b[0m \u001b[43m        \u001b[49m\u001b[43m)\u001b[49m\n\u001b[1;32m    863\u001b[0m     \u001b[38;5;28;01melse\u001b[39;00m:\n\u001b[1;32m    864\u001b[0m         \u001b[38;5;66;03m# Binary mode\u001b[39;00m\n\u001b[1;32m    865\u001b[0m         handle \u001b[38;5;241m=\u001b[39m \u001b[38;5;28mopen\u001b[39m(handle, ioargs\u001b[38;5;241m.\u001b[39mmode)\n",
      "\u001b[0;31mFileNotFoundError\u001b[0m: [Errno 2] No such file or directory: '../data/articles.tsv'"
     ]
    },
    {
     "data": {
      "image/png": "[encoded data removed]",
      "text/plain": [
       "<Figure size 2016x576 with 2 Axes>"
      ]
     },
     "metadata": {
      "needs_background": "light"
     },
     "output_type": "display_data"
    }
   ],
   "source": [
    "fig, ax = plt.subplots(1,2, figsize=(28, 8))\n",
    "\n",
    "df = pd.read_csv('../data/articles.tsv', sep='\\t')\n",
    "journals_article = df['Journal'].value_counts().to_dict()\n",
    "journals = list(journals_article.keys())[:20]\n",
    "values = list(journals_article.values())[:20]\n",
    "wrapped_labels = [textwrap.fill(label, 50) for label in journals]\n",
    "\n",
    "ax[0].bar(journals, values, color='#225ea8')\n",
    "ax[0].set_xticklabels(wrapped_labels, rotation=70, ha='right')\n",
    "ax[0].tick_params(axis='y', labelsize=12) \n",
    "ax[0].tick_params(axis='x', labelsize=12) \n",
    "\n",
    "df = pd.read_csv('file.csv', sep=',')\n",
    "df.loc[df['journal'] == 'PLoS Comput Biol', 'journal'] = 'PLoS Computational Biology'\n",
    "df.loc[df['journal'] == 'BMC bioinformatics', 'journal'] = 'BMC Bioinformatics'\n",
    "df.loc[df['journal'] == 'Nucleic Acids Res', 'journal'] = 'Nucleic Acids Research'\n",
    "df.loc[df['journal'] == 'Genome Biol', 'journal'] = 'Genome Biology'\n",
    "df = df[df['use_repo'] == 1]\n",
    "journals_article = df['journal'].value_counts().to_dict()\n",
    "journals = list(journals_article.keys())[:20]\n",
    "values = list(journals_article.values())[:20]\n",
    "wrapped_labels = [textwrap.fill(label, 50) for label in journals]\n",
    "\n",
    "ax[1].bar(journals, values, color='#225ea8')\n",
    "ax[1].set_xticklabels(wrapped_labels, rotation=70, ha='right')\n",
    "ax[1].tick_params(axis='y', labelsize=12) \n",
    "ax[1].tick_params(axis='x', labelsize=12) \n",
    "\n",
    "\n",
    "plt.show()"
   ]
  },
  {
   "cell_type": "code",
   "execution_count": null,
   "id": "8d26c14e-37cc-446b-a623-83cb2422ddc7",
   "metadata": {},
   "outputs": [],
   "source": [
    "df = pd.read_csv('../data/file_info.tsv', sep='\\t')\n",
    "df = df[df['use_repo'] == 1]\n",
    "\n",
    "fig, ax = plt.subplots(figsize=(10, 7))\n",
    "\n",
    "df_grouped = df.groupby([df['year']]).size().reset_index(name='count')\n",
    "ax.bar(list(set(df['year'].to_list())), df_grouped['count'], color='#41b6c4')\n",
    "\n",
    "df_grouped = df.groupby([df['year'], 'In_SoftWH']).size().reset_index(name='count')\n",
    "df_softwh = df_grouped[df_grouped['In_SoftWH'] == 1]\n",
    "\n",
    "ax.bar(list(set(df['year'].to_list())), df_softwh['count'], color='#a1dab4')\n",
    "\n",
    "ax.set_xlabel('Year', fontsize=12, fontfamily='sans-serif')\n",
    "ax.set_ylabel('Number of articles\\n', fontsize=12, fontfamily='sans-serif')\n",
    "ax.legend([f\"Not in Software Heritage ({sum(df_grouped['count']) - sum(df_softwh['count'])})\", \n",
    "           f\"In Software Heritage ({sum(df_softwh['count'])})\"], fontsize=12)\n",
    "\n",
    "plt.xticks(list(set(df['year'].to_list())), rotation=70)\n",
    "ax.tick_params(axis='y', labelsize=12) \n",
    "ax.tick_params(axis='x', labelsize=12) \n",
    "\n",
    "plt.show()\n"
   ]
  },
  {
   "cell_type": "markdown",
   "id": "e9da054f-6635-4753-ab41-27ea036418c1",
   "metadata": {},
   "source": [
    "# BMC bioinformatics statistics"
   ]
  },
  {
   "cell_type": "code",
   "execution_count": 35,
   "id": "6ff87711-ac6c-4e9d-9e09-476bfb00a834",
   "metadata": {},
   "outputs": [],
   "source": [
    "db = \"pubmed\"\n",
    "domain = \"https://www.ncbi.nlm.nih.gov/entrez/eutils\"\n",
    "retmode = \"json\"\n",
    "queries = []\n",
    "queries_github = []\n",
    "queries_forges = []\n",
    "for year in range(2009, 2023):\n",
    "    queries.append(f'((\"BMC bioinformatics\"[Journal])) AND ((\"{year}/01/01\"[Date - Publication] : \"{year}/12/31\"[Date - Publication]))')\n",
    "    queries_github.append(f'((\"BMC bioinformatics\"[Journal])) AND ((github.com[Title/Abstract])) AND ((\"{year}/01/01\"[Date - Publication] : \"{year}/12/31\"[Date - Publication]))')\n",
    "    queries_forges.append(f'((\"BMC bioinformatics\"[Journal])) AND (((\"//gitlab.\"[Title/Abstract])) OR ((\"sourceforge.net\"[Title/Abstract])) OR (\"googlecode\") OR (\"bitbucket.org\"[Title/Abstract])) AND ((\"{year}/01/01\"[Date - Publication] : \"{year}/12/31\"[Date - Publication]))')"
   ]
  },
  {
   "cell_type": "code",
   "execution_count": 36,
   "id": "c2df7dc1-718c-4c43-a99e-41efb69f5244",
   "metadata": {},
   "outputs": [
    {
     "name": "stderr",
     "output_type": "stream",
     "text": [
      "100%|██████████| 14/14 [00:10<00:00,  1.35it/s]\n",
      "100%|██████████| 14/14 [00:08<00:00,  1.59it/s]\n",
      "100%|██████████| 14/14 [00:08<00:00,  1.59it/s]\n"
     ]
    }
   ],
   "source": [
    "PMIDs_in_journal = []\n",
    "PMIDs_forges = []\n",
    "PMIDs_with_link = []\n",
    "\n",
    "stats_in_journal = pbmd.get_forges_stat(queries, PMIDs_in_journal)\n",
    "stats_forges = pbmd.get_forges_stat(queries_forges, PMIDs_forges)\n",
    "stats_with_link = pbmd.get_forges_stat(queries_github, PMIDs_with_link)"
   ]
  },
  {
   "cell_type": "code",
   "execution_count": 37,
   "id": "3f8c3e40-0df8-4ce3-99de-5481992f529b",
   "metadata": {},
   "outputs": [
    {
     "data": {
      "image/png": "[encoded data removed]",
      "text/plain": [
       "<Figure size 720x504 with 1 Axes>"
      ]
     },
     "metadata": {
      "needs_background": "light"
     },
     "output_type": "display_data"
    }
   ],
   "source": [
    "fig, ax = plt.subplots(figsize=(10, 7))\n",
    "\n",
    "years = list(range(2009, 2023))\n",
    "values_journal = list(stats_in_journal.values())\n",
    "values_links = list(stats_with_link.values())\n",
    "values_forges = list(stats_forges.values())\n",
    "\n",
    "for i in range(14):\n",
    "    values_forges[i] += values_links[i]\n",
    "\n",
    "ax.bar(years, values_journal, color='#225ea8')\n",
    "ax.bar(years, values_forges, color='#41b6c4')\n",
    "ax.bar(years, values_links, color='#a1dab4')\n",
    "\n",
    "ax.legend([f\"All ({sum(values_journal)})\", \n",
    "           f\"With any forge link in abstract ({sum(values_forges)})\",\n",
    "           f\"With 'github.com' in abstract ({sum(values_links)})\"], loc = 'upper center')\n",
    "\n",
    "ax.set_xlabel('\\nYear', fontsize=12, fontfamily='sans-serif')\n",
    "ax.set_ylabel('Number of articles\\n', fontsize=12, fontfamily='sans-serif')\n",
    "ax.set_title('\\nBMC Bioinformatics publications per year\\n', fontsize=15, fontfamily='sans-serif')\n",
    "\n",
    "plt.xticks(years, rotation=70)\n",
    "\n",
    "plt.show()"
   ]
  },
  {
   "cell_type": "markdown",
   "id": "6ec77434-bc47-44f6-9f54-87c41ddfd2a5",
   "metadata": {},
   "source": [
    "# Bioinformatics statistics"
   ]
  },
  {
   "cell_type": "code",
   "execution_count": 32,
   "id": "53193ae8-1dab-42ef-b48b-3f0885965aca",
   "metadata": {},
   "outputs": [],
   "source": [
    "db = \"pubmed\"\n",
    "domain = \"https://www.ncbi.nlm.nih.gov/entrez/eutils\"\n",
    "retmode = \"json\"\n",
    "queries = []\n",
    "queries_github = []\n",
    "queries_forges = []\n",
    "for year in range(2009, 2023):\n",
    "    queries.append(f'((\"Bioinformatics\"[Journal])) AND ((\"{year}/01/01\"[Date - Publication] : \"{year}/12/31\"[Date - Publication]))')\n",
    "    queries_github.append(f'((\"Bioinformatics\"[Journal])) AND ((github.com[Title/Abstract])) AND ((\"{year}/01/01\"[Date - Publication] : \"{year}/12/31\"[Date - Publication]))')\n",
    "    queries_forges.append(f'((\"Bioinformatics\"[Journal])) AND (((\"gitlab\"[Title/Abstract])) OR ((\"sourceforge.net\"[Title/Abstract])) OR (\"googlecode\") OR (\"bitbucket.org\"[Title/Abstract])) AND ((\"{year}/01/01\"[Date - Publication] : \"{year}/12/31\"[Date - Publication]))')"
   ]
  },
  {
   "cell_type": "code",
   "execution_count": 33,
   "id": "8493e933-bf88-4176-bd50-f68a826cf314",
   "metadata": {},
   "outputs": [
    {
     "name": "stderr",
     "output_type": "stream",
     "text": [
      "100%|██████████| 14/14 [00:10<00:00,  1.35it/s]\n",
      "100%|██████████| 14/14 [00:08<00:00,  1.60it/s]\n",
      "100%|██████████| 14/14 [00:09<00:00,  1.48it/s]\n"
     ]
    }
   ],
   "source": [
    "PMIDs_in_journal = []\n",
    "PMIDs_forges = []\n",
    "PMIDs_with_link = []\n",
    "\n",
    "stats_in_journal = pbmd.get_forges_stat(queries, PMIDs_in_journal)\n",
    "stats_forges = pbmd.get_forges_stat(queries_forges, PMIDs_forges)\n",
    "stats_with_link = pbmd.get_forges_stat(queries_github, PMIDs_with_link)"
   ]
  },
  {
   "cell_type": "code",
   "execution_count": 34,
   "id": "7ce1e82c-2e59-4edd-b692-1301c706d9aa",
   "metadata": {},
   "outputs": [
    {
     "data": {
      "image/png": "[encoded data removed]",
      "text/plain": [
       "<Figure size 720x504 with 1 Axes>"
      ]
     },
     "metadata": {
      "needs_background": "light"
     },
     "output_type": "display_data"
    }
   ],
   "source": [
    "fig, ax = plt.subplots(figsize=(10, 7))\n",
    "\n",
    "years = list(range(2009, 2023))\n",
    "values_journal = list(stats_in_journal.values())\n",
    "values_links = list(stats_with_link.values())\n",
    "values_forges = list(stats_forges.values())\n",
    "\n",
    "for i in range(14):\n",
    "    values_forges[i] += values_links[i]\n",
    "\n",
    "ax.bar(years, values_journal, color='#225ea8')\n",
    "ax.bar(years, values_forges, color='#41b6c4')\n",
    "ax.bar(years, values_links, color='#a1dab4')\n",
    "\n",
    "ax.legend([f\"All ({sum(values_journal)})\", \n",
    "           f\"With any forge link in abstract ({sum(values_forges)})\",\n",
    "           f\"With 'github.com' in abstract ({sum(values_links)})\"], loc = 'upper left')\n",
    "\n",
    "ax.set_xlabel('\\nYear', fontsize=12, fontfamily='sans-serif')\n",
    "ax.set_ylabel('Number of articles\\n', fontsize=12, fontfamily='sans-serif')\n",
    "ax.set_title('\\nBioinformatics publications per year\\n', fontsize=15, fontfamily='sans-serif')\n",
    "\n",
    "plt.xticks(years, rotation=70)\n",
    "\n",
    "plt.show()"
   ]
  },
  {
   "cell_type": "markdown",
   "id": "04a4da24-785d-459f-b4fa-52399b30fcc6",
   "metadata": {},
   "source": [
    "# GitLab statistics"
   ]
  },
  {
   "cell_type": "code",
   "execution_count": 48,
   "id": "cae84312-cec2-4a92-97b8-41974e61ffe8",
   "metadata": {},
   "outputs": [],
   "source": [
    "db = \"pubmed\"\n",
    "domain = \"https://www.ncbi.nlm.nih.gov/entrez/eutils\"\n",
    "retmode = \"json\"\n",
    "queries_gitlab = []\n",
    "for year in range(2014, 2023):\n",
    "    queries_gitlab.append(f'(\"gitlab\") AND ((\"{year}/01/01\"[Date - Publication] : \"{year}/12/31\"[Date - Publication]))')"
   ]
  },
  {
   "cell_type": "code",
   "execution_count": 49,
   "id": "ae869ad3-456d-46cf-985a-784384c7d2e4",
   "metadata": {},
   "outputs": [
    {
     "name": "stderr",
     "output_type": "stream",
     "text": [
      "100%|██████████| 9/9 [00:05<00:00,  1.65it/s]\n"
     ]
    }
   ],
   "source": [
    "stats_gitlab = {}\n",
    "PMIDs_gitlab = {'2014': [], '2015': [], '2016': [],'2017': [],'2018': [],'2019': [], '2020': [],'2021': [],'2022': []}\n",
    "\n",
    "for query in tqdm(queries_gitlab):\n",
    "    nb = 0 #number of articles for this query\n",
    "    queryLinkSearch = f\"{domain}/esearch.fcgi?db={db}&retmode={retmode}&retmax=15000&term={query}\"\n",
    "    response = requests.get(queryLinkSearch)\n",
    "    pubmed_json = response.json()\n",
    "    for id in pubmed_json[\"esearchresult\"][\"idlist\"]:\n",
    "        #checking if there are any dublicates in PubMed IDs (it happens because of the PubDate that can be EPubDate or normal)\n",
    "        if id not in PMIDs_gitlab:\n",
    "            nb += 1\n",
    "            PMIDs_gitlab[query[-33:-29]].append(id)\n",
    "    #query[38:42] - it is the year of this query\n",
    "    stats_gitlab[query[-33:-29]] = nb"
   ]
  },
  {
   "cell_type": "code",
   "execution_count": 56,
   "id": "b1af0e4d-b62d-4f92-878b-9397f69f7a08",
   "metadata": {},
   "outputs": [
    {
     "name": "stderr",
     "output_type": "stream",
     "text": [
      "100%|██████████| 9/9 [02:17<00:00, 15.30s/it]\n"
     ]
    }
   ],
   "source": [
    "results = []\n",
    "\n",
    "for year in tqdm(PMIDs_gitlab):\n",
    "    \n",
    "    for PMID in PMIDs_gitlab[year]:\n",
    "        \n",
    "        try:\n",
    "\n",
    "            summary = pbmd.get_summary(PMID, PUBMED_TOKEN, \"../data/status.txt\")\n",
    "            abstract = pbmd.get_abstract_from_summary(summary, \"../data/status.txt\")\n",
    "            pub_year = year\n",
    "        \n",
    "        except:\n",
    "            \n",
    "            continue\n",
    "\n",
    "        results.append((PMID, pub_year, abstract))"
   ]
  },
  {
   "cell_type": "code",
   "execution_count": 57,
   "id": "3f4c3b1d-1f71-45c9-9f82-ed65f0fb8c9c",
   "metadata": {},
   "outputs": [],
   "source": [
    "df = pd.DataFrame.from_records(results)\n",
    "df = df.rename(columns = {0: 'PMID', 1: 'pub_year', 2: 'Abstract'})\n",
    "df = df.drop_duplicates(subset = 'PMID')\n",
    "df = df.reset_index(drop = True)"
   ]
  },
  {
   "cell_type": "code",
   "execution_count": 58,
   "id": "eedc0078-7bfe-4d86-82d9-053bfebc9222",
   "metadata": {},
   "outputs": [],
   "source": [
    "df['gitlab_link'] = df['Abstract'].astype(str).apply(pbmd.get_gitlab_link).apply(pbmd.clean_link)\n",
    "df['is_gitlabcom'] = df['gitlab_link'].apply(pbmd.is_gitlabcom)"
   ]
  },
  {
   "cell_type": "code",
   "execution_count": 59,
   "id": "7ff4a2fa-cbad-43e5-bb84-bb6a90abf76b",
   "metadata": {},
   "outputs": [],
   "source": [
    "stats_gitlabcom = {} \n",
    "\n",
    "for year in range(2014, 2023):\n",
    "    stats_gitlabcom[year] = sum(df[df['pub_year'] == str(year)]['is_gitlabcom'])"
   ]
  },
  {
   "cell_type": "code",
   "execution_count": 61,
   "id": "e8771f9f-988c-4d42-8dcd-19cfade5c2a7",
   "metadata": {},
   "outputs": [
    {
     "data": {
      "image/png": "[encoded data removed]",
      "text/plain": [
       "<Figure size 720x504 with 1 Axes>"
      ]
     },
     "metadata": {
      "needs_background": "light"
     },
     "output_type": "display_data"
    }
   ],
   "source": [
    "fig, ax = plt.subplots(figsize=(10, 7))\n",
    "\n",
    "years = list(range(2014, 2023))\n",
    "values_gitlab = list(stats_gitlab.values())\n",
    "values_gitlabcom = list(stats_gitlabcom.values())\n",
    "\n",
    "ax.bar(years, values_gitlab, color='#225ea8')\n",
    "ax.bar(years, values_gitlabcom, color='#41b6c4')\n",
    "\n",
    "ax.legend([f\"other ({sum(values_gitlab)})\", \n",
    "           f\"gitlab.com ({sum(values_gitlabcom)})\"], loc = 'upper left', fontsize=15)\n",
    "\n",
    "ax.set_xlabel('\\nYear', fontsize=12, fontfamily='sans-serif')\n",
    "ax.set_ylabel('Number of articles\\n', fontsize=12, fontfamily='sans-serif')\n",
    "ax.set_title('GitLab links in publications per year', fontsize=15, fontfamily='sans-serif')\n",
    "\n",
    "plt.xticks(years, rotation=70)\n",
    "\n",
    "plt.savefig(\"../data/images/gitlab.png\")\n",
    "plt.show()"
   ]
  }
 ],
 "metadata": {
  "kernelspec": {
   "display_name": "Python 3",
   "language": "python",
   "name": "python3"
  },
  "language_info": {
   "codemirror_mode": {
    "name": "ipython",
    "version": 3
   },
   "file_extension": ".py",
   "mimetype": "text/x-python",
   "name": "python",
   "nbconvert_exporter": "python",
   "pygments_lexer": "ipython3",
   "version": "3.9.16"
  }
 },
 "nbformat": 4,
 "nbformat_minor": 5
}

{
 "cells": [
  {
   "cell_type": "markdown",
   "id": "43c5ca6a-125a-4118-b3d2-1e45626d1212",
   "metadata": {},
   "source": [
    "# Current Trends in Bioinformatics Software Development and Archiving"
   ]
  },
  {
   "cell_type": "markdown",
   "id": "7d3dd4e1-df0d-4f4f-87ec-c6b495d1d050",
   "metadata": {},
   "source": [
    "### Import libraries"
   ]
  },
  {
   "cell_type": "code",
   "execution_count": 9,
   "id": "2092ef92-81df-4128-a1fa-f728c558bac0",
   "metadata": {},
   "outputs": [],
   "source": [
    "import json\n",
    "import re\n",
    "import time\n",
    "\n",
    "import matplotlib.pyplot as plt\n",
    "import numpy as np\n",
    "import os\n",
    "import pandas as pd\n",
    "import sys\n",
    "from tqdm import tqdm\n",
    "import requests\n",
    "import xmltodict\n",
    "\n",
    "%reload_ext autoreload\n",
    "%autoreload 2\n",
    "sys.path.append('../scripts')\n",
    "import pbmd_tools as pbmd"
   ]
  },
  {
   "cell_type": "code",
   "execution_count": 2,
   "id": "6cef688b-1a6a-4d7a-b017-1ecee4ae40e6",
   "metadata": {},
   "outputs": [
    {
     "name": "stdout",
     "output_type": "stream",
     "text": [
      "Python implementation: CPython\n",
      "Python version       : 3.9.16\n",
      "IPython version      : 8.11.0\n",
      "\n",
      "Compiler    : GCC 11.2.0\n",
      "OS          : Linux\n",
      "Release     : 5.19.0-43-generic\n",
      "Machine     : x86_64\n",
      "Processor   : x86_64\n",
      "CPU cores   : 4\n",
      "Architecture: 64bit\n",
      "\n",
      "jupyterlab: 3.5.3\n",
      "\n",
      "requests  : 2.28.2\n",
      "matplotlib: 3.7.1\n",
      "sys       : 3.9.16 (main, Mar  8 2023, 14:00:05) \n",
      "[GCC 11.2.0]\n",
      "numpy     : 1.23.5\n",
      "re        : 2.2.1\n",
      "xmltodict : 0.12.0\n",
      "json      : 2.0.9\n",
      "pandas    : 1.5.3\n",
      "\n",
      "Watermark: 2.3.1\n",
      "\n",
      "conda environment: bioinfosoft\n",
      "\n"
     ]
    }
   ],
   "source": [
    "%load_ext watermark\n",
    "%watermark --python --machine\n",
    "# Python packages versions\n",
    "%watermark --packages jupyterlab --iversions --watermark\n",
    "# conda environment name\n",
    "%watermark --conda"
   ]
  },
  {
   "cell_type": "markdown",
   "id": "2f6a89ef-d688-4096-8a94-1d10b97f533c",
   "metadata": {},
   "source": [
    "### Import tokens"
   ]
  },
  {
   "cell_type": "code",
   "execution_count": 4,
   "id": "1e66c109-89bd-4f6f-8d99-89ed18a4be3d",
   "metadata": {},
   "outputs": [],
   "source": [
    "pbmd.read_tokens(\"../.env\")\n",
    "GITHUB_TOKEN = os.environ.get(\"GITHUB_TOKEN\")\n",
    "PUBMED_TOKEN = os.environ.get(\"PUBMED_TOKEN\")"
   ]
  },
  {
   "cell_type": "code",
   "execution_count": null,
   "id": "446d7c52-9b97-421e-a709-9ce45b617ce1",
   "metadata": {},
   "outputs": [],
   "source": []
  },
  {
   "cell_type": "code",
   "execution_count": null,
   "id": "420892a3-c0c4-44a5-8f08-6c6b583a94cd",
   "metadata": {},
   "outputs": [],
   "source": []
  },
  {
   "cell_type": "code",
   "execution_count": 51,
   "id": "8fac7ed5-608b-42d2-853f-0e337abbd993",
   "metadata": {},
   "outputs": [],
   "source": [
    "PMID = 23653703\n",
    "summary = pbmd.get_summary(PMID, PUBMED_TOKEN, \"remove_me.txt\")\n",
    "abstract = pbmd.get_abstract_from_summary(summary,\"remove_me.txt\")\n",
    "abstract"
   ]
  },
  {
   "cell_type": "code",
   "execution_count": 41,
   "id": "18982142-166f-48bb-8b9a-ca0888665111",
   "metadata": {},
   "outputs": [
    {
     "data": {
      "text/plain": [
       "{'PubmedArticleSet': {'PubmedArticle': {'MedlineCitation': {'@Status': 'Publisher',\n",
       "    '@Owner': 'NLM',\n",
       "    'PMID': {'@Version': '1', '#text': '19474345'},\n",
       "    'DateRevised': {'Year': '2019', 'Month': '11', 'Day': '20'},\n",
       "    'Article': {'@PubModel': 'Print-Electronic',\n",
       "     'Journal': {'ISSN': {'@IssnType': 'Electronic', '#text': '1362-4962'},\n",
       "      'JournalIssue': {'@CitedMedium': 'Internet',\n",
       "       'PubDate': {'Year': '2009', 'Month': 'Dec', 'Day': '23'}},\n",
       "      'Title': 'Nucleic acids research',\n",
       "      'ISOAbbreviation': 'Nucleic Acids Res'},\n",
       "     'ArticleTitle': 'This paper has been retracted.Retraction notice is found at http://nar.oxfordjournals.org/cgi/content/full/37/15/5234.',\n",
       "     'Pagination': {'MedlinePgn': None},\n",
       "     'Language': 'eng',\n",
       "     'PublicationTypeList': {'PublicationType': {'@UI': 'D016428',\n",
       "       '#text': 'Journal Article'}},\n",
       "     'ArticleDate': {'@DateType': 'Electronic',\n",
       "      'Year': '2009',\n",
       "      'Month': '12',\n",
       "      'Day': '23'}},\n",
       "    'MedlineJournalInfo': {'Country': 'England',\n",
       "     'MedlineTA': 'Nucleic Acids Res',\n",
       "     'NlmUniqueID': '0411011',\n",
       "     'ISSNLinking': '0305-1048'}},\n",
       "   'PubmedData': {'History': {'PubMedPubDate': [{'@PubStatus': 'entrez',\n",
       "       'Year': '2009',\n",
       "       'Month': '5',\n",
       "       'Day': '29',\n",
       "       'Hour': '9',\n",
       "       'Minute': '0'},\n",
       "      {'@PubStatus': 'pubmed',\n",
       "       'Year': '2009',\n",
       "       'Month': '5',\n",
       "       'Day': '29',\n",
       "       'Hour': '9',\n",
       "       'Minute': '0'},\n",
       "      {'@PubStatus': 'medline',\n",
       "       'Year': '2009',\n",
       "       'Month': '5',\n",
       "       'Day': '29',\n",
       "       'Hour': '9',\n",
       "       'Minute': '0'}]},\n",
       "    'PublicationStatus': 'aheadofprint',\n",
       "    'ArticleIdList': {'ArticleId': [{'@IdType': 'pubmed', '#text': '19474345'},\n",
       "      {'@IdType': 'doi', '#text': '10.1093/nar/gkp447'},\n",
       "      {'@IdType': 'pii', '#text': 'gkp447'}]}}}}}"
      ]
     },
     "execution_count": 41,
     "metadata": {},
     "output_type": "execute_result"
    }
   ],
   "source": [
    "summary"
   ]
  },
  {
   "cell_type": "code",
   "execution_count": 10,
   "id": "33b82854-d394-47b1-a4da-e0ac313982a6",
   "metadata": {},
   "outputs": [],
   "source": []
  },
  {
   "cell_type": "code",
   "execution_count": 22,
   "id": "18e55bfb-5b6d-4813-837a-cbcaa9508578",
   "metadata": {},
   "outputs": [],
   "source": []
  },
  {
   "cell_type": "code",
   "execution_count": 23,
   "id": "042ccf97-713c-44ea-bb7f-e6c45d1a7e04",
   "metadata": {},
   "outputs": [
    {
     "data": {
      "text/plain": [
       "'A standardized regimen recommended by the World Health Organization for retreatment of active tuberculosis (TB) is widely used, but treatment outcomes are suspected to be poor. We conducted a systematic review of published evidence of treatment of patients with a history of previous treatment or documented isoniazid mono-resistance. PubMed, EMBASE, and the Cochrane Central database for clinical trials were searched for randomized trials in previously treated patients and/or those with with mono-resistance to isoniazid, published in English, French, or Spanish between 1965 and June 2008. The first two sources were also searched for cohort studies evaluating specifically the current retreatment regimen. In studies selected for inclusion, rifampin-containing regimens were used to treat patients with bacteriologically confirmed pulmonary TB, in whom bacteriologically confirmed failure and/or relapse had been reported. Pooled cumulative incidences and 95% CIs of treatment outcomes were computed with random effects meta-analyses and negative binomial regression. No randomized trials of the currently recommended retreatment regimen were identified. Only six cohort studies were identified, in which failure rates were 18%–44% in those with isoniazid resistance. In nine trials, using very different regimens in previously treated patients with mono-resistance to isoniazid, the combined failure and relapse rates ranged from 0% to over 75%. From pooled analysis of 33 trials in 1,907 patients with mono-resistance to isoniazid, lower failure, relapse, and acquired drug resistance rates were associated with longer duration of rifampin, use of streptomycin, daily therapy initially, and treatment with a greater number of effective drugs. There are few published studies to support use of the current standardized retreatment regimen. Randomized trials of treatment of persons with isoniazid mono-resistance and/or a history of previous TB treatment are urgently needed. '"
      ]
     },
     "execution_count": 23,
     "metadata": {},
     "output_type": "execute_result"
    }
   ],
   "source": [
    "abstract"
   ]
  },
  {
   "cell_type": "code",
   "execution_count": 12,
   "id": "a1914489-a4cf-45c7-a146-e68d14adc228",
   "metadata": {},
   "outputs": [
    {
     "data": {
      "text/plain": [
       "[{'@Label': 'BACKGROUND',\n",
       "  '#text': 'A standardized regimen recommended by the World Health Organization for retreatment of active tuberculosis (TB) is widely used, but treatment outcomes are suspected to be poor. We conducted a systematic review of published evidence of treatment of patients with a history of previous treatment or documented isoniazid mono-resistance.'},\n",
       " {'@Label': 'METHODS AND FINDINGS',\n",
       "  '#text': 'PubMed, EMBASE, and the Cochrane Central database for clinical trials were searched for randomized trials in previously treated patients and/or those with with mono-resistance to isoniazid, published in English, French, or Spanish between 1965 and June 2008. The first two sources were also searched for cohort studies evaluating specifically the current retreatment regimen. In studies selected for inclusion, rifampin-containing regimens were used to treat patients with bacteriologically confirmed pulmonary TB, in whom bacteriologically confirmed failure and/or relapse had been reported. Pooled cumulative incidences and 95% CIs of treatment outcomes were computed with random effects meta-analyses and negative binomial regression. No randomized trials of the currently recommended retreatment regimen were identified. Only six cohort studies were identified, in which failure rates were 18%–44% in those with isoniazid resistance. In nine trials, using very different regimens in previously treated patients with mono-resistance to isoniazid, the combined failure and relapse rates ranged from 0% to over 75%. From pooled analysis of 33 trials in 1,907 patients with mono-resistance to isoniazid, lower failure, relapse, and acquired drug resistance rates were associated with longer duration of rifampin, use of streptomycin, daily therapy initially, and treatment with a greater number of effective drugs.'},\n",
       " {'@Label': 'CONCLUSIONS',\n",
       "  '#text': 'There are few published studies to support use of the current standardized retreatment regimen. Randomized trials of treatment of persons with isoniazid mono-resistance and/or a history of previous TB treatment are urgently needed.'},\n",
       " {'@Label': 'UNLABELLED',\n",
       "  'i': \"Please see later in the article for the Editors' Summary\"}]"
      ]
     },
     "execution_count": 12,
     "metadata": {},
     "output_type": "execute_result"
    }
   ],
   "source": [
    "article = summary['PubmedArticleSet']['PubmedArticle']\n",
    "abstract_raw = article['MedlineCitation']['Article']['Abstract']['AbstractText']\n",
    "abstract_raw"
   ]
  },
  {
   "cell_type": "code",
   "execution_count": 20,
   "id": "298b1f74-d3de-4215-b5b5-617a2d9826e9",
   "metadata": {},
   "outputs": [
    {
     "data": {
      "text/plain": [
       "{'@Label': 'UNLABELLED',\n",
       " 'i': \"Please see later in the article for the Editors' Summary\"}"
      ]
     },
     "execution_count": 20,
     "metadata": {},
     "output_type": "execute_result"
    }
   ],
   "source": [
    "d"
   ]
  },
  {
   "cell_type": "code",
   "execution_count": 18,
   "id": "f2e41725-fe0f-47f7-a2d3-8f8aba72a8cb",
   "metadata": {},
   "outputs": [
    {
     "name": "stdout",
     "output_type": "stream",
     "text": [
      "{'@Label': 'BACKGROUND', '#text': 'A standardized regimen recommended by the World Health Organization for retreatment of active tuberculosis (TB) is widely used, but treatment outcomes are suspected to be poor. We conducted a systematic review of published evidence of treatment of patients with a history of previous treatment or documented isoniazid mono-resistance.'}\n",
      "{'@Label': 'METHODS AND FINDINGS', '#text': 'PubMed, EMBASE, and the Cochrane Central database for clinical trials were searched for randomized trials in previously treated patients and/or those with with mono-resistance to isoniazid, published in English, French, or Spanish between 1965 and June 2008. The first two sources were also searched for cohort studies evaluating specifically the current retreatment regimen. In studies selected for inclusion, rifampin-containing regimens were used to treat patients with bacteriologically confirmed pulmonary TB, in whom bacteriologically confirmed failure and/or relapse had been reported. Pooled cumulative incidences and 95% CIs of treatment outcomes were computed with random effects meta-analyses and negative binomial regression. No randomized trials of the currently recommended retreatment regimen were identified. Only six cohort studies were identified, in which failure rates were 18%–44% in those with isoniazid resistance. In nine trials, using very different regimens in previously treated patients with mono-resistance to isoniazid, the combined failure and relapse rates ranged from 0% to over 75%. From pooled analysis of 33 trials in 1,907 patients with mono-resistance to isoniazid, lower failure, relapse, and acquired drug resistance rates were associated with longer duration of rifampin, use of streptomycin, daily therapy initially, and treatment with a greater number of effective drugs.'}\n",
      "{'@Label': 'CONCLUSIONS', '#text': 'There are few published studies to support use of the current standardized retreatment regimen. Randomized trials of treatment of persons with isoniazid mono-resistance and/or a history of previous TB treatment are urgently needed.'}\n",
      "{'@Label': 'UNLABELLED', 'i': \"Please see later in the article for the Editors' Summary\"}\n"
     ]
    }
   ],
   "source": [
    "if isinstance(abstract_raw, list):\n",
    "    abstract = \"\"\n",
    "    for d in abstract_raw:\n",
    "        \n",
    "        #abstract += d['#text'] + \" \" \n",
    "#abstract"
   ]
  },
  {
   "cell_type": "code",
   "execution_count": 11,
   "id": "9acebb7c-b6ed-4374-bfc0-3c52825e8482",
   "metadata": {},
   "outputs": [
    {
     "data": {
      "text/plain": [
       "{'PubmedArticleSet': {'PubmedArticle': {'MedlineCitation': {'@Status': 'MEDLINE',\n",
       "    '@Owner': 'NLM',\n",
       "    'PMID': {'@Version': '1', '#text': '20101802'},\n",
       "    'DateCompleted': {'Year': '2010', 'Month': '01', 'Day': '27'},\n",
       "    'DateRevised': {'Year': '2021', 'Month': '10', 'Day': '20'},\n",
       "    'Article': {'@PubModel': 'Print',\n",
       "     'Journal': {'ISSN': {'@IssnType': 'Electronic', '#text': '1549-1676'},\n",
       "      'JournalIssue': {'@CitedMedium': 'Internet',\n",
       "       'Volume': '6',\n",
       "       'Issue': '9',\n",
       "       'PubDate': {'Year': '2009', 'Month': 'Sep'}},\n",
       "      'Title': 'PLoS medicine',\n",
       "      'ISOAbbreviation': 'PLoS Med'},\n",
       "     'ArticleTitle': 'Standardized treatment of active tuberculosis in patients with previous treatment and/or with mono-resistance to isoniazid: a systematic review and meta-analysis.',\n",
       "     'Pagination': {'StartPage': 'e1000150', 'MedlinePgn': 'e1000150'},\n",
       "     'ELocationID': {'@EIdType': 'pii', '@ValidYN': 'Y', '#text': 'e1000150'},\n",
       "     'Abstract': {'AbstractText': [{'@Label': 'BACKGROUND',\n",
       "        '#text': 'A standardized regimen recommended by the World Health Organization for retreatment of active tuberculosis (TB) is widely used, but treatment outcomes are suspected to be poor. We conducted a systematic review of published evidence of treatment of patients with a history of previous treatment or documented isoniazid mono-resistance.'},\n",
       "       {'@Label': 'METHODS AND FINDINGS',\n",
       "        '#text': 'PubMed, EMBASE, and the Cochrane Central database for clinical trials were searched for randomized trials in previously treated patients and/or those with with mono-resistance to isoniazid, published in English, French, or Spanish between 1965 and June 2008. The first two sources were also searched for cohort studies evaluating specifically the current retreatment regimen. In studies selected for inclusion, rifampin-containing regimens were used to treat patients with bacteriologically confirmed pulmonary TB, in whom bacteriologically confirmed failure and/or relapse had been reported. Pooled cumulative incidences and 95% CIs of treatment outcomes were computed with random effects meta-analyses and negative binomial regression. No randomized trials of the currently recommended retreatment regimen were identified. Only six cohort studies were identified, in which failure rates were 18%–44% in those with isoniazid resistance. In nine trials, using very different regimens in previously treated patients with mono-resistance to isoniazid, the combined failure and relapse rates ranged from 0% to over 75%. From pooled analysis of 33 trials in 1,907 patients with mono-resistance to isoniazid, lower failure, relapse, and acquired drug resistance rates were associated with longer duration of rifampin, use of streptomycin, daily therapy initially, and treatment with a greater number of effective drugs.'},\n",
       "       {'@Label': 'CONCLUSIONS',\n",
       "        '#text': 'There are few published studies to support use of the current standardized retreatment regimen. Randomized trials of treatment of persons with isoniazid mono-resistance and/or a history of previous TB treatment are urgently needed.'},\n",
       "       {'@Label': 'UNLABELLED',\n",
       "        'i': \"Please see later in the article for the Editors' Summary\"}]},\n",
       "     'AuthorList': {'@CompleteYN': 'Y',\n",
       "      'Author': [{'@ValidYN': 'Y',\n",
       "        'LastName': 'Menzies',\n",
       "        'ForeName': 'Dick',\n",
       "        'Initials': 'D',\n",
       "        'AffiliationInfo': {'Affiliation': 'Respiratory and Epidemiology Clinical Research Unit, Montreal Chest Institute, McGill University, Montreal, Canada. Dick.Menzies@mcgill.ca'}},\n",
       "       {'@ValidYN': 'Y',\n",
       "        'LastName': 'Benedetti',\n",
       "        'ForeName': 'Andrea',\n",
       "        'Initials': 'A'},\n",
       "       {'@ValidYN': 'Y',\n",
       "        'LastName': 'Paydar',\n",
       "        'ForeName': 'Anita',\n",
       "        'Initials': 'A'},\n",
       "       {'@ValidYN': 'Y',\n",
       "        'LastName': 'Royce',\n",
       "        'ForeName': 'Sarah',\n",
       "        'Initials': 'S'},\n",
       "       {'@ValidYN': 'Y',\n",
       "        'LastName': 'Madhukar',\n",
       "        'ForeName': 'Pai',\n",
       "        'Initials': 'P'},\n",
       "       {'@ValidYN': 'Y',\n",
       "        'LastName': 'Burman',\n",
       "        'ForeName': 'William',\n",
       "        'Initials': 'W'},\n",
       "       {'@ValidYN': 'Y',\n",
       "        'LastName': 'Vernon',\n",
       "        'ForeName': 'Andrew',\n",
       "        'Initials': 'A'},\n",
       "       {'@ValidYN': 'Y',\n",
       "        'LastName': 'Lienhardt',\n",
       "        'ForeName': 'Christian',\n",
       "        'Initials': 'C'}]},\n",
       "     'Language': 'eng',\n",
       "     'PublicationTypeList': {'PublicationType': [{'@UI': 'D016428',\n",
       "        '#text': 'Journal Article'},\n",
       "       {'@UI': 'D017418', '#text': 'Meta-Analysis'},\n",
       "       {'@UI': 'D013485', '#text': \"Research Support, Non-U.S. Gov't\"},\n",
       "       {'@UI': 'D016454', '#text': 'Review'},\n",
       "       {'@UI': 'D000078182', '#text': 'Systematic Review'}]}},\n",
       "    'MedlineJournalInfo': {'Country': 'United States',\n",
       "     'MedlineTA': 'PLoS Med',\n",
       "     'NlmUniqueID': '101231360',\n",
       "     'ISSNLinking': '1549-1277'},\n",
       "    'ChemicalList': {'Chemical': [{'RegistryNumber': '0',\n",
       "       'NameOfSubstance': {'@UI': 'D000995',\n",
       "        '#text': 'Antitubercular Agents'}},\n",
       "      {'RegistryNumber': 'V83O1VOZ8L',\n",
       "       'NameOfSubstance': {'@UI': 'D007538', '#text': 'Isoniazid'}},\n",
       "      {'RegistryNumber': 'VJT6J7R4TR',\n",
       "       'NameOfSubstance': {'@UI': 'D012293', '#text': 'Rifampin'}},\n",
       "      {'RegistryNumber': 'Y45QSO73OB',\n",
       "       'NameOfSubstance': {'@UI': 'D013307', '#text': 'Streptomycin'}}]},\n",
       "    'CitationSubset': 'IM',\n",
       "    'CommentsCorrectionsList': {'CommentsCorrections': {'@RefType': 'CommentIn',\n",
       "      'RefSource': 'PLoS Med. 6:e1000146.'}},\n",
       "    'MeshHeadingList': {'MeshHeading': [{'DescriptorName': {'@UI': 'D000995',\n",
       "        '@MajorTopicYN': 'N',\n",
       "        '#text': 'Antitubercular Agents'},\n",
       "       'QualifierName': {'@UI': 'Q000627',\n",
       "        '@MajorTopicYN': 'Y',\n",
       "        '#text': 'therapeutic use'}},\n",
       "      {'DescriptorName': {'@UI': 'D015331',\n",
       "        '@MajorTopicYN': 'N',\n",
       "        '#text': 'Cohort Studies'}},\n",
       "      {'DescriptorName': {'@UI': 'D024881',\n",
       "        '@MajorTopicYN': 'Y',\n",
       "        '#text': 'Drug Resistance, Bacterial'}},\n",
       "      {'DescriptorName': {'@UI': 'D004359',\n",
       "        '@MajorTopicYN': 'N',\n",
       "        '#text': 'Drug Therapy, Combination'}},\n",
       "      {'DescriptorName': {'@UI': 'D006801',\n",
       "        '@MajorTopicYN': 'N',\n",
       "        '#text': 'Humans'}},\n",
       "      {'DescriptorName': {'@UI': 'D007538',\n",
       "        '@MajorTopicYN': 'N',\n",
       "        '#text': 'Isoniazid'},\n",
       "       'QualifierName': {'@UI': 'Q000627',\n",
       "        '@MajorTopicYN': 'N',\n",
       "        '#text': 'therapeutic use'}},\n",
       "      {'DescriptorName': {'@UI': 'D016032',\n",
       "        '@MajorTopicYN': 'N',\n",
       "        '#text': 'Randomized Controlled Trials as Topic'}},\n",
       "      {'DescriptorName': {'@UI': 'D012008',\n",
       "        '@MajorTopicYN': 'N',\n",
       "        '#text': 'Recurrence'}},\n",
       "      {'DescriptorName': {'@UI': 'D012293',\n",
       "        '@MajorTopicYN': 'N',\n",
       "        '#text': 'Rifampin'},\n",
       "       'QualifierName': {'@UI': 'Q000627',\n",
       "        '@MajorTopicYN': 'N',\n",
       "        '#text': 'therapeutic use'}},\n",
       "      {'DescriptorName': {'@UI': 'D013307',\n",
       "        '@MajorTopicYN': 'N',\n",
       "        '#text': 'Streptomycin'},\n",
       "       'QualifierName': {'@UI': 'Q000627',\n",
       "        '@MajorTopicYN': 'N',\n",
       "        '#text': 'therapeutic use'}},\n",
       "      {'DescriptorName': {'@UI': 'D017211',\n",
       "        '@MajorTopicYN': 'N',\n",
       "        '#text': 'Treatment Failure'}},\n",
       "      {'DescriptorName': {'@UI': 'D014397',\n",
       "        '@MajorTopicYN': 'N',\n",
       "        '#text': 'Tuberculosis, Pulmonary'},\n",
       "       'QualifierName': {'@UI': 'Q000188',\n",
       "        '@MajorTopicYN': 'Y',\n",
       "        '#text': 'drug therapy'}}]},\n",
       "    'OtherAbstract': [{'@Type': 'Publisher',\n",
       "      '@Language': 'eng',\n",
       "      'AbstractText': 'Performing a systematic review of studies evaluating retreatment of tuberculosis or treatment of isoniazid mono-resistant infection, Dick Menzies and colleagues find a paucity of evidence to support the WHO-recommended regimen.'},\n",
       "     {'@Type': 'Publisher',\n",
       "      '@Language': 'eng',\n",
       "      'AbstractText': [{'@Label': 'BACKGROUND',\n",
       "        'i': ['Mycobacterium tuberculosis',\n",
       "         'M. tuberculosis',\n",
       "         'M. tuberculosis'],\n",
       "        '#text': 'Every year, nearly ten million people develop tuberculosis—a contagious infection, usually of the lungs—and about 2 million people die from the disease. Tuberculosis is caused by , bacteria that are spread in airborne droplets when people with the disease cough or sneeze. Its symptoms include a persistent cough, fever, weight loss, and night sweats. Diagnostic tests for tuberculosis include chest X-rays and sputum slide exams and cultures in which bacteriologists try to grow  from mucus brought up from the lungs by coughing. The disease can be cured by taking several powerful antibiotics regularly (daily or several times a week) for at least 6 months. However, 10%–20% of patients treated for tuberculosis in low- and middle-income countries need re-treatment because the initial treatment fails to clear  from their body or because their disease returns after they have apparently been cured (treatment relapse). Patients who need re-treatment are often infected with bacteria that are resistant to one or more of the antibiotics commonly used to treat tuberculosis.'},\n",
       "       {'@Label': 'WHY WAS THIS STUDY DONE?',\n",
       "        '#text': 'As part of its strategy to reduce the global burden of tuberculosis, the World Health Organization (WHO) recommends standardized treatment regimens for tuberculosis. For re-treatment, WHO recommends an 8-month course of isoniazid, rifampin, and ethambutol with pyrazinamide and streptomycin added for the first 3 and 2 months, respectively. All these drugs are given daily (the preferred regimen) or three times a week. Unfortunately, although this regimen is now used to treat about 1 million patients each year, it yields poor results, particularly in regions where drug resistance is common. In this study (which was commissioned by WHO to provide the evidence needed for a revision of its treatment guidelines), the researchers undertake a systematic review (a search using specific criteria to identify relevant research studies, which are then appraised) and a meta-analysis (a statistical approach that pools the results of several studies) of randomized trials and cohort studies (two types of study that investigate the efficacy of medical interventions) of re-treatment regimens in previously treated tuberculosis patients, and in patients with infection that was resistant to isoniazid (“mono-resistance”).'},\n",
       "       {'@Label': 'WHAT DID THE RESEARCHERS DO AND FIND?',\n",
       "        'i': ['M. tuberculosis', 'M. tuberculosis'],\n",
       "        '#text': \"The researchers' systematic search for published reports of randomized trials and cohort studies of the currently recommended re-treatment regimen identified no relevant randomized trials and only six cohort studies. In the three cohort studies in which the participants carried  strains that were sensitive to all the antibiotics in the regimen, failure rates were generally low. However, in the studies in which the participants carried drug-resistant bacteria, failure rates ranged from 9% to 45%. The researchers also identified and analyzed the results of nine trials in which several re-treatment regimens, all of which deviated from the standardized regimen, were used in previously treated patients with isoniazid mono-resistance. In these trials, the combined failure and relapse rates ranged from 0% to more than 75%. Finally, the researchers analyzed the pooled results of 33 trials that investigated the effect of various regimens on nearly 2,000 patients (some receiving their first treatment for tuberculosis, some being re-treated) with isoniazid mono-resistance. This meta-analysis showed that lower relapse, failure, and acquired drug resistance rates were associated with longer duration of rifampicin treatment, use of streptomycin, daily therapy early in the treatment, and regimens that included a greater number of drugs to which the  carried by the patient were sensitive.\"},\n",
       "       {'@Label': 'WHAT DO THESE FINDINGS MEAN?',\n",
       "        '#text': 'These findings reveal that there is very little published evidence that supports the regimen currently recommended by WHO for the re-treatment of tuberculosis. Furthermore, this limited body of evidence is a patchwork of results gleaned from a few cohort studies and a set of randomized trials not specifically designed to test the efficacy of the standardized regimen. There is an urgent need, therefore, for a concerted international effort to initiate randomized trials of potential treatment regimens in both previously untreated and previously treated patients with all forms of drug-resistant tuberculosis. Because these trials will take some time to complete, the limited findings of the meta-analysis presented here may be used in the meantime to redesign and, hopefully, improve the current standardized re-treatment regimen. In fact, the revised WHO TB treatment guidelines will provide updated recommendations for patients with previously treated TB.'},\n",
       "       {'@Label': 'ADDITIONAL INFORMATION',\n",
       "        'i': 'PLoS Medicine',\n",
       "        '#text': \"Please access these Web sites via the online version of this summary at http://dx.doi.org/10.1371/journal.pmed.1000150. The results of another WHO-commissioned study into the treatment of tuberculosis are presented in a separate  Research Article by Menzies et al. (Menzies D, Benedetti A, Paydar A, Martin I, Royce S, et al. (2009) Effect of Duration and Intermittency of Rifampin on Tuberculosis Treatment Outcomes: A Systematic Review and Meta-Analysis. PLoS Med 6(9): e1000146.). The US National Institute of Allergy and Infectious Diseases provides information on all aspects of tuberculosis. The American Thoracic Society, US Centers for Disease Control and Prevention, and Infectious Diseases Society of America offer guidelines on TB treatment. The US Centers for Disease Control and Prevention provide several facts sheets and other information resources about tuberculosis. The 2003 (2004 revision) WHO guidelines for national programs for the treatment of tuberculosis are available; WHO also provides information on efforts to reduce the global burden of tuberculosis (in several languages) and its 2009 annual report on global control of tuberculosis describes the current situation (key points are available in several languages). The WHO publishes guidelines on TB treatment. For guidelines on drug susceptibility testing (DST) and other information on TB diagnostic tests, the Stop TB Partnership's New Diagnostics Working Group has created a new Web site called Evidence-Based Tuberculosis Diagnosis.\"}]}],\n",
       "    'CoiStatement': 'The authors have declared that no competing interests exist.'},\n",
       "   'PubmedData': {'History': {'PubMedPubDate': [{'@PubStatus': 'entrez',\n",
       "       'Year': '2010',\n",
       "       'Month': '1',\n",
       "       'Day': '28',\n",
       "       'Hour': '6',\n",
       "       'Minute': '0'},\n",
       "      {'@PubStatus': 'pubmed',\n",
       "       'Year': '2010',\n",
       "       'Month': '1',\n",
       "       'Day': '28',\n",
       "       'Hour': '6',\n",
       "       'Minute': '0'},\n",
       "      {'@PubStatus': 'medline',\n",
       "       'Year': '2010',\n",
       "       'Month': '1',\n",
       "       'Day': '28',\n",
       "       'Hour': '6',\n",
       "       'Minute': '1'}]},\n",
       "    'PublicationStatus': 'ppublish',\n",
       "    'ArticleIdList': {'ArticleId': [{'@IdType': 'pubmed', '#text': '20101802'},\n",
       "      {'@IdType': 'pmc', '#text': 'PMC2736403'},\n",
       "      {'@IdType': 'doi', '#text': '10.1371/journal.pmed.1000150'}]},\n",
       "    'ReferenceList': {'Reference': [{'Citation': 'World Health Organization. 2008. 108. Treatment of tuberculosis: guidelines for national programmes WHO/CDS/TB/2008 (Revised June 2008)'},\n",
       "      {'Citation': 'Mak A, Thomas A, Granado M, Zaleskis R, Mouzafarova N, et al. Influence of multidrug resistance on tuberculosis treatment outcomes with standardized regimens. Am J Respir Crit Care Med. 2008;178:306–312.',\n",
       "       'ArticleIdList': {'ArticleId': {'@IdType': 'pubmed',\n",
       "         '#text': '18511706'}}},\n",
       "      {'Citation': 'Rouillon A. The mutual assistance programme of the IUATLD. Development, contribution and significance. Bull Int Union Tuberc Lung Dis. 1991;66:159.',\n",
       "       'ArticleIdList': {'ArticleId': {'@IdType': 'pubmed',\n",
       "         '#text': '1687508'}}},\n",
       "      {'Citation': 'Espinal M, Raviglione MC. From threat to reality: the real face of multidrug-resistant tuberculosis. Am J Respir Crit Care Med. 2008;178:216–217.',\n",
       "       'ArticleIdList': {'ArticleId': {'@IdType': 'pubmed',\n",
       "         '#text': '18650570'}}},\n",
       "      {'Citation': 'Espinal MA. Time to abandon the standard retreatment regimen with first-line drugs for failures of standard treatment. Int J Tuberc Lung Dis. 2003;7:607–608.',\n",
       "       'ArticleIdList': {'ArticleId': {'@IdType': 'pubmed',\n",
       "         '#text': '12870678'}}},\n",
       "      {'Citation': 'Kimerling ME, Kluge H, Vezhnina N, Lacovazzi T, Demeulenaere T, et al. Inadequacy of the current WHO re-treatment regimen in a central Siberian prison: treatment failure and MDR-TB. Int J Tuber Lung Dis. 1999;3:451–453.',\n",
       "       'ArticleIdList': {'ArticleId': {'@IdType': 'pubmed',\n",
       "         '#text': '10331736'}}},\n",
       "      {'Citation': 'Becerra MC, Freeman J, Bayona J, Shin SS, Kim JY, et al. Using treatment failure under effective directly observed short-course chemotherapy programs to identify patients with multidrug-resistant tuberculosis. Int J Tuberc Lung Dis. 2000;4:108–114.',\n",
       "       'ArticleIdList': {'ArticleId': {'@IdType': 'pubmed',\n",
       "         '#text': '10694087'}}},\n",
       "      {'Citation': 'Fox W, Ellard GA, Mitchison DA. Studies on the treatment of tuberculosis undertaken by the British Medical Research Council tuberculosis units, 1946–1986, with relevant subsequent publications. Int J Tuberc Lung Dis. 1999;3:S231–S279.',\n",
       "       'ArticleIdList': {'ArticleId': {'@IdType': 'pubmed',\n",
       "         '#text': '10529902'}}},\n",
       "      {'Citation': 'Rieder HL. Interventions for tuberculosis control and elimination. International Union Against Tuberculosis and Lung Disease 2002',\n",
       "       'ArticleIdList': {'ArticleId': {'@IdType': 'pubmed',\n",
       "         '#text': '11999007'}}},\n",
       "      {'Citation': \"Hopewell P. Treatment of tuberculosis. In: Raviglione M, editor. Reichman and Hershfeld's tuberculosis. New York: Informa Health Care USA; 2006. pp. 183–214.\"},\n",
       "      {'Citation': 'Long RL, Ellis E. Canadian tuberculosis standards. Toronto: Canadian Lung Association, Public Health Agency of Canada, Tuberculosis Prevention and Control; 2007.'},\n",
       "      {'Citation': 'American Thoracic Society, Infectious Diseases Society of America, Centres for Disease Control. Treatment of tuberculosis. Am J Respir Crit Care Med. 2003;167:603–662.',\n",
       "       'ArticleIdList': {'ArticleId': {'@IdType': 'pubmed',\n",
       "         '#text': '12588714'}}},\n",
       "      {'Citation': 'Enarson DA, Rieder HL, Arnadottir T, Trebucq A. Tuberculosis guide for low income countries. Paris: International Union Against Tuberculosis and Lung Disease; 2000.'},\n",
       "      {'Citation': 'Menzies D, Benedetti A, Paydar A, Martin I, Royce S, et al.  Effect of duration and intermittency of rifampin on tuberculosis treatment outcomes: A systematic review and meta-analysis. PLoS Med. 2009;6(9):e146. doi: 10.1371/journal.pmed.1000146.',\n",
       "       'ArticleIdList': {'ArticleId': [{'@IdType': 'doi',\n",
       "          '#text': '10.1371/journal.pmed.1000146'},\n",
       "         {'@IdType': 'pmc', '#text': 'PMC2736385'},\n",
       "         {'@IdType': 'pubmed', '#text': '19753109'}]}},\n",
       "      {'Citation': 'World Health Organization, International Union Against Tuberculosis and Lung Disease (IUATLD), Royal Netherlands Tuberculosis Association. Revised international definitions in tuberculosis control. Int J Tuber Lung Dis. 2001;5:213–215.',\n",
       "       'ArticleIdList': {'ArticleId': {'@IdType': 'pubmed',\n",
       "         '#text': '11326818'}}},\n",
       "      {'Citation': 'Nitti V, Delli Veneri F, Marra A. La rifampicine dans le traitement des tuberculoses chroniques à bacilles résistant aux médications standard. Acta Tuberc Pneumol Belg. 1969;3–4:455.',\n",
       "       'ArticleIdList': {'ArticleId': {'@IdType': 'pubmed',\n",
       "         '#text': '4906100'}}},\n",
       "      {'Citation': 'Salinger PL, Dormer BA. Rifampicin, ethambutol, ethionamide and hydrosan in advanced pulmonary tuberculosis. Mediese Tydskrif 354 1972',\n",
       "       'ArticleIdList': {'ArticleId': {'@IdType': 'pubmed',\n",
       "         '#text': '5074542'}}},\n",
       "      {'Citation': 'Hamza TH, Houwelingen HC, Stijnen T. The binomial distribution of meta-analysis was preferred to model within-study variability. J Clin Epidemiol. 2008;61:41–51.',\n",
       "       'ArticleIdList': {'ArticleId': {'@IdType': 'pubmed',\n",
       "         '#text': '18083461'}}},\n",
       "      {'Citation': 'Higgin JPT, Thompson SG. Controlling the risk of spurious findings from meta-regression. Stat Med. 2004;23:1663–1682.',\n",
       "       'ArticleIdList': {'ArticleId': {'@IdType': 'pubmed',\n",
       "         '#text': '15160401'}}},\n",
       "      {'Citation': 'Glasziou PP, Sanders SL. Investigating causes of heterogeneity in systematic reviews. Stat Med. 2002;21:1503–1511.',\n",
       "       'ArticleIdList': {'ArticleId': {'@IdType': 'pubmed',\n",
       "         '#text': '12111916'}}},\n",
       "      {'Citation': 'Thompson SG, Sharp SJ. Explaining heterogeneity in meta-analysis: a comparison of methods. Stat Med. 1999;18:2693–2708.',\n",
       "       'ArticleIdList': {'ArticleId': {'@IdType': 'pubmed',\n",
       "         '#text': '10521860'}}},\n",
       "      {'Citation': 'Churchyard GJ, Corbett EL, Kleinschmidt I, Mulder D, De Cock KM. Drug-resistant tuberculosis in South African gold miners: incidence and associated factors. Int J Tuberc Lung Dis. 2000;4:433–440.',\n",
       "       'ArticleIdList': {'ArticleId': {'@IdType': 'pubmed',\n",
       "         '#text': '10815737'}}},\n",
       "      {'Citation': 'Sevim T, Atac G, Gungor G, Torun I, Aksoy E, et al. Treatment outcome of relapse and defaulter pulmonary tuberculosis patients. Int J Tuberc Lung Dis. 2002;6:320–325.',\n",
       "       'ArticleIdList': {'ArticleId': {'@IdType': 'pubmed',\n",
       "         '#text': '11936741'}}},\n",
       "      {'Citation': 'Santha T, Garg R, Frieden TR, Chandrasekaran V, Subramani R, et al. Risk factors associated with default, failure and death among tuberculosis patients treated in a DOTS programme in Tiruvallur District, South India, 2000. Int J Tuber Lung Dis. 2002;6:780–788.',\n",
       "       'ArticleIdList': {'ArticleId': {'@IdType': 'pubmed',\n",
       "         '#text': '12234133'}}},\n",
       "      {'Citation': 'Espinal MA, Kim SJ, Suarez PG, Kam KM, Khomenko AG, et al. Standard short-course chemotherapy for drug-resistance tuberculosis - treatment outcomes in 6 countries. JAMA. 2000;283:2537.',\n",
       "       'ArticleIdList': {'ArticleId': {'@IdType': 'pubmed',\n",
       "         '#text': '10815117'}}},\n",
       "      {'Citation': 'Pardeshi GS, Deshmukh D. A comparison of treatment outcome in re-treatment versus new smear positive cases of tuberculosis under RNTCP. Indian J Public Health. 2007;51:237.',\n",
       "       'ArticleIdList': {'ArticleId': {'@IdType': 'pubmed',\n",
       "         '#text': '18232166'}}},\n",
       "      {'Citation': \"Babu SO, Aluoch JA, Githui WA, Thiong'o R, Edwards EA, et al. Controlled clinical trial of a regimen of two durations for the treatment of isoniazid resistant pulmonary tuberculosis. Tubercle. 1988;69:5–14.\",\n",
       "       'ArticleIdList': {'ArticleId': {'@IdType': 'pubmed',\n",
       "         '#text': '3051607'}}},\n",
       "      {'Citation': 'Narayanan PR Tuberculosis Research Centre Chennai. Split-drug regimens for the treatment of patients with sputum smear-positive pulmonary tuberculosis—a unique approach. Trop Med Int Health. 2004;9:551–558.',\n",
       "       'ArticleIdList': {'ArticleId': {'@IdType': 'pubmed',\n",
       "         '#text': '15117298'}}},\n",
       "      {'Citation': 'Tuberculosis Research Centre, Indian Council of Medical Research. A controlled clinical trial of oral short-course regimens in the treatment of sputum-positive pulmonary tuberculosis. Int J Tuber Lung Dis. 1997;1:509–517.',\n",
       "       'ArticleIdList': {'ArticleId': {'@IdType': 'pubmed',\n",
       "         '#text': '9487448'}}},\n",
       "      {'Citation': 'National Research Institute for Tuberculosis Poland. A comparative study of daily followed by twice or once weekly regimens of ethambutol and rifampicin in retreatment of patients with pulmonary tuberculosis. Tubercle. 1975;56:1.',\n",
       "       'ArticleIdList': {'ArticleId': {'@IdType': 'pubmed',\n",
       "         '#text': '1096388'}}},\n",
       "      {'Citation': 'Hong Kong Tuberculosis Treatment Services, Brompton Hospital, British Medical Research Council. A controlled clinical trial of daily and intermittent regimens of rifampicin plus ethambutol in the retreatment of patients with pulmonary tuberculosis in Hong Kong. Tubercle. 1974;55:1–27.',\n",
       "       'ArticleIdList': {'ArticleId': {'@IdType': 'pubmed',\n",
       "         '#text': '4283482'}}},\n",
       "      {'Citation': 'Castelo A, Goihman S, Dalboni MA, Jardim J, Kalckman AS, et al. Comparison of daily and twice-weekly regimens to treat pulmonary tuberculosis. Lancet. 1989;334:1173–1176.',\n",
       "       'ArticleIdList': {'ArticleId': {'@IdType': 'pubmed',\n",
       "         '#text': '2572899'}}},\n",
       "      {'Citation': 'Aziz A, Ishaq M, Jaffer NA, Akhwand R, Bhatti AH. Clinical trial of two short-course (6-month) regimens and a standard regimen (12-month) chemotherapy in retreatment of pulmonary tuberculosis in Pakistan. Am Rev Resp Dis. 1986;134:1056–1061.',\n",
       "       'ArticleIdList': {'ArticleId': {'@IdType': 'pubmed',\n",
       "         '#text': '3535594'}}},\n",
       "      {'Citation': 'Hong YP, Kim SC, Chang SC, Kim SJ, Jin BW, et al. Comparison of a daily and three intermittent retreatment regimens for pulmonary tuberculosis administered under programme conditions. Tubercle. 1988;69:241–253.',\n",
       "       'ArticleIdList': {'ArticleId': {'@IdType': 'pubmed',\n",
       "         '#text': '3076999'}}},\n",
       "      {'Citation': 'National Research Institute for Tuberculosis Poland. A comparative study of daily followed by twice- or once-weekly regimens of ethambutol and rifampicin in the retreatment of patients with pulmonary tuberculosis: second report. Tubercle. 1976;57:105–113.',\n",
       "       'ArticleIdList': {'ArticleId': {'@IdType': 'pubmed',\n",
       "         '#text': '822547'}}},\n",
       "      {'Citation': 'Zierski M, Bek E, Bergson H, Kucharska A, Szelagowicz B. Retreatment of chronic pulmonary tuberculosis with regimens including high and low doses of rifampicin in the intermittent phase recent and late results - a controlled comparison study. Bull Int Union Tuberc. 1976;51:121–126.',\n",
       "       'ArticleIdList': {'ArticleId': {'@IdType': 'pubmed',\n",
       "         '#text': '1030271'}}},\n",
       "      {'Citation': 'Sriyabhaya N, Jittinandana A, Kecharanantana P. Ambulatory intermittent rifampicin and ethambutol in the retreatment of pulmonary tuberculosis. J Med Ass Thailand. 1974;57:550.',\n",
       "       'ArticleIdList': {'ArticleId': {'@IdType': 'pubmed',\n",
       "         '#text': '4452812'}}},\n",
       "      {'Citation': 'Zierski M. A trial of intermittent rifampicin and ethambutol in retreatment regimens. Scand J Resp Dis. 1973;(Suppl 84):132–135.',\n",
       "       'ArticleIdList': {'ArticleId': {'@IdType': 'pubmed',\n",
       "         '#text': '4522067'}}},\n",
       "      {'Citation': 'Singapore Tuberculosis Service, British Medical Research Council. Controlled trial of intermittent regimens of rifampicin plus isoniazid for pulmonary tuberculosis in Singapore. Lancet. 1975;306:1105–1109.',\n",
       "       'ArticleIdList': {'ArticleId': {'@IdType': 'pubmed',\n",
       "         '#text': '53598'}}},\n",
       "      {'Citation': 'Singapore Tuberculosis Service-British Medical Research Council. Controlled trial of intermittent regimens of rifampin plus isoniazid for pulmonary tuberculosis in Singapore. The results up to 30 months. Am Rev Respir Dis. 1977;116:807–820.',\n",
       "       'ArticleIdList': {'ArticleId': {'@IdType': 'pubmed',\n",
       "         '#text': '411405'}}},\n",
       "      {'Citation': 'Hong Kong Chest-British Medical Research Council. Controlled trial of four twice-weekly regimens and a daily regimen all given for 6 months for pulmonary tuberculosis. Lancet. 1981;317:171–174.'},\n",
       "      {'Citation': 'Balasubramanian R, Sivasubramanian S, Vijayan VK, Ramachandran R, Jawahar MS, et al. Five year results of a 3-month and two 5-month regimens for the treatment of sputum-positive pulmonary tuberculosis in south India. Tubercle. 1990;71:253–258.',\n",
       "       'ArticleIdList': {'ArticleId': {'@IdType': 'pubmed',\n",
       "         '#text': '2125153'}}},\n",
       "      {'Citation': 'Third East African-British Medical Research Councils. Controlled clinical trial of four short-course regimens of chemotherapy for two durations in the treatment of pulmonary tuberculosis: first report. Am Rev Respir Dis. 1978;118:39–48.',\n",
       "       'ArticleIdList': {'ArticleId': {'@IdType': 'pubmed',\n",
       "         '#text': '79319'}}},\n",
       "      {'Citation': 'Third East African-British Medical Research Council. Controlled clinical trial of four short-course regimens of chemotherapy for two durations in the treatment of pulmonary tuberculosis. Second report. Tubercle. 1980;61:59–69.',\n",
       "       'ArticleIdList': {'ArticleId': {'@IdType': 'pubmed',\n",
       "         '#text': '6159711'}}},\n",
       "      {'Citation': 'Hong Kon Chest Service and British Medical Research Council. Controlled trial of 6-month and 8-month regimens in the treatment of pulmonary tuberculosis. First report. Am Rev Respir Dis. 1978;118:219–228.',\n",
       "       'ArticleIdList': {'ArticleId': {'@IdType': 'pubmed',\n",
       "         '#text': '100029'}}},\n",
       "      {'Citation': 'Hong Kon Chest Service and British Medical Research Council. Controlled trial of 6-month and 8-month regimens in the treatment of pulmonary tuberculosis: the results up to 24 months. Tubercle. 1979;60:201–210.',\n",
       "       'ArticleIdList': {'ArticleId': {'@IdType': 'pubmed',\n",
       "         '#text': '396701'}}},\n",
       "      {'Citation': 'Singapore Tuberculosis Service-British Medical Research Council. Clinical trial of six-month and four-month regimens of chemotherapy in the treatment of pulmonary tuberculosis. Am Rev Respir Dis. 1979;119:579–585.',\n",
       "       'ArticleIdList': {'ArticleId': {'@IdType': 'pubmed',\n",
       "         '#text': '375787'}}},\n",
       "      {'Citation': 'Singapore Tuberculosis Service-British Medical Research Council. Clinical trial of six-month and four-month regimens of chemotherapy in the treatment of pulmonary tuberculosis: the results up to 30 months. Tubercle. 1981;62:95–102.',\n",
       "       'ArticleIdList': {'ArticleId': {'@IdType': 'pubmed',\n",
       "         '#text': '7029838'}}},\n",
       "      {'Citation': 'Singapore Tuberculosis Service-British Medical Research Council. Long-term follow-up of a clinical trial of six-month and four-month regimens of chemotherapy in the treatment of pulmonary tuberculosis. Am Rev Respir Dis. 1986;133:779–783.',\n",
       "       'ArticleIdList': {'ArticleId': {'@IdType': 'pubmed',\n",
       "         '#text': '2871788'}}},\n",
       "      {'Citation': 'Hong Kong Chest Service-British Medical Research Council. Controlled trial of 4 three-times-weekly regimens and a daily regimen all given for 6 months for pulmonary tuberculosis. Second report: the results up to 24 months. Tubercle. 1982;63:89–98.',\n",
       "       'ArticleIdList': {'ArticleId': {'@IdType': 'pubmed',\n",
       "         '#text': '6758252'}}},\n",
       "      {'Citation': 'Hong Kong Chest Service-British Medical Research Council. Five-year follow-up of a controlled trial of five 6-month regimens of chemotherapy for pulmonary tuberculosis. Am Rev Respir Dis. 1987;136:1339–1342.',\n",
       "       'ArticleIdList': {'ArticleId': {'@IdType': 'pubmed',\n",
       "         '#text': '2891333'}}},\n",
       "      {'Citation': 'Algerian Working Group-British Medical Research Council. Controlled clinical trial comparing a 6-month and a 12-month regimen in the treatment of pulmonary tuberculosis in the Algerian Sahara. Am Rev Respir Dis. 1984;129:921–928.',\n",
       "       'ArticleIdList': {'ArticleId': {'@IdType': 'pubmed',\n",
       "         '#text': '6375490'}}},\n",
       "      {'Citation': 'East and Central African-British Medical Research Council. Controlled clinical trial of 4 short-course regimens of chemotherapy (three 6-month and one 8-month) for pulmonary tuberculosis. Tubercle. 1983;64:153–166.',\n",
       "       'ArticleIdList': {'ArticleId': {'@IdType': 'pubmed',\n",
       "         '#text': '6356538'}}},\n",
       "      {'Citation': 'East and Central African-British Medical Research Council. Controlled clinical trial of 4 short-course regimens of chemotherapy (three 6-month and one 8-month) for pulmonary tuberculosis: final report. Tubercle. 1986;67:5–15.',\n",
       "       'ArticleIdList': {'ArticleId': {'@IdType': 'pubmed',\n",
       "         '#text': '3521015'}}},\n",
       "      {'Citation': 'Tanzania-British Medical Research Council. Controlled clinical trial of two 6-month regimens of chemotherapy in the treatment of pulmonary tuberculosis. Am Rev Respir Dis. 1985;131:727–731.',\n",
       "       'ArticleIdList': {'ArticleId': {'@IdType': 'pubmed',\n",
       "         '#text': '3890640'}}},\n",
       "      {'Citation': 'Singapore Tuberculosis Service-British Medical Research Council. Clinical trial of three 6-month regimens of chemotherapy given intermittently in the continuation phase in the treatment of pulmonary tuberculosis. Am Rev Respir Dis. 1985;132:374–378.',\n",
       "       'ArticleIdList': {'ArticleId': {'@IdType': 'pubmed',\n",
       "         '#text': '2862820'}}},\n",
       "      {'Citation': 'Singapore Tuberculosis Service-British Medical Research Council. Five-year follow-up of a clinical trial of three 6-month regimens of chemotherapy given intermittently in the continuation phase in the treatment of pulmonary tuberculosis. Am Rev Respir Dis. 1988;137:1147–1150.',\n",
       "       'ArticleIdList': {'ArticleId': {'@IdType': 'pubmed',\n",
       "         '#text': '2904237'}}},\n",
       "      {'Citation': 'Hong Kong Chest Service-Tuberculosis Research Centre Madras-British Medical Research Council. A controlled trial of 3-month, 4-month, and 6-month regimens of chemotherapy for sputum-smear-negative pulmonary tuberculosis. Results at 5 years. Am Rev Respir Dis. 1989;139:871–876.',\n",
       "       'ArticleIdList': {'ArticleId': {'@IdType': 'pubmed',\n",
       "         '#text': '2648911'}}},\n",
       "      {'Citation': 'Hong Kong Chest Service-Tuberculosis Research Centre MBMRC. A controlled clinical comparison of 6 and 8 months of antituberculosis chemotherapy in the treatment of patients with silicotuberculosis in Hong Kong. Am Rev Respir Dis. 1991;143:262–267.',\n",
       "       'ArticleIdList': {'ArticleId': {'@IdType': 'pubmed',\n",
       "         '#text': '1990938'}}},\n",
       "      {'Citation': 'Hong Kong Chest Service-British Medical Research Council. Controlled trial of 2, 4, and 6 months of pyrazinamide in 6-month, three-times-weekly regimens for smear-positive pulmonary tuberculosis, including an assessment of a combined preparation of isoniazid, rifampin, and pyrazinamide. Results at 30 months. Am Rev Respir Dis. 1991;143:700–706.',\n",
       "       'ArticleIdList': {'ArticleId': {'@IdType': 'pubmed',\n",
       "         '#text': '1901199'}}},\n",
       "      {'Citation': 'Singapore Tuberculosis Service-British Medical Research Council. Assessment of a daily combined preparation of isoniazid, rifampin, and pyrazinamide in a controlled trial of three 6-month regimens for smear-positive pulmonary tuberculosis. Am Rev Respir Dis. 1991;143:707–712.',\n",
       "       'ArticleIdList': {'ArticleId': {'@IdType': 'pubmed',\n",
       "         '#text': '1901200'}}},\n",
       "      {'Citation': 'Kenyan-Zambian-British Medical Research Council. Controlled clinical trial of levamisole in short-course chemotherapy for pulmonary tuberculosis. Am Rev Respir Dis. 1989;140:990–995.',\n",
       "       'ArticleIdList': {'ArticleId': {'@IdType': 'pubmed',\n",
       "         '#text': '2508527'}}},\n",
       "      {'Citation': 'Tuberculosis Research Centre Madras. A controlled clinical trial of 3- and 5-month regimens in the treatment of sputum-positive pulmonary tuberculosis in South India. Am Rev Respir Dis. 1986;134:27–33.',\n",
       "       'ArticleIdList': {'ArticleId': {'@IdType': 'pubmed',\n",
       "         '#text': '3524334'}}},\n",
       "      {'Citation': 'Zierski M, Bek E, Long MW, Snider DE., Jr Short-course (6-month) cooperative tuberculosis study in Poland: results 30 months after completion of treatment. Am Rev Respir Dis. 1981;124:249–251.',\n",
       "       'ArticleIdList': {'ArticleId': {'@IdType': 'pubmed',\n",
       "         '#text': '7283257'}}},\n",
       "      {'Citation': 'Zierski M, Bek E, Long MW, Snider DE., Jr Short-course (6 month) cooperative tuberculosis study in Poland: results 18 months after completion of treatment. Am Rev Respir Dis. 1980;122:879–889.',\n",
       "       'ArticleIdList': {'ArticleId': {'@IdType': 'pubmed',\n",
       "         '#text': '7006476'}}},\n",
       "      {'Citation': 'Algerian Working Group-British Medical Research Council Cooperative Study. Short-course chemotherapy for pulmonary tuberculosis under routine programme conditions: a comparison of regimens of 28 and 36 weeks duration in Algeria. Tubercle. 1991;72:88–100.',\n",
       "       'ArticleIdList': {'ArticleId': {'@IdType': 'pubmed',\n",
       "         '#text': '1949222'}}},\n",
       "      {'Citation': 'Hong Kong Chest Service, Tuberculosis Research Centre M, British Medical Research Council. A controlled trial of 2-month, 3-month, and 12-month regimens of chemotherapy for sputum-smear-negative pulmonary tuberculosis. Am Rev Respir Dis. 1984;130:23–28.',\n",
       "       'ArticleIdList': {'ArticleId': {'@IdType': 'pubmed',\n",
       "         '#text': '6377997'}}},\n",
       "      {'Citation': 'Tripathy SP. Madras study of short-course chemotherapy in pulmonary tuberculosis. Bull Int Union Tuberc. 1979;54:28–30.'},\n",
       "      {'Citation': 'East African British Medical Research Councils. Controlled clinical trial of five short-course (4 month) chemotherapy regimens in pulmonary tuberculosis. Am Rev Respir Dis. 1981;123:165–170.',\n",
       "       'ArticleIdList': {'ArticleId': {'@IdType': 'pubmed',\n",
       "         '#text': '7015933'}}},\n",
       "      {'Citation': \"Agounitestane D, Chiheb M, Khaled S, Khaled NA, Boulahbal F, et al. Essai thérapeutique d'une combinaison de trois médicaments essentiels dans la chimiothérapie courte de la tuberculose. Rev Mal Resp. 1990;7:209–213.\",\n",
       "       'ArticleIdList': {'ArticleId': {'@IdType': 'pubmed',\n",
       "         '#text': '2114029'}}},\n",
       "      {'Citation': 'Mazouni L, Tazir M, Boulahbal F, Chaulet P. Enquête contrôlée comparant trois règimes de chiniothérapie quotidienne de six mois dans la tuberculose pulmonaire, en pratique de routine à Alger. Rev Mal Resp. 1985;2:209–214.',\n",
       "       'ArticleIdList': {'ArticleId': {'@IdType': 'pubmed',\n",
       "         '#text': '3937189'}}},\n",
       "      {'Citation': 'Poppe de Figeuiredo F, Alves Brito A, Laborne Valle JH, Martins Tavares P, Linhares Trannin P. Short duration chemotherapy of pulmonary tuberculosis: a pilot trial. Bull Int Union Tuberc. 1974;49:382.',\n",
       "       'ArticleIdList': {'ArticleId': {'@IdType': 'pubmed', '#text': '0'}}},\n",
       "      {'Citation': 'East African and British Medical Research Councils. Controlled clinical trial of five short-course (4-month) chemotherapy regimens in pulmonary tuberculosis. Lancet. 1978;2:334–338.',\n",
       "       'ArticleIdList': {'ArticleId': {'@IdType': 'pubmed',\n",
       "         '#text': '79708'}}},\n",
       "      {'Citation': \"Chaulet P, Boulahbal F. Essai clinique d'une combinaison en proportions fixes de trois medicaments dans le traitement de la tuberculose. Tuberc Lung Dis. 1995;76:407–412.\",\n",
       "       'ArticleIdList': {'ArticleId': {'@IdType': 'pubmed',\n",
       "         '#text': '7496001'}}},\n",
       "      {'Citation': 'Hong Kong Chest Service, Tuberculosis Research Centre M, British Medical Research Council. A controlled trial of 2-month, 3-month, and 12-month regimens of chemotherapy for sputum smear-negative pulmonary tuberculosis: the results at 30 months. Am Rev Respir Dis. 1981;124:138–142.',\n",
       "       'ArticleIdList': {'ArticleId': {'@IdType': 'pubmed',\n",
       "         '#text': '6789733'}}},\n",
       "      {'Citation': 'Heldal E, Arnadottier T, Cruz JR, Tardencilla A, Chacon L. Low failure rate in standardised retreatment of tuberculosis in Nicaragua: patient category, drug resistance and survival of ‘chronic’ patients. Int J Tuber Lung Dis. 2001;5:129–136.',\n",
       "       'ArticleIdList': {'ArticleId': {'@IdType': 'pubmed',\n",
       "         '#text': '11258506'}}},\n",
       "      {'Citation': 'Quy HT, Lan NT, Borgdorff MW, Grosset J, Linh PD, et al. Drug resistance among failure and relapse cases of tuberculosis: is the standard re-treatment regimen adequate? Int J Tuberc Lung Dis. 2003;7:631–636.',\n",
       "       'ArticleIdList': {'ArticleId': {'@IdType': 'pubmed',\n",
       "         '#text': '12870683'}}},\n",
       "      {'Citation': 'Sonnenberg P, Murray J, Glynn JR, Shearer S, Kambashi B, et al. HIV-1 and recurrence, relapse, and reinfection of tuberculosis after cure: a cohort study in South African mineworkers. Lancet. 2001;358:1687–1693.',\n",
       "       'ArticleIdList': {'ArticleId': {'@IdType': 'pubmed',\n",
       "         '#text': '11728545'}}},\n",
       "      {'Citation': 'Ramos JM, Padilla S, Masia M, Gutierrez F. A bibliometric analysis of tuberculosis research indexed in PubMed, 1997–2006. In J Tuberc Lung Dis. 2008;12:1461–1467.',\n",
       "       'ArticleIdList': {'ArticleId': {'@IdType': 'pubmed',\n",
       "         '#text': '19017458'}}},\n",
       "      {'Citation': 'Espinal M, Farmer P. The Cambridge declaration: towards clinical trials for drug-resistant tuberculosis. Int J Tuberc Lung Dis. 2009;13:1–2.',\n",
       "       'ArticleIdList': {'ArticleId': {'@IdType': 'pubmed',\n",
       "         '#text': '19105870'}}},\n",
       "      {'Citation': 'World Health Organization. Anti-tuberculosis drug resistance in the world report no. 4. 2008. WHO/HTM/TB/2008.'},\n",
       "      {'Citation': 'Mitnick CD, Castro KG, Harrington M, Sacks LV, Burman W. Randomized trials to optimize treatment of multidrug-resistant tuberculosis. PLoS Med. 2007;4:e292. doi: 10.1371/journal.pmed.0040292.',\n",
       "       'ArticleIdList': {'ArticleId': [{'@IdType': 'doi',\n",
       "          '#text': '10.1371/journal.pmed.0040292'},\n",
       "         {'@IdType': 'pmc', '#text': 'PMC2062482'},\n",
       "         {'@IdType': 'pubmed', '#text': '17988168'}]}},\n",
       "      {'Citation': 'World Health Organization. Global tuberculosis control. 2008. surveillance, planning, financing (WHO/HTM/TB/2006.362)'},\n",
       "      {'Citation': 'Cohen T, Lipsitch M, Walensky RP, Murray M. Beneficial and perverse effects of isoniazid preventive therapy for latent tuberculosis infection in HIV-tuberculosis coinfected populations. Proc Natl Acad Sci. 2006;103:7042–7047.',\n",
       "       'ArticleIdList': {'ArticleId': [{'@IdType': 'pmc',\n",
       "          '#text': 'PMC1459015'},\n",
       "         {'@IdType': 'pubmed', '#text': '16632605'}]}},\n",
       "      {'Citation': 'Balcells INH resistance after INH therapy. Emerg Infect Dis. 2006:744–749.',\n",
       "       'ArticleIdList': {'ArticleId': [{'@IdType': 'pmc',\n",
       "          '#text': 'PMC3374455'},\n",
       "         {'@IdType': 'pubmed', '#text': '16704830'}]}},\n",
       "      {'Citation': \"World Health Organization. 2009. pp. 1–15. WHO Three I's Meeting.\"},\n",
       "      {'Citation': 'World Health Organization. Treatment of tuberculosis: Guidelines. 4th edition. Geneva: WHO. WHO/HTM/TB/2009.420; 2009.'}]}}}}}"
      ]
     },
     "execution_count": 11,
     "metadata": {},
     "output_type": "execute_result"
    }
   ],
   "source": [
    "    try:\n",
    "        article = summary['PubmedArticleSet']['PubmedArticle']\n",
    "        abstract_raw = article['MedlineCitation']['Article']['Abstract']['AbstractText']\n",
    "        if isinstance(abstract_raw, str):\n",
    "            abstract = abstract_raw\n",
    "        elif isinstance(abstract_raw, list):\n",
    "            abstract = \"\"\n",
    "            for d in abstract_raw:\n",
    "                abstract += d['#text'] + \" \" \n",
    "        else:\n",
    "            try: \n",
    "                abstract = \"\"\n",
    "                abstract += abstract_raw['#text'] + \" \"\n",
    "            except:\n",
    "                for d in abstract_raw:\n",
    "                    abstract += abstract_raw[d] + \" \" \n",
    "\n",
    "        return abstract"
   ]
  },
  {
   "cell_type": "markdown",
   "id": "a0068b37-9ae4-444b-874d-2cd5e173b7e5",
   "metadata": {},
   "source": [
    "## 1. PubMed API Entrez Interactions"
   ]
  },
  {
   "cell_type": "markdown",
   "id": "81134853-e4da-4e60-aff1-f34443f4ae7b",
   "metadata": {},
   "source": [
    "First of all we are going to explore PubMed in order to find out how many publications for each among 5 forges are there."
   ]
  },
  {
   "cell_type": "code",
   "execution_count": 5,
   "id": "188978bd-1f8f-4fc5-9928-9157a341cda3",
   "metadata": {},
   "outputs": [],
   "source": [
    "queries_github = []\n",
    "queries_gitlab = []\n",
    "queries_sourceforge = []\n",
    "queries_googlecode = []\n",
    "queries_bitbucket = []\n",
    "\n",
    "#creating queries for every forge and every year\n",
    "for year in range(2009, 2023):\n",
    "    queries_github.append(f'((github.com[Title/Abstract])) AND ((\"{year}/01/01\"[Date - Publication] : \"{year}/12/31\"[Date - Publication]))')\n",
    "    queries_gitlab.append(f'((https://gitlab[Title/Abstract])) AND ((\"{year}/01/01\"[Date - Publication] : \"{year}/12/31\"[Date - Publication]))')\n",
    "    queries_sourceforge.append(f'((sourceforge.net[Title/Abstract])) AND ((\"{year}/01/01\"[Date - Publication] : \"{year}/12/31\"[Date - Publication]))')\n",
    "    queries_googlecode.append(f'((googlecode) OR (\"code.google.com\") AND (\"{year}/01/01\"[Date - Publication] : \"{year}/12/31\"[Date - Publication]))')\n",
    "    queries_bitbucket.append(f'((bitbucket.org[Title/Abstract]) AND (\"{year}/01/01\"[Date - Publication] : \"{year}/12/31\"[Date - Publication]))')"
   ]
  },
  {
   "cell_type": "code",
   "execution_count": 6,
   "id": "975bb2c5-a417-48a3-adcd-198c2cb08332",
   "metadata": {},
   "outputs": [
    {
     "name": "stderr",
     "output_type": "stream",
     "text": [
      "100%|██████████████████████████████████████████████████████████████████████████████████| 14/14 [00:12<00:00,  1.09it/s]\n",
      "100%|██████████████████████████████████████████████████████████████████████████████████| 14/14 [00:09<00:00,  1.44it/s]\n",
      "100%|██████████████████████████████████████████████████████████████████████████████████| 14/14 [00:09<00:00,  1.43it/s]\n",
      "100%|██████████████████████████████████████████████████████████████████████████████████| 14/14 [00:09<00:00,  1.50it/s]\n",
      "100%|██████████████████████████████████████████████████████████████████████████████████| 14/14 [00:09<00:00,  1.46it/s]"
     ]
    },
    {
     "name": "stdout",
     "output_type": "stream",
     "text": [
      "\n",
      "10857 articles with 'github.com' found in PubMed\n"
     ]
    },
    {
     "name": "stderr",
     "output_type": "stream",
     "text": [
      "\n"
     ]
    }
   ],
   "source": [
    "#dictionaries for stocking the number of articles for each forge for each year\n",
    "#example: {'2009': 0, '2010': 5, '2011': 15, ... }\n",
    "\n",
    "PMIDs = []\n",
    "PMIDs_all = []\n",
    "\n",
    "stats_github = pbmd.get_forges_stat(queries_github, PMIDs)\n",
    "stats_gitlab = pbmd.get_forges_stat(queries_gitlab, PMIDs_all)\n",
    "stats_sourceforge = pbmd.get_forges_stat(queries_sourceforge, PMIDs_all)\n",
    "stats_googlecode = pbmd.get_forges_stat(queries_googlecode, PMIDs_all)\n",
    "stats_bitbucket = pbmd.get_forges_stat(queries_bitbucket, PMIDs_all)\n",
    "\n",
    "print(f\"\\n{len(PMIDs)} articles with 'github.com' found in PubMed\")"
   ]
  },
  {
   "cell_type": "code",
   "execution_count": 7,
   "id": "e968d76d-0ce9-460f-80c4-1803faebded5",
   "metadata": {},
   "outputs": [],
   "source": [
    "#saving the statistics to reuse it in another notebook\n",
    "\n",
    "with open(\"../data/PMIDs.txt\", \"w\") as f:\n",
    "    for PMID in PMIDs:\n",
    "        f.write(str(PMID)+\"\\n\")\n",
    "with open(\"../data/stats_github.json\", \"w\") as f:\n",
    "    json.dump(stats_github, f)\n",
    "with open(\"../data/stats_gitlab.json\", \"w\") as f:\n",
    "    json.dump(stats_gitlab, f)\n",
    "with open(\"../data/stats_sourceforge.json\", \"w\") as f:\n",
    "    json.dump(stats_sourceforge, f)    \n",
    "with open(\"../data/stats_googlecode.json\", \"w\") as f:\n",
    "    json.dump(stats_googlecode, f)\n",
    "with open(\"../data/stats_bitbucket.json\", \"w\") as f:\n",
    "    json.dump(stats_bitbucket, f)"
   ]
  },
  {
   "cell_type": "code",
   "execution_count": 230,
   "id": "98176cc7-615e-4060-84e2-f2b2dd617b87",
   "metadata": {},
   "outputs": [],
   "source": [
    "# https://pubmed.ncbi.nlm.nih.gov/26262258/ - No DOI in PubMed although there is one in the full text of the article (not from ArXiv), and there are a lot of them\n",
    "# https://pubmed.ncbi.nlm.nih.gov/28269829/ - they give a wrong link https://github.com/SBU-BMI/imageboxs://github.com/SBU-BMI/imagebox but if you use this link :\n",
    "# https://github.com/SBU-BMI/imagebox it works. Yet, i am not sure that it is actually what we are looking for since they also provide another link to github.io \n",
    "# (also incorect) and i think it's more likely that their code is there\n",
    "# PMID = 36789260 - 2 links\n",
    "# https://github.com/tyqGitHub/TYQ/tree/master/GACNNMDA - ????\n",
    "# https://github.com/mofradlab - ?????? (PMID 36786404)\n",
    "# PMID = 26124555 - a space in the link\n",
    "# PMID = 24324759, 22151646 - no space after link\n",
    "# PMID = 23849037 - why + in the end ?\n",
    "# PMID = 36315552 - super smart"
   ]
  },
  {
   "cell_type": "markdown",
   "id": "7a4aac81-c8b6-4712-98c2-f0a3e9ff1563",
   "metadata": {},
   "source": [
    "Next we will use API PubMed to gather the information about each article such as the publication date, the doi, the abstract, the title of the article and the journal. We will then analyse this information."
   ]
  },
  {
   "cell_type": "code",
   "execution_count": 14,
   "id": "e8425aae-1da2-443d-a325-dc4a1fbe4814",
   "metadata": {},
   "outputs": [],
   "source": [
    "results = []"
   ]
  },
  {
   "cell_type": "code",
   "execution_count": null,
   "id": "b5b5aead-fa36-41c6-af77-8af8138b0ff6",
   "metadata": {},
   "outputs": [
    {
     "name": "stderr",
     "output_type": "stream",
     "text": [
      "  0%|▎                                                                            | 49/10858 [00:42<2:15:43,  1.33it/s]"
     ]
    }
   ],
   "source": [
    "#API Pubmed rate limit is 10 request per second with a token and 3 request par second without it\n",
    "\n",
    "#count = 0\n",
    "for PMID in tqdm(PMIDs):\n",
    "    #count += 1\n",
    "    #if count % 10 == 0:\n",
    "    #    time.sleep(1)\n",
    "    \n",
    "    try:\n",
    "        summary = pbmd.get_summary(PMID, PUBMED_TOKEN, \"../data/log_files/status.txt\")\n",
    "    except:\n",
    "        try:\n",
    "            summary = pbmd.get_summary(PMID, PUBMED_TOKEN, \"../data/log_files/status.txt\")\n",
    "        except:\n",
    "            continue\n",
    "            \n",
    "    abstract = pbmd.get_abstract_from_summary(summary, \"../data/log_files/status.txt\")\n",
    "    pubdate = pbmd.get_pubdate_from_summary(summary, \"../data/log_files/status.txt\")\n",
    "    title = pbmd.get_title_from_summary(summary, \"../data/log_files/status.txt\")\n",
    "    journal = pbmd.get_journal_from_summary(summary, \"../data/log_files/status.txt\")\n",
    "    doi = pbmd.get_doi_from_summary(summary, \"../data/log_files/status.txt\")  \n",
    "\n",
    "    results.append((PMID, pubdate, doi, journal, title, abstract))"
   ]
  },
  {
   "cell_type": "code",
   "execution_count": 141,
   "id": "e11bc34d-7377-4167-8d80-48952e78323a",
   "metadata": {},
   "outputs": [],
   "source": [
    "df = pd.DataFrame.from_records(results)\n",
    "df = df.rename(columns = {0: 'PMID', 1: 'PubDate', 2: 'DOI', 3: 'Journal', 4: 'Title', 5: 'Abstract'})\n",
    "df = df.drop_duplicates(subset = 'PMID')\n",
    "df = df.reset_index(drop = True)"
   ]
  },
  {
   "cell_type": "code",
   "execution_count": 149,
   "id": "9a6c9a6e-9a56-4117-b4c9-28bec1d25313",
   "metadata": {},
   "outputs": [
    {
     "name": "stdout",
     "output_type": "stream",
     "text": [
      "Number of records without publication date is: 59\n"
     ]
    }
   ],
   "source": [
    "print(f\"Number of records without publication date is: {len(df[df['PubDate'].isnull()])}\")"
   ]
  },
  {
   "cell_type": "code",
   "execution_count": 22,
   "id": "94f8544e-f411-40c6-bd35-318d762992e3",
   "metadata": {},
   "outputs": [],
   "source": [
    "df.to_csv('../data/articles.tsv', sep='\\t', index=False)"
   ]
  },
  {
   "cell_type": "markdown",
   "id": "d566e858-dc91-44d1-9e85-13a0fc89f892",
   "metadata": {},
   "source": [
    "## 2. Geting links from the obtained data using regex"
   ]
  },
  {
   "cell_type": "code",
   "execution_count": 88,
   "id": "5f1cfe1c-42eb-4958-a13c-8c7d43136ae0",
   "metadata": {},
   "outputs": [],
   "source": [
    "df = pd.read_csv('../data/articles.tsv', sep='\\t')"
   ]
  },
  {
   "cell_type": "code",
   "execution_count": 89,
   "id": "b8ce85de-20f7-4211-830b-4c6e01e0eb60",
   "metadata": {},
   "outputs": [],
   "source": [
    "df['GitHub_link_raw'] = df['Abstract'].astype(str).apply(pbmd.get_link_from_abstract)\n",
    "df['GitHub_link_clean'] = df['GitHub_link_raw'].astype(str).apply(pbmd.clean_link)\n",
    "df['GitHub_owner'] = df['GitHub_link_clean'].apply(pbmd.get_owner_from_link)\n",
    "df['GitHub_repo'] = df['GitHub_link_clean'].apply(pbmd.get_repo_from_link)"
   ]
  },
  {
   "cell_type": "code",
   "execution_count": 90,
   "id": "964e174c-558c-445e-abec-a0b0c2c16b9b",
   "metadata": {},
   "outputs": [
    {
     "name": "stdout",
     "output_type": "stream",
     "text": [
      "Number of records with weird abstracts leading to inability to extract a link: 6\n"
     ]
    }
   ],
   "source": [
    "print(f\"Number of records with weird abstracts leading to inability to extract a link: {len(df[df['GitHub_owner'].isna()])}\")"
   ]
  },
  {
   "cell_type": "code",
   "execution_count": 91,
   "id": "1d2ae2ce-d877-42af-84d7-96db53d9dae2",
   "metadata": {},
   "outputs": [
    {
     "name": "stdout",
     "output_type": "stream",
     "text": [
      "Number of records without a repository name: 251\n"
     ]
    }
   ],
   "source": [
    "print(f\"Number of records without a repository name: {len(df[df['GitHub_repo'].isna()])-len(df[df['GitHub_owner'].isna()])}\")"
   ]
  },
  {
   "cell_type": "code",
   "execution_count": 164,
   "id": "84639824-a280-494b-b8e8-d2a5b6981006",
   "metadata": {},
   "outputs": [],
   "source": [
    "df.to_csv('../data/articles.tsv', sep='\\t', index=False)"
   ]
  },
  {
   "cell_type": "markdown",
   "id": "d124283b-c8d7-4c6a-913f-f64f2390d66a",
   "metadata": {},
   "source": [
    "## 3. GitHub API Interactions"
   ]
  },
  {
   "cell_type": "code",
   "execution_count": 4,
   "id": "160e77c7-4980-4dbc-bc92-ff9319cd9480",
   "metadata": {},
   "outputs": [],
   "source": [
    "df = pd.read_csv('../data/articles.tsv', sep='\\t')"
   ]
  },
  {
   "cell_type": "code",
   "execution_count": 111,
   "id": "f6bfbf59-53a2-4a9e-93cd-f509588406a6",
   "metadata": {},
   "outputs": [
    {
     "data": {
      "text/plain": [
       "10623"
      ]
     },
     "execution_count": 111,
     "metadata": {},
     "output_type": "execute_result"
    }
   ],
   "source": [
    "PMIDs = df['PMID'][df['GitHub_repo'].notna()].to_list()\n",
    "len(PMIDs)"
   ]
  },
  {
   "cell_type": "code",
   "execution_count": 113,
   "id": "36dd1992-56f7-42a8-95ae-810217f93e68",
   "metadata": {},
   "outputs": [
    {
     "name": "stderr",
     "output_type": "stream",
     "text": [
      "100%|██████████| 905/905 [05:39<00:00,  2.67it/s]\n"
     ]
    }
   ],
   "source": [
    "for PMID in tqdm(PMIDs):\n",
    "\n",
    "    with open(\"../data/log_files/gitstat.txt\", \"a\") as f:\n",
    "        f.write(f\"\\n\\n PMID: {PMID}, GitHub link: {df[df['PMID'] == PMID]['GitHub_link_clean'].values[0]}\")\n",
    "\n",
    "    info = pbmd.get_repo_info(df[df['PMID']==PMID]['GitHub_owner'].values[0], \n",
    "                              df[df['PMID']==PMID]['GitHub_repo'].values[0], \n",
    "                              GITHUB_TOKEN, \"../data/log_files/gitstat.txt\")\n",
    "\n",
    "    if info[\"status\"]: \n",
    "        idx = df.index[df['PMID'] == PMID][0]\n",
    "    else:      \n",
    "        time.sleep(3600)      \n",
    "        info = pbmd.get_repo_info(df[df['PMID']==PMID]['GitHub_owner'].values[0], \n",
    "                                  df[df['PMID']==PMID]['GitHub_repo'].values[0], \n",
    "                                  GITHUB_TOKEN, \"../data/log_files/gitstat.txt\")\n",
    "\n",
    "    df.loc[idx, \"Repo_created_at\"] = pbmd.get_repo_date_created(info)\n",
    "    df.loc[idx, \"Repo_updated_at\"] = pbmd.get_repo_date_updated(info)\n",
    "    df.loc[idx, \"Fork\"] = pbmd.is_fork(info)\n"
   ]
  },
  {
   "cell_type": "code",
   "execution_count": null,
   "id": "682e0960-eefb-4676-a049-e22cca92418f",
   "metadata": {},
   "outputs": [
    {
     "data": {
      "text/plain": [
       "758"
      ]
     },
     "execution_count": 114,
     "metadata": {},
     "output_type": "execute_result"
    }
   ],
   "source": [
    "PMIDs = df['PMID'][df['Repo_created_at'].isna()].to_list()\n",
    "len(PMIDs)"
   ]
  },
  {
   "cell_type": "code",
   "execution_count": 115,
   "id": "fe532216-f508-4ff9-a16e-3bb957b1e344",
   "metadata": {},
   "outputs": [],
   "source": [
    "df.to_csv('../data/articles.tsv', sep='\\t', index=False)"
   ]
  },
  {
   "cell_type": "markdown",
   "id": "ad760f81-0cf8-4b5d-9015-bda6ac2d2487",
   "metadata": {},
   "source": [
    "## 4. Software Heritage API interactions"
   ]
  },
  {
   "cell_type": "code",
   "execution_count": 74,
   "id": "6aa51fd7-bd8c-472f-b659-edb3ded49461",
   "metadata": {},
   "outputs": [],
   "source": [
    "df = pd.read_csv('../data/articles.tsv', sep='\\t')"
   ]
  },
  {
   "cell_type": "code",
   "execution_count": 5,
   "id": "ca4481bb-3767-415c-bc0d-d460cdc7c5a4",
   "metadata": {},
   "outputs": [
    {
     "data": {
      "text/plain": [
       "10847"
      ]
     },
     "execution_count": 5,
     "metadata": {},
     "output_type": "execute_result"
    }
   ],
   "source": [
    "PMIDs = df['PMID'][df['GitHub_owner'].notna()].to_list()\n",
    "len(PMIDs)"
   ]
  },
  {
   "cell_type": "code",
   "execution_count": 6,
   "id": "5d60a2e7-1d01-4b23-8500-221e4a29c748",
   "metadata": {},
   "outputs": [
    {
     "name": "stderr",
     "output_type": "stream",
     "text": [
      "100%|██████████| 10847/10847 [19:47<00:00,  9.13it/s]  \n"
     ]
    }
   ],
   "source": [
    "for PMID in tqdm(PMIDs):\n",
    "    \n",
    "    try:\n",
    "        info = pbmd.check_is_in_softwh(df[df['PMID']==PMID]['GitHub_link_clean'].values[0])\n",
    "    except:\n",
    "        try:\n",
    "            info = pbmd.check_is_in_softwh(df[df['PMID']==PMID]['GitHub_link_clean'].values[0])\n",
    "        except:\n",
    "            continue\n",
    "\n",
    "    idx = df.index[df['PMID'] == PMID][0]\n",
    "\n",
    "    df.loc[idx, \"In_SoftWH\"] = pbmd.is_in_softwh(info)\n",
    "    df.loc[idx, \"Archived\"] = pbmd.get_date_archived(info)"
   ]
  },
  {
   "cell_type": "code",
   "execution_count": 57,
   "id": "3954853c-f227-4a5d-8c24-99694669cdd4",
   "metadata": {},
   "outputs": [],
   "source": [
    "df.to_csv('../data/articles.tsv', sep='\\t', index=False)"
   ]
  },
  {
   "cell_type": "markdown",
   "id": "6d478c7b-9a74-42fb-b71d-1c594eefdadc",
   "metadata": {},
   "source": [
    "## Unresolved links analysis"
   ]
  },
  {
   "cell_type": "markdown",
   "id": "1050e30a-a3d8-435a-a015-901296b70247",
   "metadata": {},
   "source": [
    "The repositories that we were anable to access via extracted links were analysed manualy to determine the reason. The following reasons were found:\n",
    "1. Error in the link\n",
    "2. Deleted repository or user\n",
    "3. Renamed repository"
   ]
  },
  {
   "cell_type": "code",
   "execution_count": null,
   "id": "b597f0b6-78f4-4736-9a89-ac0191b0c702",
   "metadata": {},
   "outputs": [],
   "source": [
    "df1 = pd.read_csv('no_info2.tsv', sep='\\t',usecols=['PMID', 'PubDate', 'DOI', 'Journal', 'Title', 'Abstract', 'Issue', 'GitHub_link_clean','Correct_link'])"
   ]
  },
  {
   "cell_type": "code",
   "execution_count": 384,
   "id": "6b70ec1b-96dd-43d1-9876-4dac90c542a0",
   "metadata": {},
   "outputs": [
    {
     "name": "stdout",
     "output_type": "stream",
     "text": [
      "Number of articles with a wrong link (either a space in the link, or no space after link, etc) : 58\n"
     ]
    }
   ],
   "source": [
    "print(f\"Number of articles with a wrong link (either a space in the link, or no space after link, etc) : {len(df1[df1['Issue'] == 'wrong link'])}\") "
   ]
  },
  {
   "cell_type": "code",
   "execution_count": 385,
   "id": "b34f0e2f-1e42-46ff-ae71-f984e2a433a3",
   "metadata": {},
   "outputs": [
    {
     "name": "stdout",
     "output_type": "stream",
     "text": [
      "Number of articles with a renamed repository : 11\n"
     ]
    }
   ],
   "source": [
    "print(f\"Number of articles with a renamed repository : {len(df1[df1['Issue'] == 'renamed'])}\") "
   ]
  },
  {
   "cell_type": "code",
   "execution_count": 386,
   "id": "a8db6bd5-d473-4a5f-85ab-e8b179186b0f",
   "metadata": {},
   "outputs": [
    {
     "name": "stdout",
     "output_type": "stream",
     "text": [
      "Number of articles with a deleted repository : 146\n"
     ]
    }
   ],
   "source": [
    "print(f\"Number of articles with a deleted repository : {len(df1[df1['Issue'] == 'owner deleted']) + len(df1[df1['Issue'] == 'repo deleted'])}\")"
   ]
  },
  {
   "cell_type": "markdown",
   "id": "18fd77b8-8cac-45be-af2f-928dd2d35cc5",
   "metadata": {},
   "source": [
    "Resolving unresolved but existing links"
   ]
  },
  {
   "cell_type": "code",
   "execution_count": 387,
   "id": "3db1fcb0-8066-4c19-a853-34ad54833439",
   "metadata": {},
   "outputs": [],
   "source": [
    "df1.loc[df['Correct_link'].notna(),'GitHub_owner'] = df1.loc[df['Correct_link'].notna(),'Correct_link'].apply(pbmd.get_owner_from_link)\n",
    "df1.loc[df['Correct_link'].notna(),'GitHub_repo'] = df1.loc[df['Correct_link'].notna(),'Correct_link'].apply(pbmd.get_repo_from_link)\n",
    "\n",
    "df1.loc[df['Correct_link'].isna(),'GitHub_owner'] = df1.loc[df['Correct_link'].isna(),'GitHub_link_clean'].apply(pbmd.get_owner_from_link)\n",
    "df1.loc[df['Correct_link'].isna(),'GitHub_repo'] = df1.loc[df['Correct_link'].isna(),'GitHub_link_clean'].apply(pbmd.get_repo_from_link)"
   ]
  },
  {
   "cell_type": "code",
   "execution_count": 389,
   "id": "35967c10-c389-4542-9dfb-cca1c8a61306",
   "metadata": {},
   "outputs": [
    {
     "data": {
      "text/plain": [
       "215"
      ]
     },
     "execution_count": 389,
     "metadata": {},
     "output_type": "execute_result"
    }
   ],
   "source": [
    "PMIDs = df1['PMID'][df1['GitHub_repo'].notna()].to_list()\n",
    "len(PMIDs)"
   ]
  },
  {
   "cell_type": "code",
   "execution_count": 390,
   "id": "2e7d124d-9a2b-443b-8c63-7ee3cbecc7cf",
   "metadata": {},
   "outputs": [
    {
     "name": "stderr",
     "output_type": "stream",
     "text": [
      "100%|████████████████████████████████████████████████████████████████████████████████| 215/215 [01:05<00:00,  3.30it/s]\n"
     ]
    }
   ],
   "source": [
    "count = 0\n",
    "for PMID in tqdm(PMIDs):\n",
    "    count += 1\n",
    "    if count % 5000 == 0:\n",
    "        time.sleep(3600)\n",
    "    \n",
    "    with open(\"gitstat.txt\", \"a\") as f:\n",
    "        f.write(f\"\\n\\n PMID: {PMID}, GitHub link: {df1[df1['PMID'] == PMID]['Correct_link'].values[0]}\")\n",
    "\n",
    "    info = pbmd.get_repo_info(df1[df1['PMID']==PMID]['GitHub_owner'].values[0], df1[df1['PMID']==PMID]['GitHub_repo'].values[0], GITHUB_TOKEN, \"gitstat.txt\")\n",
    "\n",
    "    idx = df1.index[df['PMID'] == PMID][0]\n",
    "\n",
    "    df1.loc[idx, \"Repo_created_at\"] = pbmd.get_repo_date_created(info)\n",
    "    df1.loc[idx, \"Repo_updated_at\"] = pbmd.get_repo_date_updated(info)\n",
    "    df1.loc[idx, \"Fork\"] = pbmd.is_fork(info)"
   ]
  },
  {
   "cell_type": "code",
   "execution_count": 391,
   "id": "ae1722cd-c089-456a-97b4-5267d944a463",
   "metadata": {},
   "outputs": [
    {
     "data": {
      "text/plain": [
       "69"
      ]
     },
     "execution_count": 391,
     "metadata": {},
     "output_type": "execute_result"
    }
   ],
   "source": [
    "PMIDs = df1['PMID'][df1['Correct_link'].notna()].to_list()\n",
    "len(PMIDs)"
   ]
  },
  {
   "cell_type": "code",
   "execution_count": 392,
   "id": "3ea729a9-2a5a-4d81-99c8-7e2718000724",
   "metadata": {},
   "outputs": [
    {
     "name": "stderr",
     "output_type": "stream",
     "text": [
      "100%|██████████████████████████████████████████████████████████████████████████████████| 69/69 [00:13<00:00,  5.03it/s]\n"
     ]
    }
   ],
   "source": [
    "for PMID in tqdm(PMIDs):\n",
    "    \n",
    "    info = pbmd.check_is_in_softwh(df1[df1['PMID']==PMID]['Correct_link'].values[0])\n",
    "\n",
    "    idx = df1.index[df1['PMID'] == PMID][0]\n",
    "    \n",
    "    df1.loc[idx, \"In_SoftWH\"] = pbmd.is_in_softwh(info)\n",
    "    df1.loc[idx, \"Archived\"] = pbmd.get_date_archived(info)"
   ]
  },
  {
   "cell_type": "code",
   "execution_count": 393,
   "id": "d3c3010b-1b18-4875-bf57-c3e100883ef8",
   "metadata": {},
   "outputs": [
    {
     "data": {
      "text/plain": [
       "146"
      ]
     },
     "execution_count": 393,
     "metadata": {},
     "output_type": "execute_result"
    }
   ],
   "source": [
    "PMIDs = df1['PMID'][df1['Correct_link'].isna()].to_list()\n",
    "len(PMIDs)"
   ]
  },
  {
   "cell_type": "code",
   "execution_count": 394,
   "id": "0d615f28-b18d-4cd0-9407-5d6e88b9e7c7",
   "metadata": {},
   "outputs": [
    {
     "name": "stderr",
     "output_type": "stream",
     "text": [
      "100%|████████████████████████████████████████████████████████████████████████████████| 146/146 [00:56<00:00,  2.60it/s]\n"
     ]
    }
   ],
   "source": [
    "for PMID in tqdm(PMIDs):\n",
    "    \n",
    "    info = pbmd.check_is_in_softwh(df1[df1['PMID']==PMID]['GitHub_link_clean'].values[0])\n",
    "\n",
    "    idx = df1.index[df1['PMID'] == PMID][0]\n",
    "    \n",
    "    df1.loc[idx, \"In_SoftWH\"] = pbmd.is_in_softwh(info)\n",
    "    df1.loc[idx, \"Archived\"] = pbmd.get_date_archived(info)"
   ]
  },
  {
   "cell_type": "code",
   "execution_count": 396,
   "id": "414b497b-bf2c-432e-86c7-cfe37b3af1d2",
   "metadata": {},
   "outputs": [
    {
     "name": "stdout",
     "output_type": "stream",
     "text": [
      "Repositories that are forks : 0\n"
     ]
    }
   ],
   "source": [
    "print(f\"Repositories that are forks : {len(df1[df1['Fork'] == 1])}\")"
   ]
  },
  {
   "cell_type": "code",
   "execution_count": 397,
   "id": "2433e02b-40b0-4b61-8636-a35d3954f887",
   "metadata": {},
   "outputs": [
    {
     "name": "stdout",
     "output_type": "stream",
     "text": [
      "Not in SoftWH : 118\n"
     ]
    }
   ],
   "source": [
    "print(f\"Not in SoftWH : {len(df1[df1['In_SoftWH'] == 0])}\")"
   ]
  },
  {
   "cell_type": "code",
   "execution_count": null,
   "id": "b561b266-3336-4238-8827-87c3bef2740d",
   "metadata": {},
   "outputs": [
    {
     "name": "stdout",
     "output_type": "stream",
     "text": [
      "In SoftWH : 97\n"
     ]
    }
   ],
   "source": [
    "print(f\"In SoftWH : {len(df1[df1['In_SoftWH'] == 1])}\")"
   ]
  },
  {
   "cell_type": "code",
   "execution_count": null,
   "id": "23fad432-e0f1-4cb4-991b-a88ca809422d",
   "metadata": {},
   "outputs": [
    {
     "name": "stdout",
     "output_type": "stream",
     "text": [
      "Were deleted but archived in SoftWH : 49\n"
     ]
    },
    {
     "name": "stderr",
     "output_type": "stream",
     "text": [
      "C:\\Users\\nadia\\AppData\\Local\\Temp\\ipykernel_9668\\3996960915.py:1: UserWarning: Boolean Series key will be reindexed to match DataFrame index.\n",
      "  print(f\"Were deleted but archived in SoftWH : {len(df[df['Correct_link'].isna()][df['In_SoftWH'] == 1])}\")\n"
     ]
    }
   ],
   "source": [
    "print(f\"Were deleted but archived in SoftWH : {len(df1[df1['Correct_link'].isna()][df1['In_SoftWH'] == 1])}\")"
   ]
  }
 ],
 "metadata": {
  "kernelspec": {
   "display_name": "Python 3 (ipykernel)",
   "language": "python",
   "name": "python3"
  },
  "language_info": {
   "codemirror_mode": {
    "name": "ipython",
    "version": 3
   },
   "file_extension": ".py",
   "mimetype": "text/x-python",
   "name": "python",
   "nbconvert_exporter": "python",
   "pygments_lexer": "ipython3",
   "version": "3.9.13"
  }
 },
 "nbformat": 4,
 "nbformat_minor": 5
}

{
 "cells": [
  {
   "cell_type": "markdown",
   "id": "43c5ca6a-125a-4118-b3d2-1e45626d1212",
   "metadata": {},
   "source": [
    "# Current Trends in Bioinformatics Software Development and Archiving"
   ]
  },
  {
   "cell_type": "code",
   "execution_count": 1,
   "id": "2092ef92-81df-4128-a1fa-f728c558bac0",
   "metadata": {},
   "outputs": [],
   "source": [
    "from datetime import datetime\n",
    "import json\n",
    "import re\n",
    "import time\n",
    "\n",
    "import dotenv\n",
    "import matplotlib.pyplot as plt\n",
    "import numpy as np\n",
    "import os\n",
    "import pandas as pd\n",
    "from tqdm import tqdm\n",
    "import requests\n",
    "import warnings\n",
    "import xmltodict\n",
    "\n",
    "%reload_ext autoreload\n",
    "%autoreload 2\n",
    "import pbmd_tools as pbmd"
   ]
  },
  {
   "cell_type": "code",
   "execution_count": 2,
   "id": "1e66c109-89bd-4f6f-8d99-89ed18a4be3d",
   "metadata": {},
   "outputs": [],
   "source": [
    "pbmd.read_tokens()\n",
    "GITHUB_TOKEN = os.environ.get(\"GITHUB_TOKEN\")\n",
    "PUBMED_TOKEN = os.environ.get(\"PUBMED_TOKEN\")"
   ]
  },
  {
   "cell_type": "markdown",
   "id": "a0068b37-9ae4-444b-874d-2cd5e173b7e5",
   "metadata": {},
   "source": [
    "## 1. PubMed API Entrez Interactions"
   ]
  },
  {
   "cell_type": "code",
   "execution_count": 3,
   "id": "188978bd-1f8f-4fc5-9928-9157a341cda3",
   "metadata": {},
   "outputs": [],
   "source": [
    "db = \"pubmed\"\n",
    "domain = \"https://www.ncbi.nlm.nih.gov/entrez/eutils\"\n",
    "retmode = \"json\"\n",
    "queries_github = []\n",
    "queries_gitlab = []\n",
    "queries_sourceforge = []\n",
    "queries_googlecode = []\n",
    "queries_bitbucket = []\n",
    "for year in range(2009,2023):\n",
    "    queries_github.append(f'((github.com[Title/Abstract])) AND ((\"{year}/01/01\"[Date - Publication] : \"{year}/12/31\"[Date - Publication]))')\n",
    "    queries_gitlab.append(f'((gitlab.com[Title/Abstract])) AND ((\"{year}/01/01\"[Date - Publication] : \"{year}/12/31\"[Date - Publication]))')\n",
    "    queries_sourceforge.append(f'((sourceforge.net[Title/Abstract])) AND ((\"{year}/01/01\"[Date - Publication] : \"{year}/12/31\"[Date - Publication]))')\n",
    "    queries_googlecode.append(f'(googlecode[Title/Abstract]) AND (\"{year}/01/01\"[Date - Publication] : \"{year}/12/31\"[Date - Publication])')\n",
    "    queries_bitbucket.append(f'(bitbucket.org[Title/Abstract]) AND (\"{year}/01/01\"[Date - Publication] : \"{year}/12/31\"[Date - Publication])')"
   ]
  },
  {
   "cell_type": "code",
   "execution_count": 4,
   "id": "975bb2c5-a417-48a3-adcd-198c2cb08332",
   "metadata": {},
   "outputs": [
    {
     "name": "stderr",
     "output_type": "stream",
     "text": [
      "100%|██████████████████████████████████████████████████████████████████████████████████| 14/14 [00:13<00:00,  1.02it/s]\n",
      "100%|██████████████████████████████████████████████████████████████████████████████████| 14/14 [00:11<00:00,  1.26it/s]\n",
      "100%|██████████████████████████████████████████████████████████████████████████████████| 14/14 [00:09<00:00,  1.53it/s]\n",
      "100%|██████████████████████████████████████████████████████████████████████████████████| 14/14 [00:09<00:00,  1.42it/s]\n",
      "100%|██████████████████████████████████████████████████████████████████████████████████| 14/14 [00:10<00:00,  1.37it/s]"
     ]
    },
    {
     "name": "stdout",
     "output_type": "stream",
     "text": [
      "\n",
      "10880 articles with 'github.com' found in PubMed\n",
      "\n",
      "10880 articles with 'github.com' found in PubMed\n"
     ]
    },
    {
     "name": "stderr",
     "output_type": "stream",
     "text": [
      "\n"
     ]
    }
   ],
   "source": [
    "stats_github = {}\n",
    "stats_gitlab = {}\n",
    "stats_sourceforge = {}\n",
    "stats_googlecode = {}\n",
    "stats_bitbucket = {}\n",
    "PMIDs = []\n",
    "PMIDs_all = []\n",
    "for query in tqdm(queries_github):\n",
    "    nb = 0\n",
    "    queryLinkSearch = f\"{domain}/esearch.fcgi?db={db}&retmode={retmode}&retmax=15000&term={query}\"\n",
    "    response = requests.get(queryLinkSearch)\n",
    "    pubmed_json = response.json()\n",
    "    for id in pubmed_json[\"esearchresult\"][\"idlist\"]:\n",
    "        if id not in PMIDs:\n",
    "            nb += 1\n",
    "            PMIDs.append(id)\n",
    "    stats_github[query[38:42]] = nb\n",
    "for query in tqdm(queries_bitbucket):\n",
    "    nb = 0\n",
    "    queryLinkSearch = f\"{domain}/esearch.fcgi?db={db}&retmode={retmode}&retmax=15000&term={query}\"\n",
    "    response = requests.get(queryLinkSearch)\n",
    "    pubmed_json = response.json()\n",
    "    for id in pubmed_json[\"esearchresult\"][\"idlist\"]:\n",
    "        if id not in PMIDs_all:\n",
    "            nb += 1\n",
    "            PMIDs_all.append(id)\n",
    "    stats_bitbucket[query[38:42]] = nb\n",
    "for query in tqdm(queries_gitlab):\n",
    "    nb = 0\n",
    "    queryLinkSearch = f\"{domain}/esearch.fcgi?db={db}&retmode={retmode}&retmax=15000&term={query}\"\n",
    "    response = requests.get(queryLinkSearch)\n",
    "    pubmed_json = response.json()\n",
    "    for id in pubmed_json[\"esearchresult\"][\"idlist\"]:\n",
    "        if id not in PMIDs_all:\n",
    "            nb += 1\n",
    "            PMIDs_all.append(id)\n",
    "    stats_gitlab[query[38:42]] = nb\n",
    "for query in tqdm(queries_sourceforge):\n",
    "    nb = 0\n",
    "    queryLinkSearch = f\"{domain}/esearch.fcgi?db={db}&retmode={retmode}&retmax=15000&term={query}\"\n",
    "    response = requests.get(queryLinkSearch)\n",
    "    pubmed_json = response.json()\n",
    "    for id in pubmed_json[\"esearchresult\"][\"idlist\"]:\n",
    "        if id not in PMIDs_all:\n",
    "            nb += 1\n",
    "            PMIDs_all.append(id)\n",
    "    stats_sourceforge[query[43:47]] = nb\n",
    "for query in tqdm(queries_googlecode):\n",
    "    nb = 0\n",
    "    queryLinkSearch = f\"{domain}/esearch.fcgi?db={db}&retmode={retmode}&retmax=15000&term={query}\"\n",
    "    response = requests.get(queryLinkSearch)\n",
    "    pubmed_json = response.json()\n",
    "    for id in pubmed_json[\"esearchresult\"][\"idlist\"]:\n",
    "        if id not in PMIDs_all:\n",
    "            nb += 1\n",
    "            PMIDs_all.append(id)\n",
    "    stats_googlecode[query[19:23]] = nb\n",
    "\n",
    "print(f\"\\n{len(PMIDs)} articles with 'github.com' found in PubMed\")\n",
    "PMIDs = list(set(PMIDs))\n",
    "print(f\"\\n{len(PMIDs)} articles with 'github.com' found in PubMed\")"
   ]
  },
  {
   "cell_type": "code",
   "execution_count": 65,
   "id": "e968d76d-0ce9-460f-80c4-1803faebded5",
   "metadata": {},
   "outputs": [],
   "source": [
    "with open(\"PMIDs.txt\", \"w\") as f:\n",
    "    for PMID in PMIDs:\n",
    "        f.write(str(PMID)+\"\\n\")\n",
    "with open(\"stats_github.json\", \"w\") as f:\n",
    "    json.dump(stats_github, f)\n",
    "with open(\"stats_gitlab.json\", \"w\") as f:\n",
    "    json.dump(stats_gitlab, f)\n",
    "with open(\"stats_sourceforge.json\", \"w\") as f:\n",
    "    json.dump(stats_sourceforge, f)    \n",
    "with open(\"stats_googlecode.json\", \"w\") as f:\n",
    "    json.dump(stats_googlecode, f)"
   ]
  },
  {
   "cell_type": "code",
   "execution_count": 66,
   "id": "58876f4e-71c9-4acf-abd5-751b5d57e226",
   "metadata": {},
   "outputs": [],
   "source": [
    "with open(\"stats_github.json\", \"r\") as f:\n",
    "    stats_github = json.load(f)\n",
    "with open(\"stats_gitlab.json\", \"r\") as f:\n",
    "    stats_gitlab = json.load(f)\n",
    "with open(\"stats_sourceforge.json\", \"r\") as f:\n",
    "    stats_sourceforge = json.load(f)\n",
    "with open(\"stats_googlecode.json\", \"r\") as f:\n",
    "    stats_googlecode = json.load(f)\n",
    "with open(\"PMIDs.txt\", \"r\") as f:\n",
    "    PMIDs = f.readlines()\n",
    "PMIDs = [PMID.strip() for PMID in PMIDs]"
   ]
  },
  {
   "cell_type": "code",
   "execution_count": 68,
   "id": "4059a5a6-7cea-48fd-a4d9-a3f2372ca176",
   "metadata": {},
   "outputs": [
    {
     "name": "stderr",
     "output_type": "stream",
     "text": [
      "C:\\Users\\nadia\\AppData\\Local\\Temp\\ipykernel_11024\\1426008358.py:42: UserWarning: FixedFormatter should only be used together with FixedLocator\n",
      "  ax[0,1].set_xticklabels(years, rotation=70)\n"
     ]
    },
    {
     "data": {
      "image/png": "[encoded data removed]",
      "text/plain": [
       "<Figure size 1800x1500 with 4 Axes>"
      ]
     },
     "metadata": {},
     "output_type": "display_data"
    }
   ],
   "source": [
    "fig, ax = plt.subplots(2,2, figsize=(18, 15))\n",
    "\n",
    "years = list(stats_github.keys())\n",
    "    \n",
    "values_github = list(stats_github.values())\n",
    "values_gitlab = list(stats_gitlab.values())\n",
    "values_sourceforge = list(stats_sourceforge.values())\n",
    "values_googlecode = list(stats_googlecode.values())\n",
    "\n",
    "bar_width = 0.24\n",
    "x_pos = np.arange(len(years)) \n",
    "\n",
    "\n",
    "ax[0,0].bar(x_pos - bar_width*3/2, values_googlecode, width=bar_width, color='#a1dab4',  zorder=2)\n",
    "ax[0,0].bar(x_pos - bar_width*1/2, values_gitlab, width=bar_width, color='#41b6c4',  zorder=2)\n",
    "ax[0,0].bar(x_pos + bar_width*1/2, values_sourceforge, width=bar_width, color='#2c7fb8', zorder=2)\n",
    "ax[0,0].bar(x_pos + bar_width*3/2, values_github, width=bar_width, color='#253494', zorder=2)\n",
    "\n",
    "ax[0,0].set_xlabel('Year')\n",
    "ax[0,0].set_ylabel('Number of publications')\n",
    "ax[0,0].set_title('Publications per year')\n",
    "ax[0,0].set_xticks(x_pos)\n",
    "ax[0,0].set_xticklabels(years, rotation=70)\n",
    "\n",
    "ax[0,0].legend([f'Googlecode ({sum(values_googlecode)} articles)', f'GitLab ({sum(values_gitlab)} articles)', \n",
    "           f'Sourceforge ({sum(values_sourceforge)} articles)', f'GitHub ({sum(values_github)} articles)'])\n",
    "\n",
    "for i in range(len(years)):\n",
    "    ax[0,0].text(i-bar_width*3/2, values_googlecode[i], str(values_googlecode[i]), ha='center', va='bottom', fontsize=9, color='#a1dab4')\n",
    "    ax[0,0].text(i-bar_width/2, values_gitlab[i], str(values_gitlab[i]), ha='center', va='bottom', fontsize=9, color='#41b6c4')\n",
    "    ax[0,0].text(i+bar_width/2, values_sourceforge[i], str(values_sourceforge[i]), ha='center', va='bottom', fontsize=9, color='#2c7fb8')\n",
    "    ax[0,0].text(i+bar_width*3/2, values_github[i], str(values_github[i]), ha='center', va='bottom', fontsize=9, color='#253494')\n",
    "\n",
    "ax[0,1].bar(x_pos - bar_width*3/2, values_googlecode, width=bar_width, color='#a1dab4',  zorder=2)\n",
    "ax[0,1].bar(x_pos - bar_width*1/2, values_gitlab, width=bar_width, color='#41b6c4',  zorder=2)\n",
    "ax[0,1].bar(x_pos + bar_width*1/2, values_sourceforge, width=bar_width, color='#2c7fb8', zorder=2)\n",
    "ax[0,1].bar(x_pos + bar_width*3/2, values_github, width=bar_width, color='#253494', zorder=2)\n",
    "\n",
    "ax[0,1].set_xlabel('Year')\n",
    "ax[0,1].set_ylabel('Number of publications')\n",
    "ax[0,1].set_title('Publications per year')\n",
    "ax[0,1].set_xticklabels(years, rotation=70)\n",
    "\n",
    "ax[0,1].legend([f'Googlecode ({sum(values_googlecode)} articles)', f'GitLab ({sum(values_gitlab)} articles)', \n",
    "           f'Sourceforge ({sum(values_sourceforge)} articles)', f'GitHub ({sum(values_github)} articles)'])\n",
    "\n",
    "for i in range(len(years)):\n",
    "    if values_github[i] <  110:\n",
    "        ax[0,1].text(i+bar_width*3/2, values_github[i], str(values_github[i]), ha='center', va='bottom', fontsize=9, color='#253494')\n",
    "    ax[0,1].text(i-bar_width*3/2, values_googlecode[i], str(values_googlecode[i]), ha='center', va='bottom', fontsize=9, color='#a1dab4')\n",
    "    ax[0,1].text(i-bar_width/2, values_gitlab[i], str(values_gitlab[i]), ha='center', va='bottom', fontsize=9, color='#41b6c4')\n",
    "    ax[0,1].text(i+bar_width/2, values_sourceforge[i], str(values_sourceforge[i]), ha='center', va='bottom', fontsize=9, color='#2c7fb8')\n",
    "\n",
    "\n",
    "ax[0,1].set_ylim(0, 110)\n",
    "\n",
    "\n",
    "ax[1,0].plot(x_pos - bar_width*3/2, values_googlecode,  marker='o', color='#A6CEE3',  zorder=2)\n",
    "ax[1,0].plot(x_pos - bar_width*1/2, values_gitlab,  marker='o', color='#1F78B4',  zorder=2)\n",
    "ax[1,0].plot(x_pos + bar_width*1/2, values_sourceforge,  marker='o', color='#33A02C', zorder=2)\n",
    "ax[1,0].plot(x_pos + bar_width*3/2, values_github,  marker='o', color='#FB9A99', zorder=2)\n",
    "\n",
    "ax[1,0].set_xlabel('Year')\n",
    "ax[1,0].set_ylabel('Number of publications')\n",
    "ax[1,0].set_title('Publications per year')\n",
    "ax[1,0].set_xticks(x_pos)\n",
    "ax[1,0].set_xticklabels(years, rotation=70)\n",
    "\n",
    "ax[1,0].legend([f'Googlecode ({sum(values_googlecode)} articles)', f'GitLab ({sum(values_gitlab)} articles)', \n",
    "           f'Sourceforge ({sum(values_sourceforge)} articles)', f'GitHub ({sum(values_github)} articles)'])\n",
    "\n",
    "#for i in range(len(years)):\n",
    "#    ax[1,0].text(i+bar_width*3/2-0.3, values_github[i]+15, str(values_github[i]), ha='center', va='bottom', fontsize=9, color='#253494')\n",
    "\n",
    "ax[1,1].plot(x_pos - bar_width*3/2, values_googlecode,  marker='o', color='#A6CEE3',  zorder=2)\n",
    "ax[1,1].plot(x_pos - bar_width*1/2, values_gitlab,  marker='o', color='#1F78B4',  zorder=2)\n",
    "ax[1,1].plot(x_pos + bar_width*1/2, values_sourceforge,  marker='o', color='#33A02C', zorder=2)\n",
    "ax[1,1].plot(x_pos + bar_width*3/2, values_github,  marker='o', color='#FB9A99', zorder=2)\n",
    "\n",
    "ax[1,1].set_xlabel('Year')\n",
    "ax[1,1].set_ylabel('Number of publications')\n",
    "ax[1,1].set_title('Publications per year')\n",
    "ax[1,1].set_xticks(x_pos)\n",
    "ax[1,1].set_xticklabels(years, rotation=70)\n",
    "\n",
    "ax[1,1].legend([f'Googlecode ({sum(values_googlecode)} articles)', f'GitLab ({sum(values_gitlab)} articles)', \n",
    "           f'Sourceforge ({sum(values_sourceforge)} articles)', f'GitHub ({sum(values_github)} articles)'])\n",
    "\n",
    "# adding numbers for each point\n",
    "\n",
    "#for i in range(len(years)):\n",
    "#    if values_github[i] <  110:\n",
    "#        ax[1,1].text(i+bar_width*3/2+0.33, values_github[i]+0.5, str(values_github[i]), ha='center', va='bottom', fontsize=9, color='#253494')\n",
    "#    ax[1,1].text(i-bar_width*3/2-0.0001, values_googlecode[i]+1, str(values_googlecode[i]), ha='center', va='bottom', fontsize=9, color='#a1dab4')\n",
    "#    ax[1,1].text(i-bar_width/2-0.0001, values_gitlab[i]+1, str(values_gitlab[i]), ha='center', va='bottom', fontsize=9, color='#41b6c4')\n",
    "#    ax[1,1].text(i+bar_width/2-0.0001, values_sourceforge[i]+1, str(values_sourceforge[i]), ha='center', va='bottom', fontsize=9, color='#2c7fb8')\n",
    "\n",
    "\n",
    "ax[1,1].set_ylim(0, 110)\n",
    "    \n",
    "    \n",
    "plt.show()"
   ]
  },
  {
   "cell_type": "code",
   "execution_count": 230,
   "id": "98176cc7-615e-4060-84e2-f2b2dd617b87",
   "metadata": {},
   "outputs": [],
   "source": [
    "# https://pubmed.ncbi.nlm.nih.gov/26262258/ - No DOI in PubMed although there is one in the full text of the article (not from ArXiv), and there are a lot of them\n",
    "# https://pubmed.ncbi.nlm.nih.gov/28269829/ - they give a wrong link https://github.com/SBU-BMI/imageboxs://github.com/SBU-BMI/imagebox but if you use this link :\n",
    "# https://github.com/SBU-BMI/imagebox it works. Yet, i am not sure that it is actually what we are looking for since they also provide another link to github.io \n",
    "# (also incorect) and i think it's more likely that their code is there\n",
    "# PMID = 36789260 - 2 links\n",
    "#https://github.com/tyqGitHub/TYQ/tree/master/GACNNMDA - ????\n",
    "#https://github.com/mofradlab - ?????? (PMID 36786404)\n",
    "# PMID = 26124555 - a space in the link\n",
    "# PMID = 24324759, 22151646 - no space after link\n",
    "# PMID = 23849037 - why + in the end ?\n",
    "# PMID = 36315552 - super smart"
   ]
  },
  {
   "cell_type": "code",
   "execution_count": 72,
   "id": "e8425aae-1da2-443d-a325-dc4a1fbe4814",
   "metadata": {},
   "outputs": [],
   "source": [
    "results = []"
   ]
  },
  {
   "cell_type": "code",
   "execution_count": 88,
   "id": "b5b5aead-fa36-41c6-af77-8af8138b0ff6",
   "metadata": {},
   "outputs": [
    {
     "name": "stderr",
     "output_type": "stream",
     "text": [
      "100%|████████████████████████████████████████████████████████████████████████████████| 119/119 [01:11<00:00,  1.66it/s]\n"
     ]
    }
   ],
   "source": [
    "#count = 0\n",
    "for PMID in tqdm(PMIDs[:]):\n",
    "    #count += 1\n",
    "    #if count % 10 == 0:\n",
    "    #    time.sleep(1)\n",
    "    \n",
    "    summary = pbmd.get_summary(PMID, PUBMED_TOKEN, \"status.txt\")\n",
    "    abstract = pbmd.get_abstract_from_summary(summary, \"status.txt\")\n",
    "    pubdate = pbmd.get_pubdate_from_summary(summary, \"status.txt\")\n",
    "    title = pbmd.get_title_from_summary(summary, \"status.txt\")\n",
    "    journal = pbmd.get_journal_from_summary(summary, \"status.txt\")\n",
    "    doi = pbmd.get_doi_from_summary(summary, \"status.txt\")\n",
    "\n",
    "    results.append((PMID, pubdate, doi, journal, title, abstract))\n"
   ]
  },
  {
   "cell_type": "code",
   "execution_count": 94,
   "id": "e11bc34d-7377-4167-8d80-48952e78323a",
   "metadata": {},
   "outputs": [],
   "source": [
    "df = pd.DataFrame.from_records(results)\n",
    "df = df.rename(columns = {0: 'PMID', 1: 'PubDate', 2: 'DOI', 3: 'Journal', 4: 'Title', 5: 'Abstract'})\n",
    "df = df.drop_duplicates(subset = 'PMID', keep = False)\n",
    "df = df.reset_index(drop = True)"
   ]
  },
  {
   "cell_type": "code",
   "execution_count": 97,
   "id": "9a6c9a6e-9a56-4117-b4c9-28bec1d25313",
   "metadata": {},
   "outputs": [
    {
     "name": "stdout",
     "output_type": "stream",
     "text": [
      "Number of records without publication date is: 58\n"
     ]
    }
   ],
   "source": [
    "print(f\"Number of records without publication date is: {len(df[df['PubDate'].isnull()])}\")"
   ]
  },
  {
   "cell_type": "code",
   "execution_count": 98,
   "id": "94f8544e-f411-40c6-bd35-318d762992e3",
   "metadata": {},
   "outputs": [],
   "source": [
    "df.to_csv('articles.tsv', sep='\\t', index=False)"
   ]
  },
  {
   "cell_type": "markdown",
   "id": "d566e858-dc91-44d1-9e85-13a0fc89f892",
   "metadata": {},
   "source": [
    "## 2. Geting links from the obtained data using regex"
   ]
  },
  {
   "cell_type": "code",
   "execution_count": 58,
   "id": "5f1cfe1c-42eb-4958-a13c-8c7d43136ae0",
   "metadata": {},
   "outputs": [],
   "source": [
    "df = pd.read_csv('articles.tsv', sep='\\t')"
   ]
  },
  {
   "cell_type": "code",
   "execution_count": 100,
   "id": "b8ce85de-20f7-4211-830b-4c6e01e0eb60",
   "metadata": {},
   "outputs": [],
   "source": [
    "df['GitHub_link_raw'] = df['Abstract'].astype(str).apply(pbmd.get_link_from_abstract)\n",
    "df['GitHub_link_clean'] = df['GitHub_link_raw'].astype(str).apply(pbmd.clean_link)\n",
    "df['GitHub_owner'] = df['GitHub_link_clean'].apply(pbmd.get_owner_from_link)\n",
    "df['GitHub_repo'] = df['GitHub_link_clean'].apply(pbmd.get_repo_from_link)"
   ]
  },
  {
   "cell_type": "code",
   "execution_count": 105,
   "id": "964e174c-558c-445e-abec-a0b0c2c16b9b",
   "metadata": {},
   "outputs": [
    {
     "name": "stdout",
     "output_type": "stream",
     "text": [
      "Number of records with weird abstracts leading to inability to extract a link: 6\n"
     ]
    }
   ],
   "source": [
    "print(f\"Number of records with weird abstracts leading to inability to extract a link: {len(df[df['GitHub_link_raw'] == ''])}\")"
   ]
  },
  {
   "cell_type": "code",
   "execution_count": 107,
   "id": "1d2ae2ce-d877-42af-84d7-96db53d9dae2",
   "metadata": {},
   "outputs": [
    {
     "name": "stdout",
     "output_type": "stream",
     "text": [
      "Number of records without a repository name: 251\n"
     ]
    }
   ],
   "source": [
    "print(f\"Number of records without a repository name: {len(df[df['GitHub_repo'].isnull()])-len(df[df['GitHub_owner'].isnull()])}\")"
   ]
  },
  {
   "cell_type": "code",
   "execution_count": 108,
   "id": "84639824-a280-494b-b8e8-d2a5b6981006",
   "metadata": {},
   "outputs": [],
   "source": [
    "df.to_csv('articles.tsv', sep='\\t', index=False)"
   ]
  },
  {
   "cell_type": "markdown",
   "id": "d124283b-c8d7-4c6a-913f-f64f2390d66a",
   "metadata": {},
   "source": [
    "## 3. GitHub API Interactions"
   ]
  },
  {
   "cell_type": "code",
   "execution_count": 32,
   "id": "160e77c7-4980-4dbc-bc92-ff9319cd9480",
   "metadata": {},
   "outputs": [],
   "source": [
    "df = pd.read_csv('articles.tsv', sep='\\t')"
   ]
  },
  {
   "cell_type": "code",
   "execution_count": 109,
   "id": "f6bfbf59-53a2-4a9e-93cd-f509588406a6",
   "metadata": {},
   "outputs": [
    {
     "data": {
      "text/plain": [
       "10624"
      ]
     },
     "execution_count": 109,
     "metadata": {},
     "output_type": "execute_result"
    }
   ],
   "source": [
    "PMIDs = df['PMID'][df['GitHub_repo'].notna()].to_list()\n",
    "len(PMIDs)"
   ]
  },
  {
   "cell_type": "code",
   "execution_count": 9,
   "id": "36dd1992-56f7-42a8-95ae-810217f93e68",
   "metadata": {},
   "outputs": [
    {
     "name": "stderr",
     "output_type": "stream",
     "text": [
      "100%|██████████████████████████████████████████████████████████████████████████████| 1077/1077 [05:01<00:00,  3.57it/s]\n"
     ]
    }
   ],
   "source": [
    "count = 0\n",
    "for PMID in tqdm(PMIDs):\n",
    "    count += 1\n",
    "    if count % 5000 == 0:\n",
    "        time.sleep(3600)\n",
    "    \n",
    "    with open(\"gitstat.txt\", \"a\") as f:\n",
    "        f.write(f\"\\n\\n PMID: {PMID}, GitHub link: {df[df['PMID'] == PMID]['GitHub_link_clean'].values[0]}\")\n",
    "\n",
    "    info = pbmd.get_repo_info(df[df['PMID']==PMID]['GitHub_owner'].values[0], df[df['PMID']==PMID]['GitHub_repo'].values[0], GITHUB_TOKEN, \"gitstat.txt\")\n",
    "\n",
    "    idx = df.index[df['PMID'] == PMID][0]\n",
    "\n",
    "    df.loc[idx, \"Repo_created_at\"] = pbmd.get_repo_date_created(info)\n",
    "    df.loc[idx, \"Repo_updated_at\"] = pbmd.get_repo_date_updated(info)\n",
    "    df.loc[idx, \"Fork\"] = pbmd.is_fork(info)"
   ]
  },
  {
   "cell_type": "code",
   "execution_count": 10,
   "id": "682e0960-eefb-4676-a049-e22cca92418f",
   "metadata": {},
   "outputs": [
    {
     "data": {
      "text/plain": [
       "766"
      ]
     },
     "execution_count": 10,
     "metadata": {},
     "output_type": "execute_result"
    }
   ],
   "source": [
    "PMIDs = df['PMID'][df['Repo_created_at'].isna()].to_list()\n",
    "len(PMIDs)"
   ]
  },
  {
   "cell_type": "code",
   "execution_count": 13,
   "id": "94ad03df-e2fc-4946-a888-03bc243b8315",
   "metadata": {},
   "outputs": [
    {
     "data": {
      "text/html": [
       "<div>\n",
       "<style scoped>\n",
       "    .dataframe tbody tr th:only-of-type {\n",
       "        vertical-align: middle;\n",
       "    }\n",
       "\n",
       "    .dataframe tbody tr th {\n",
       "        vertical-align: top;\n",
       "    }\n",
       "\n",
       "    .dataframe thead th {\n",
       "        text-align: right;\n",
       "    }\n",
       "</style>\n",
       "<table border=\"1\" class=\"dataframe\">\n",
       "  <thead>\n",
       "    <tr style=\"text-align: right;\">\n",
       "      <th></th>\n",
       "      <th>PMID</th>\n",
       "      <th>PubDate</th>\n",
       "      <th>DOI</th>\n",
       "      <th>Journal</th>\n",
       "      <th>Title</th>\n",
       "      <th>Abstract</th>\n",
       "      <th>GitHub_link_raw</th>\n",
       "      <th>GitHub_link_clean</th>\n",
       "      <th>GitHub_owner</th>\n",
       "      <th>GitHub_repo</th>\n",
       "      <th>Repo_created_at</th>\n",
       "      <th>Repo_updated_at</th>\n",
       "      <th>Fork</th>\n",
       "    </tr>\n",
       "  </thead>\n",
       "  <tbody>\n",
       "    <tr>\n",
       "      <th>0</th>\n",
       "      <td>31944107</td>\n",
       "      <td>2021-06-17</td>\n",
       "      <td>10.1021/acs.jcim.9b01012</td>\n",
       "      <td>Journal of chemical information and modeling</td>\n",
       "      <td>Identification of Highest-Affinity Binding Sit...</td>\n",
       "      <td>Transcription factors (TFs) play a crucial rol...</td>\n",
       "      <td>github.com/guofei-tju/tfbs.</td>\n",
       "      <td>https://github.com/guofei-tju/tfbs/</td>\n",
       "      <td>guofei-tju</td>\n",
       "      <td>tfbs</td>\n",
       "      <td>None</td>\n",
       "      <td>None</td>\n",
       "      <td>1.0</td>\n",
       "    </tr>\n",
       "    <tr>\n",
       "      <th>28</th>\n",
       "      <td>30564458</td>\n",
       "      <td>2020-02-06</td>\n",
       "      <td>10.1038/s41540-018-0078-8</td>\n",
       "      <td>NPJ systems biology and applications</td>\n",
       "      <td>ComPath: an ecosystem for exploring, analyzing...</td>\n",
       "      <td>Although pathways are widely used for the anal...</td>\n",
       "      <td>github.com/ComPath</td>\n",
       "      <td>https://github.com/ComPath/</td>\n",
       "      <td>ComPath</td>\n",
       "      <td>NaN</td>\n",
       "      <td>None</td>\n",
       "      <td>None</td>\n",
       "      <td>0.0</td>\n",
       "    </tr>\n",
       "    <tr>\n",
       "      <th>51</th>\n",
       "      <td>28402395</td>\n",
       "      <td>2018-03-29</td>\n",
       "      <td>10.1093/bioinformatics/btx169</td>\n",
       "      <td>Bioinformatics (Oxford, England)</td>\n",
       "      <td>mzML2ISA &amp; nmrML2ISA: generating enriched ISA-...</td>\n",
       "      <td>[{'@Label': 'SUMMARY', '@NlmCategory': 'CONCLU...</td>\n",
       "      <td>github.com/ISA-tools.</td>\n",
       "      <td>https://github.com/ISA-tools/</td>\n",
       "      <td>ISA-tools</td>\n",
       "      <td>NaN</td>\n",
       "      <td>None</td>\n",
       "      <td>None</td>\n",
       "      <td>0.0</td>\n",
       "    </tr>\n",
       "    <tr>\n",
       "      <th>55</th>\n",
       "      <td>26568629</td>\n",
       "      <td>2017-08-04</td>\n",
       "      <td>10.1093/bioinformatics/btv674</td>\n",
       "      <td>Bioinformatics (Oxford, England)</td>\n",
       "      <td>Accurate estimation of isoelectric point of pr...</td>\n",
       "      <td>[{'@Label': 'MOTIVATION', '#text': 'In any mac...</td>\n",
       "      <td>github.com/ypriverol/pIRSupplementary</td>\n",
       "      <td>https://github.com/ypriverol/pIRSupplementary/</td>\n",
       "      <td>ypriverol</td>\n",
       "      <td>pIRSupplementary</td>\n",
       "      <td>None</td>\n",
       "      <td>None</td>\n",
       "      <td>0.0</td>\n",
       "    </tr>\n",
       "    <tr>\n",
       "      <th>59</th>\n",
       "      <td>35388017</td>\n",
       "      <td>2022-04-08</td>\n",
       "      <td>10.1038/s41598-022-08555-9</td>\n",
       "      <td>Scientific reports</td>\n",
       "      <td>A hybrid feature extraction scheme for efficie...</td>\n",
       "      <td>Lysine malonylation is one of the most importa...</td>\n",
       "      <td>github.com/jimy2020/Malonylation-site-prediction.</td>\n",
       "      <td>https://github.com/jimy2020/Malonylation-site-...</td>\n",
       "      <td>jimy2020</td>\n",
       "      <td>Malonylation-site-prediction</td>\n",
       "      <td>None</td>\n",
       "      <td>None</td>\n",
       "      <td>0.0</td>\n",
       "    </tr>\n",
       "    <tr>\n",
       "      <th>...</th>\n",
       "      <td>...</td>\n",
       "      <td>...</td>\n",
       "      <td>...</td>\n",
       "      <td>...</td>\n",
       "      <td>...</td>\n",
       "      <td>...</td>\n",
       "      <td>...</td>\n",
       "      <td>...</td>\n",
       "      <td>...</td>\n",
       "      <td>...</td>\n",
       "      <td>...</td>\n",
       "      <td>...</td>\n",
       "      <td>...</td>\n",
       "    </tr>\n",
       "    <tr>\n",
       "      <th>10863</th>\n",
       "      <td>33851145</td>\n",
       "      <td>NaN</td>\n",
       "      <td>10.1145/3431920.3439289</td>\n",
       "      <td>FPGA. ACM International Symposium on Field-Pro...</td>\n",
       "      <td>AutoBridge: Coupling Coarse-Grained Floorplann...</td>\n",
       "      <td>Despite an increasing adoption of high-level s...</td>\n",
       "      <td>github.com/Licheng-Guo/AutoBridge.</td>\n",
       "      <td>https://github.com/Licheng-Guo/AutoBridge/</td>\n",
       "      <td>Licheng-Guo</td>\n",
       "      <td>AutoBridge</td>\n",
       "      <td>None</td>\n",
       "      <td>None</td>\n",
       "      <td>1.0</td>\n",
       "    </tr>\n",
       "    <tr>\n",
       "      <th>10865</th>\n",
       "      <td>35854736</td>\n",
       "      <td>2022-07-21</td>\n",
       "      <td>NaN</td>\n",
       "      <td>AMIA ... Annual Symposium proceedings. AMIA Sy...</td>\n",
       "      <td>A Computational Framework for Identifying Age ...</td>\n",
       "      <td>The identification of associations between dru...</td>\n",
       "      <td>github.com/Zhizhen-</td>\n",
       "      <td>https://github.com/Zhizhen-/</td>\n",
       "      <td>Zhizhen-</td>\n",
       "      <td>NaN</td>\n",
       "      <td>None</td>\n",
       "      <td>None</td>\n",
       "      <td>0.0</td>\n",
       "    </tr>\n",
       "    <tr>\n",
       "      <th>10868</th>\n",
       "      <td>34541588</td>\n",
       "      <td>NaN</td>\n",
       "      <td>10.18653/v1/2020.findings-emnlp.304</td>\n",
       "      <td>Proceedings of the Conference on Empirical Met...</td>\n",
       "      <td>Literature Retrieval for Precision Medicine wi...</td>\n",
       "      <td>Information retrieval (IR) for precision medic...</td>\n",
       "      <td>github.com/bionlproc/text-summ-for-doc-retrieval.</td>\n",
       "      <td>https://github.com/bionlproc/text-summ-for-doc...</td>\n",
       "      <td>bionlproc</td>\n",
       "      <td>text-summ-for-doc-retrieval</td>\n",
       "      <td>None</td>\n",
       "      <td>None</td>\n",
       "      <td>1.0</td>\n",
       "    </tr>\n",
       "    <tr>\n",
       "      <th>10869</th>\n",
       "      <td>31797607</td>\n",
       "      <td>2021-03-18</td>\n",
       "      <td>NaN</td>\n",
       "      <td>Pacific Symposium on Biocomputing. Pacific Sym...</td>\n",
       "      <td>Towards identifying drug side effects from soc...</td>\n",
       "      <td>[{'@Label': 'MOTIVATION', '#text': 'Social med...</td>\n",
       "      <td>github.com/kramerlab.</td>\n",
       "      <td>https://github.com/kramerlab/</td>\n",
       "      <td>kramerlab</td>\n",
       "      <td>NaN</td>\n",
       "      <td>None</td>\n",
       "      <td>None</td>\n",
       "      <td>0.0</td>\n",
       "    </tr>\n",
       "    <tr>\n",
       "      <th>10873</th>\n",
       "      <td>31259020</td>\n",
       "      <td>2019-05-06</td>\n",
       "      <td>NaN</td>\n",
       "      <td>AMIA Joint Summits on Translational Science pr...</td>\n",
       "      <td>A Method for Integrating Healthcare Provider O...</td>\n",
       "      <td>Healthcare provider organizations (HPOs) incre...</td>\n",
       "      <td>github.com/wcmc-research-informatics/.</td>\n",
       "      <td>https://github.com/wcmc-research-informatics/</td>\n",
       "      <td>wcmc-research-informatics</td>\n",
       "      <td>NaN</td>\n",
       "      <td>None</td>\n",
       "      <td>None</td>\n",
       "      <td>0.0</td>\n",
       "    </tr>\n",
       "  </tbody>\n",
       "</table>\n",
       "<p>766 rows × 13 columns</p>\n",
       "</div>"
      ],
      "text/plain": [
       "           PMID     PubDate                                  DOI   \n",
       "0      31944107  2021-06-17             10.1021/acs.jcim.9b01012  \\\n",
       "28     30564458  2020-02-06            10.1038/s41540-018-0078-8   \n",
       "51     28402395  2018-03-29        10.1093/bioinformatics/btx169   \n",
       "55     26568629  2017-08-04        10.1093/bioinformatics/btv674   \n",
       "59     35388017  2022-04-08           10.1038/s41598-022-08555-9   \n",
       "...         ...         ...                                  ...   \n",
       "10863  33851145         NaN              10.1145/3431920.3439289   \n",
       "10865  35854736  2022-07-21                                  NaN   \n",
       "10868  34541588         NaN  10.18653/v1/2020.findings-emnlp.304   \n",
       "10869  31797607  2021-03-18                                  NaN   \n",
       "10873  31259020  2019-05-06                                  NaN   \n",
       "\n",
       "                                                 Journal   \n",
       "0           Journal of chemical information and modeling  \\\n",
       "28                  NPJ systems biology and applications   \n",
       "51                      Bioinformatics (Oxford, England)   \n",
       "55                      Bioinformatics (Oxford, England)   \n",
       "59                                    Scientific reports   \n",
       "...                                                  ...   \n",
       "10863  FPGA. ACM International Symposium on Field-Pro...   \n",
       "10865  AMIA ... Annual Symposium proceedings. AMIA Sy...   \n",
       "10868  Proceedings of the Conference on Empirical Met...   \n",
       "10869  Pacific Symposium on Biocomputing. Pacific Sym...   \n",
       "10873  AMIA Joint Summits on Translational Science pr...   \n",
       "\n",
       "                                                   Title   \n",
       "0      Identification of Highest-Affinity Binding Sit...  \\\n",
       "28     ComPath: an ecosystem for exploring, analyzing...   \n",
       "51     mzML2ISA & nmrML2ISA: generating enriched ISA-...   \n",
       "55     Accurate estimation of isoelectric point of pr...   \n",
       "59     A hybrid feature extraction scheme for efficie...   \n",
       "...                                                  ...   \n",
       "10863  AutoBridge: Coupling Coarse-Grained Floorplann...   \n",
       "10865  A Computational Framework for Identifying Age ...   \n",
       "10868  Literature Retrieval for Precision Medicine wi...   \n",
       "10869  Towards identifying drug side effects from soc...   \n",
       "10873  A Method for Integrating Healthcare Provider O...   \n",
       "\n",
       "                                                Abstract   \n",
       "0      Transcription factors (TFs) play a crucial rol...  \\\n",
       "28     Although pathways are widely used for the anal...   \n",
       "51     [{'@Label': 'SUMMARY', '@NlmCategory': 'CONCLU...   \n",
       "55     [{'@Label': 'MOTIVATION', '#text': 'In any mac...   \n",
       "59     Lysine malonylation is one of the most importa...   \n",
       "...                                                  ...   \n",
       "10863  Despite an increasing adoption of high-level s...   \n",
       "10865  The identification of associations between dru...   \n",
       "10868  Information retrieval (IR) for precision medic...   \n",
       "10869  [{'@Label': 'MOTIVATION', '#text': 'Social med...   \n",
       "10873  Healthcare provider organizations (HPOs) incre...   \n",
       "\n",
       "                                         GitHub_link_raw   \n",
       "0                            github.com/guofei-tju/tfbs.  \\\n",
       "28                                    github.com/ComPath   \n",
       "51                                 github.com/ISA-tools.   \n",
       "55                 github.com/ypriverol/pIRSupplementary   \n",
       "59     github.com/jimy2020/Malonylation-site-prediction.   \n",
       "...                                                  ...   \n",
       "10863                 github.com/Licheng-Guo/AutoBridge.   \n",
       "10865                                github.com/Zhizhen-   \n",
       "10868  github.com/bionlproc/text-summ-for-doc-retrieval.   \n",
       "10869                              github.com/kramerlab.   \n",
       "10873             github.com/wcmc-research-informatics/.   \n",
       "\n",
       "                                       GitHub_link_clean   \n",
       "0                    https://github.com/guofei-tju/tfbs/  \\\n",
       "28                           https://github.com/ComPath/   \n",
       "51                         https://github.com/ISA-tools/   \n",
       "55        https://github.com/ypriverol/pIRSupplementary/   \n",
       "59     https://github.com/jimy2020/Malonylation-site-...   \n",
       "...                                                  ...   \n",
       "10863         https://github.com/Licheng-Guo/AutoBridge/   \n",
       "10865                       https://github.com/Zhizhen-/   \n",
       "10868  https://github.com/bionlproc/text-summ-for-doc...   \n",
       "10869                      https://github.com/kramerlab/   \n",
       "10873      https://github.com/wcmc-research-informatics/   \n",
       "\n",
       "                    GitHub_owner                   GitHub_repo   \n",
       "0                     guofei-tju                          tfbs  \\\n",
       "28                       ComPath                           NaN   \n",
       "51                     ISA-tools                           NaN   \n",
       "55                     ypriverol              pIRSupplementary   \n",
       "59                      jimy2020  Malonylation-site-prediction   \n",
       "...                          ...                           ...   \n",
       "10863                Licheng-Guo                    AutoBridge   \n",
       "10865                   Zhizhen-                           NaN   \n",
       "10868                  bionlproc   text-summ-for-doc-retrieval   \n",
       "10869                  kramerlab                           NaN   \n",
       "10873  wcmc-research-informatics                           NaN   \n",
       "\n",
       "      Repo_created_at Repo_updated_at  Fork  \n",
       "0                None            None   1.0  \n",
       "28               None            None   0.0  \n",
       "51               None            None   0.0  \n",
       "55               None            None   0.0  \n",
       "59               None            None   0.0  \n",
       "...               ...             ...   ...  \n",
       "10863            None            None   1.0  \n",
       "10865            None            None   0.0  \n",
       "10868            None            None   1.0  \n",
       "10869            None            None   0.0  \n",
       "10873            None            None   0.0  \n",
       "\n",
       "[766 rows x 13 columns]"
      ]
     },
     "execution_count": 13,
     "metadata": {},
     "output_type": "execute_result"
    }
   ],
   "source": [
    "df[df['Repo_created_at'].isna()]"
   ]
  },
  {
   "cell_type": "code",
   "execution_count": null,
   "id": "fe532216-f508-4ff9-a16e-3bb957b1e344",
   "metadata": {},
   "outputs": [],
   "source": [
    "df.to_csv('articles.tsv', sep='\\t', index=False)"
   ]
  },
  {
   "cell_type": "markdown",
   "id": "ad760f81-0cf8-4b5d-9015-bda6ac2d2487",
   "metadata": {},
   "source": [
    "## 4. Software Heritage API interactions"
   ]
  },
  {
   "cell_type": "code",
   "execution_count": 2,
   "id": "6aa51fd7-bd8c-472f-b659-edb3ded49461",
   "metadata": {},
   "outputs": [],
   "source": [
    "df = pd.read_csv('articles.tsv', sep='\\t')"
   ]
  },
  {
   "cell_type": "code",
   "execution_count": 242,
   "id": "ca4481bb-3767-415c-bc0d-d460cdc7c5a4",
   "metadata": {},
   "outputs": [
    {
     "data": {
      "text/plain": [
       "11914"
      ]
     },
     "execution_count": 242,
     "metadata": {},
     "output_type": "execute_result"
    }
   ],
   "source": [
    "PMIDs = df['PMID'][df['GitHub_repo'].notna()].to_list()\n",
    "len(PMIDs)"
   ]
  },
  {
   "cell_type": "code",
   "execution_count": 270,
   "id": "5d60a2e7-1d01-4b23-8500-221e4a29c748",
   "metadata": {},
   "outputs": [
    {
     "name": "stderr",
     "output_type": "stream",
     "text": [
      "100%|██████████████████████████████████████████████████████████████████████████████████| 11/11 [00:00<00:00, 15.18it/s]\n"
     ]
    }
   ],
   "source": [
    "for PMID in tqdm(PMIDs):\n",
    "    \n",
    "    info = pbmd.check_is_in_softwh(df[df['PMID']==PMID]['GitHub_link_clean'].values[0])\n",
    "\n",
    "    idx = df.index[df['PMID'] == PMID][0]\n",
    "    \n",
    "    df.loc[idx, \"In_SoftWH\"] = pbmd.is_in_softwh(info)\n",
    "    df.loc[idx, \"Archived\"] = pbmd.get_date_archived(info)"
   ]
  },
  {
   "cell_type": "code",
   "execution_count": 282,
   "id": "3954853c-f227-4a5d-8c24-99694669cdd4",
   "metadata": {},
   "outputs": [],
   "source": [
    "df.to_csv('articles.tsv', sep='\\t', index=False)"
   ]
  },
  {
   "cell_type": "markdown",
   "id": "6d478c7b-9a74-42fb-b71d-1c594eefdadc",
   "metadata": {},
   "source": [
    "## Unresolved links analysis"
   ]
  },
  {
   "cell_type": "code",
   "execution_count": 383,
   "id": "b597f0b6-78f4-4736-9a89-ac0191b0c702",
   "metadata": {},
   "outputs": [],
   "source": [
    "df = pd.read_csv('no_info.tsv', sep='\\t',usecols=['PMID', 'PubDate', 'DOI', 'Journal', 'Title', 'Abstract', 'Issue', 'GitHub_link_clean','Correct_link'])"
   ]
  },
  {
   "cell_type": "code",
   "execution_count": 384,
   "id": "6b70ec1b-96dd-43d1-9876-4dac90c542a0",
   "metadata": {},
   "outputs": [
    {
     "name": "stdout",
     "output_type": "stream",
     "text": [
      "Number of articles with a wrong link (either a space in the link, or no space after link, etc) : 58\n"
     ]
    }
   ],
   "source": [
    "print(f\"Number of articles with a wrong link (either a space in the link, or no space after link, etc) : {len(df[df['Issue'] == 'wrong link'])}\") "
   ]
  },
  {
   "cell_type": "code",
   "execution_count": 385,
   "id": "b34f0e2f-1e42-46ff-ae71-f984e2a433a3",
   "metadata": {},
   "outputs": [
    {
     "name": "stdout",
     "output_type": "stream",
     "text": [
      "Number of articles with a renamed repository : 11\n"
     ]
    }
   ],
   "source": [
    "print(f\"Number of articles with a renamed repository : {len(df[df['Issue'] == 'renamed'])}\") "
   ]
  },
  {
   "cell_type": "code",
   "execution_count": 386,
   "id": "a8db6bd5-d473-4a5f-85ab-e8b179186b0f",
   "metadata": {},
   "outputs": [
    {
     "name": "stdout",
     "output_type": "stream",
     "text": [
      "Number of articles with a deleted repository : 146\n"
     ]
    }
   ],
   "source": [
    "print(f\"Number of articles with a deleted repository : {len(df[df['Issue'] == 'owner deleted']) + len(df[df['Issue'] == 'repo deleted'])}\")"
   ]
  },
  {
   "cell_type": "markdown",
   "id": "18fd77b8-8cac-45be-af2f-928dd2d35cc5",
   "metadata": {},
   "source": [
    "Resolving unresolved but existing links"
   ]
  },
  {
   "cell_type": "code",
   "execution_count": 387,
   "id": "3db1fcb0-8066-4c19-a853-34ad54833439",
   "metadata": {},
   "outputs": [],
   "source": [
    "df.loc[df['Correct_link'].notna(),'GitHub_owner'] = df.loc[df['Correct_link'].notna(),'Correct_link'].apply(pbmd.get_owner_from_link)\n",
    "df.loc[df['Correct_link'].notna(),'GitHub_repo'] = df.loc[df['Correct_link'].notna(),'Correct_link'].apply(pbmd.get_repo_from_link)\n",
    "\n",
    "df.loc[df['Correct_link'].isna(),'GitHub_owner'] = df.loc[df['Correct_link'].isna(),'GitHub_link_clean'].apply(pbmd.get_owner_from_link)\n",
    "df.loc[df['Correct_link'].isna(),'GitHub_repo'] = df.loc[df['Correct_link'].isna(),'GitHub_link_clean'].apply(pbmd.get_repo_from_link)"
   ]
  },
  {
   "cell_type": "code",
   "execution_count": 389,
   "id": "35967c10-c389-4542-9dfb-cca1c8a61306",
   "metadata": {},
   "outputs": [
    {
     "data": {
      "text/plain": [
       "215"
      ]
     },
     "execution_count": 389,
     "metadata": {},
     "output_type": "execute_result"
    }
   ],
   "source": [
    "PMIDs = df['PMID'][df['GitHub_repo'].notna()].to_list()\n",
    "len(PMIDs)"
   ]
  },
  {
   "cell_type": "code",
   "execution_count": 390,
   "id": "2e7d124d-9a2b-443b-8c63-7ee3cbecc7cf",
   "metadata": {},
   "outputs": [
    {
     "name": "stderr",
     "output_type": "stream",
     "text": [
      "100%|████████████████████████████████████████████████████████████████████████████████| 215/215 [01:05<00:00,  3.30it/s]\n"
     ]
    }
   ],
   "source": [
    "count = 0\n",
    "for PMID in tqdm(PMIDs):\n",
    "    count += 1\n",
    "    if count % 5000 == 0:\n",
    "        time.sleep(3600)\n",
    "    \n",
    "    with open(\"gitstat.txt\", \"a\") as f:\n",
    "        f.write(f\"\\n\\n PMID: {PMID}, GitHub link: {df[df['PMID'] == PMID]['Correct_link'].values[0]}\")\n",
    "\n",
    "    info = pbmd.get_repo_info(df[df['PMID']==PMID]['GitHub_owner'].values[0], df[df['PMID']==PMID]['GitHub_repo'].values[0], GITHUB_TOKEN, \"gitstat.txt\")\n",
    "\n",
    "    idx = df.index[df['PMID'] == PMID][0]\n",
    "\n",
    "    df.loc[idx, \"Repo_created_at\"] = pbmd.get_repo_date_created(info)\n",
    "    df.loc[idx, \"Repo_updated_at\"] = pbmd.get_repo_date_updated(info)\n",
    "    df.loc[idx, \"Fork\"] = pbmd.is_fork(info)"
   ]
  },
  {
   "cell_type": "code",
   "execution_count": 391,
   "id": "ae1722cd-c089-456a-97b4-5267d944a463",
   "metadata": {},
   "outputs": [
    {
     "data": {
      "text/plain": [
       "69"
      ]
     },
     "execution_count": 391,
     "metadata": {},
     "output_type": "execute_result"
    }
   ],
   "source": [
    "PMIDs = df['PMID'][df['Correct_link'].notna()].to_list()\n",
    "len(PMIDs)"
   ]
  },
  {
   "cell_type": "code",
   "execution_count": 392,
   "id": "3ea729a9-2a5a-4d81-99c8-7e2718000724",
   "metadata": {},
   "outputs": [
    {
     "name": "stderr",
     "output_type": "stream",
     "text": [
      "100%|██████████████████████████████████████████████████████████████████████████████████| 69/69 [00:13<00:00,  5.03it/s]\n"
     ]
    }
   ],
   "source": [
    "for PMID in tqdm(PMIDs):\n",
    "    \n",
    "    info = pbmd.check_is_in_softwh(df[df['PMID']==PMID]['Correct_link'].values[0])\n",
    "\n",
    "    idx = df.index[df['PMID'] == PMID][0]\n",
    "    \n",
    "    df.loc[idx, \"In_SoftWH\"] = pbmd.is_in_softwh(info)\n",
    "    df.loc[idx, \"Archived\"] = pbmd.get_date_archived(info)"
   ]
  },
  {
   "cell_type": "code",
   "execution_count": 393,
   "id": "d3c3010b-1b18-4875-bf57-c3e100883ef8",
   "metadata": {},
   "outputs": [
    {
     "data": {
      "text/plain": [
       "146"
      ]
     },
     "execution_count": 393,
     "metadata": {},
     "output_type": "execute_result"
    }
   ],
   "source": [
    "PMIDs = df['PMID'][df['Correct_link'].isna()].to_list()\n",
    "len(PMIDs)"
   ]
  },
  {
   "cell_type": "code",
   "execution_count": 394,
   "id": "0d615f28-b18d-4cd0-9407-5d6e88b9e7c7",
   "metadata": {},
   "outputs": [
    {
     "name": "stderr",
     "output_type": "stream",
     "text": [
      "100%|████████████████████████████████████████████████████████████████████████████████| 146/146 [00:56<00:00,  2.60it/s]\n"
     ]
    }
   ],
   "source": [
    "for PMID in tqdm(PMIDs):\n",
    "    \n",
    "    info = pbmd.check_is_in_softwh(df[df['PMID']==PMID]['GitHub_link_clean'].values[0])\n",
    "\n",
    "    idx = df.index[df['PMID'] == PMID][0]\n",
    "    \n",
    "    df.loc[idx, \"In_SoftWH\"] = pbmd.is_in_softwh(info)\n",
    "    df.loc[idx, \"Archived\"] = pbmd.get_date_archived(info)"
   ]
  },
  {
   "cell_type": "code",
   "execution_count": 396,
   "id": "414b497b-bf2c-432e-86c7-cfe37b3af1d2",
   "metadata": {},
   "outputs": [
    {
     "name": "stdout",
     "output_type": "stream",
     "text": [
      "Repositories that are forks : 0\n"
     ]
    }
   ],
   "source": [
    "print(f\"Repositories that are forks : {len(df[df['Fork'] == 1])}\")"
   ]
  },
  {
   "cell_type": "code",
   "execution_count": 397,
   "id": "2433e02b-40b0-4b61-8636-a35d3954f887",
   "metadata": {},
   "outputs": [
    {
     "name": "stdout",
     "output_type": "stream",
     "text": [
      "Not in SoftWH : 118\n"
     ]
    }
   ],
   "source": [
    "print(f\"Not in SoftWH : {len(df[df['In_SoftWH'] == 0])}\")"
   ]
  },
  {
   "cell_type": "code",
   "execution_count": 398,
   "id": "b561b266-3336-4238-8827-87c3bef2740d",
   "metadata": {},
   "outputs": [
    {
     "name": "stdout",
     "output_type": "stream",
     "text": [
      "In SoftWH : 97\n"
     ]
    }
   ],
   "source": [
    "print(f\"In SoftWH : {len(df[df['In_SoftWH'] == 1])}\")"
   ]
  },
  {
   "cell_type": "code",
   "execution_count": 401,
   "id": "23fad432-e0f1-4cb4-991b-a88ca809422d",
   "metadata": {},
   "outputs": [
    {
     "name": "stdout",
     "output_type": "stream",
     "text": [
      "Were deleted but archived in SoftWH : 49\n"
     ]
    },
    {
     "name": "stderr",
     "output_type": "stream",
     "text": [
      "C:\\Users\\nadia\\AppData\\Local\\Temp\\ipykernel_9668\\3996960915.py:1: UserWarning: Boolean Series key will be reindexed to match DataFrame index.\n",
      "  print(f\"Were deleted but archived in SoftWH : {len(df[df['Correct_link'].isna()][df['In_SoftWH'] == 1])}\")\n"
     ]
    }
   ],
   "source": [
    "print(f\"Were deleted but archived in SoftWH : {len(df[df['Correct_link'].isna()][df['In_SoftWH'] == 1])}\")"
   ]
  }
 ],
 "metadata": {
  "kernelspec": {
   "display_name": "Python 3 (ipykernel)",
   "language": "python",
   "name": "python3"
  },
  "language_info": {
   "codemirror_mode": {
    "name": "ipython",
    "version": 3
   },
   "file_extension": ".py",
   "mimetype": "text/x-python",
   "name": "python",
   "nbconvert_exporter": "python",
   "pygments_lexer": "ipython3",
   "version": "3.9.13"
  }
 },
 "nbformat": 4,
 "nbformat_minor": 5
}

{
 "cells": [
  {
   "cell_type": "markdown",
   "id": "43c5ca6a-125a-4118-b3d2-1e45626d1212",
   "metadata": {},
   "source": [
    "# Current Trends in Bioinformatics Software Development and Archiving"
   ]
  },
  {
   "cell_type": "code",
   "execution_count": 2,
   "id": "2092ef92-81df-4128-a1fa-f728c558bac0",
   "metadata": {},
   "outputs": [],
   "source": [
    "from datetime import datetime\n",
    "import json\n",
    "import re\n",
    "import time\n",
    "\n",
    "import dotenv\n",
    "import matplotlib.pyplot as plt\n",
    "import numpy as np\n",
    "import os\n",
    "import pandas as pd\n",
    "from tqdm import tqdm\n",
    "import requests\n",
    "import warnings\n",
    "import xmltodict\n",
    "\n",
    "%reload_ext autoreload\n",
    "%autoreload 2\n",
    "import pbmd_tools as pbmd"
   ]
  },
  {
   "cell_type": "code",
   "execution_count": 3,
   "id": "1e66c109-89bd-4f6f-8d99-89ed18a4be3d",
   "metadata": {},
   "outputs": [],
   "source": [
    "pbmd.read_tokens()\n",
    "GITHUB_TOKEN = os.environ.get(\"GITHUB_TOKEN\")\n",
    "PUBMED_TOKEN = os.environ.get(\"PUBMED_TOKEN\")"
   ]
  },
  {
   "cell_type": "markdown",
   "id": "a0068b37-9ae4-444b-874d-2cd5e173b7e5",
   "metadata": {},
   "source": [
    "## 1. PubMed API Entrez Interactions"
   ]
  },
  {
   "cell_type": "code",
   "execution_count": 113,
   "id": "188978bd-1f8f-4fc5-9928-9157a341cda3",
   "metadata": {},
   "outputs": [],
   "source": [
    "db = \"pubmed\"\n",
    "domain = \"https://www.ncbi.nlm.nih.gov/entrez/eutils\"\n",
    "retmode = \"json\"\n",
    "queries_github = []\n",
    "queries_gitlab = []\n",
    "queries_sourceforge = []\n",
    "queries_googlecode = []\n",
    "queries_bitbucket = []\n",
    "\n",
    "#creating queries for every forge and every year\n",
    "for year in range(2009, 2023):\n",
    "    queries_github.append(f'((github.com[Title/Abstract])) AND ((\"{year}/01/01\"[Date - Publication] : \"{year}/12/31\"[Date - Publication]))')\n",
    "    queries_gitlab.append(f'((https://gitlab[Title/Abstract])) AND ((\"{year}/01/01\"[Date - Publication] : \"{year}/12/31\"[Date - Publication]))')\n",
    "    queries_sourceforge.append(f'((sourceforge.net[Title/Abstract])) AND ((\"{year}/01/01\"[Date - Publication] : \"{year}/12/31\"[Date - Publication]))')\n",
    "    queries_googlecode.append(f'(googlecode) AND (\"{year}/01/01\"[Date - Publication] : \"{year}/12/31\"[Date - Publication])')\n",
    "    queries_bitbucket.append(f'(bitbucket.org[Title/Abstract]) AND (\"{year}/01/01\"[Date - Publication] : \"{year}/12/31\"[Date - Publication])')"
   ]
  },
  {
   "cell_type": "code",
   "execution_count": 114,
   "id": "975bb2c5-a417-48a3-adcd-198c2cb08332",
   "metadata": {},
   "outputs": [
    {
     "name": "stderr",
     "output_type": "stream",
     "text": [
      "100%|██████████████████████████████████████████████████████████████████████████████████| 14/14 [00:11<00:00,  1.22it/s]\n",
      "100%|██████████████████████████████████████████████████████████████████████████████████| 14/14 [00:09<00:00,  1.46it/s]\n",
      "100%|██████████████████████████████████████████████████████████████████████████████████| 14/14 [00:08<00:00,  1.66it/s]\n",
      "100%|██████████████████████████████████████████████████████████████████████████████████| 14/14 [00:08<00:00,  1.59it/s]\n",
      "100%|██████████████████████████████████████████████████████████████████████████████████| 14/14 [00:09<00:00,  1.45it/s]"
     ]
    },
    {
     "name": "stdout",
     "output_type": "stream",
     "text": [
      "\n",
      "10882 articles with 'github.com' found in PubMed\n",
      "\n",
      "10882 unique articles with 'github.com' found in PubMed\n"
     ]
    },
    {
     "name": "stderr",
     "output_type": "stream",
     "text": [
      "\n"
     ]
    }
   ],
   "source": [
    "#dictionaries for stocking the number of articles for each forge for each year\n",
    "#example: {'2009': 0, '2010': 5, '2011': 15, ... }\n",
    "\n",
    "stats_github = {}\n",
    "stats_gitlab = {}\n",
    "stats_sourceforge = {}\n",
    "stats_googlecode = {}\n",
    "stats_bitbucket = {}\n",
    "PMIDs = []\n",
    "PMIDs_all = []\n",
    "\n",
    "for query in tqdm(queries_github):\n",
    "    nb = 0 #number of articles for this query\n",
    "    queryLinkSearch = f\"{domain}/esearch.fcgi?db={db}&retmode={retmode}&retmax=15000&term={query}\"\n",
    "    response = requests.get(queryLinkSearch)\n",
    "    pubmed_json = response.json()\n",
    "    for id in pubmed_json[\"esearchresult\"][\"idlist\"]:\n",
    "        #checking if there are any dublicates in PubMed IDs (it happens because of the PubDate that can be EPubDate or normal)\n",
    "        if id not in PMIDs:\n",
    "            nb += 1\n",
    "            PMIDs.append(id)\n",
    "    #query[38:42] - it is the year of this query\n",
    "    stats_github[query[38:42]] = nb \n",
    "    \n",
    "for query in tqdm(queries_bitbucket):\n",
    "    nb = 0\n",
    "    queryLinkSearch = f\"{domain}/esearch.fcgi?db={db}&retmode={retmode}&retmax=15000&term={query}\"\n",
    "    response = requests.get(queryLinkSearch)\n",
    "    pubmed_json = response.json()\n",
    "    for id in pubmed_json[\"esearchresult\"][\"idlist\"]:\n",
    "        if id not in PMIDs_all:\n",
    "            nb += 1\n",
    "            PMIDs_all.append(id)\n",
    "    stats_bitbucket[query[38:42]] = nb\n",
    "    \n",
    "for query in tqdm(queries_gitlab):\n",
    "    nb = 0\n",
    "    queryLinkSearch = f\"{domain}/esearch.fcgi?db={db}&retmode={retmode}&retmax=15000&term={query}\"\n",
    "    response = requests.get(queryLinkSearch)\n",
    "    pubmed_json = response.json()\n",
    "    for id in pubmed_json[\"esearchresult\"][\"idlist\"]:\n",
    "        if id not in PMIDs_all:\n",
    "            nb += 1\n",
    "            PMIDs_all.append(id)\n",
    "    stats_gitlab[query[42:46]] = nb\n",
    "    \n",
    "for query in tqdm(queries_sourceforge):\n",
    "    nb = 0\n",
    "    queryLinkSearch = f\"{domain}/esearch.fcgi?db={db}&retmode={retmode}&retmax=15000&term={query}\"\n",
    "    response = requests.get(queryLinkSearch)\n",
    "    pubmed_json = response.json()\n",
    "    for id in pubmed_json[\"esearchresult\"][\"idlist\"]:\n",
    "        if id not in PMIDs_all:\n",
    "            nb += 1\n",
    "            PMIDs_all.append(id)\n",
    "    stats_sourceforge[query[43:47]] = nb\n",
    "    \n",
    "for query in tqdm(queries_googlecode):\n",
    "    nb = 0\n",
    "    queryLinkSearch = f\"{domain}/esearch.fcgi?db={db}&retmode={retmode}&retmax=15000&term={query}\"\n",
    "    response = requests.get(queryLinkSearch)\n",
    "    pubmed_json = response.json()\n",
    "    for id in pubmed_json[\"esearchresult\"][\"idlist\"]:\n",
    "        if id not in PMIDs_all:\n",
    "            nb += 1\n",
    "            PMIDs_all.append(id)\n",
    "    stats_googlecode[query[19:23]] = nb\n",
    "\n",
    "print(f\"\\n{len(PMIDs)} articles with 'github.com' found in PubMed\")\n",
    "\n",
    "#checking that there is no duplicates\n",
    "PMIDs = list(set(PMIDs))\n",
    "print(f\"\\n{len(PMIDs)} unique articles with 'github.com' found in PubMed\")"
   ]
  },
  {
   "cell_type": "code",
   "execution_count": 107,
   "id": "c8f099dc-b5c8-450a-ad77-0f65599f8f1f",
   "metadata": {},
   "outputs": [],
   "source": [
    "df['Record_date'] = pd.to_datetime(df['Record_date'])\n",
    "df['PubDate'] = pd.to_datetime(df['PubDate'])\n",
    "df['Min_date'] = np.where(\n",
    "    df['PubDate'].notnull() & df['Record_date'].notnull(),  # Both 'PubDate' and 'Record_date' exist\n",
    "    df[['PubDate', 'Record_date']].min(axis=1),  # Take the minimum of 'PubDate' and 'Record_date'\n",
    "    df['PubDate'].fillna(df['Record_date'])  # Use 'PubDate' if 'col2' is NaN, otherwise use 'Record_date'\n",
    ")"
   ]
  },
  {
   "cell_type": "code",
   "execution_count": 111,
   "id": "e660ae10-7e34-47ca-ac00-c0917caf2cf9",
   "metadata": {},
   "outputs": [
    {
     "data": {
      "text/html": [
       "<div>\n",
       "<style scoped>\n",
       "    .dataframe tbody tr th:only-of-type {\n",
       "        vertical-align: middle;\n",
       "    }\n",
       "\n",
       "    .dataframe tbody tr th {\n",
       "        vertical-align: top;\n",
       "    }\n",
       "\n",
       "    .dataframe thead th {\n",
       "        text-align: right;\n",
       "    }\n",
       "</style>\n",
       "<table border=\"1\" class=\"dataframe\">\n",
       "  <thead>\n",
       "    <tr style=\"text-align: right;\">\n",
       "      <th></th>\n",
       "      <th>PMID</th>\n",
       "      <th>PubDate</th>\n",
       "      <th>DOI</th>\n",
       "      <th>Journal</th>\n",
       "      <th>Title</th>\n",
       "      <th>Abstract</th>\n",
       "      <th>GitHub_link_raw</th>\n",
       "      <th>GitHub_link_clean</th>\n",
       "      <th>GitHub_owner</th>\n",
       "      <th>GitHub_repo</th>\n",
       "      <th>Repo_created_at</th>\n",
       "      <th>Repo_updated_at</th>\n",
       "      <th>Fork</th>\n",
       "      <th>In_SoftWH</th>\n",
       "      <th>Archived</th>\n",
       "      <th>Record_date</th>\n",
       "      <th>Min_date</th>\n",
       "    </tr>\n",
       "  </thead>\n",
       "  <tbody>\n",
       "    <tr>\n",
       "      <th>76</th>\n",
       "      <td>36910011</td>\n",
       "      <td>2023-01-02</td>\n",
       "      <td>10.1109/bibm55620.2022.9995401</td>\n",
       "      <td>Proceedings. IEEE International Conference on ...</td>\n",
       "      <td>FineFDR: Fine-grained Taxonomy-specific False ...</td>\n",
       "      <td>Microbial community proteomics, also termed me...</td>\n",
       "      <td>github.com/Biocomputing-Research-Group/FDR.</td>\n",
       "      <td>https://github.com/Biocomputing-Research-Group...</td>\n",
       "      <td>Biocomputing-Research-Group</td>\n",
       "      <td>FDR</td>\n",
       "      <td>2022-07-22</td>\n",
       "      <td>2023-05-04</td>\n",
       "      <td>0.0</td>\n",
       "      <td>0.0</td>\n",
       "      <td>NaN</td>\n",
       "      <td>2023-03-14</td>\n",
       "      <td>2023-01-02</td>\n",
       "    </tr>\n",
       "    <tr>\n",
       "      <th>271</th>\n",
       "      <td>36712859</td>\n",
       "      <td>2023-01-12</td>\n",
       "      <td>10.3389/fgene.2022.1076554</td>\n",
       "      <td>Frontiers in genetics</td>\n",
       "      <td>miRdisNET: Discovering microRNA biomarkers tha...</td>\n",
       "      <td>During recent years, biological experiments an...</td>\n",
       "      <td>github.com/malikyousef/miRdisNET.</td>\n",
       "      <td>https://github.com/malikyousef/miRdisNET/</td>\n",
       "      <td>malikyousef</td>\n",
       "      <td>miRdisNET</td>\n",
       "      <td>2022-10-13</td>\n",
       "      <td>2022-10-22</td>\n",
       "      <td>0.0</td>\n",
       "      <td>0.0</td>\n",
       "      <td>NaN</td>\n",
       "      <td>2023-01-31</td>\n",
       "      <td>2023-01-12</td>\n",
       "    </tr>\n",
       "    <tr>\n",
       "      <th>482</th>\n",
       "      <td>37034305</td>\n",
       "      <td>2023-01-02</td>\n",
       "      <td>10.1109/bibm55620.2022.9994873</td>\n",
       "      <td>Proceedings. IEEE International Conference on ...</td>\n",
       "      <td>IDIA: An Integrative Signal Extractor for Data...</td>\n",
       "      <td>In proteomics, data-independent acquisition (D...</td>\n",
       "      <td>github.com/Biocomputing-Research-Group/IDIA.</td>\n",
       "      <td>https://github.com/Biocomputing-Research-Group...</td>\n",
       "      <td>Biocomputing-Research-Group</td>\n",
       "      <td>IDIA</td>\n",
       "      <td>2022-08-21</td>\n",
       "      <td>2022-08-24</td>\n",
       "      <td>0.0</td>\n",
       "      <td>0.0</td>\n",
       "      <td>NaN</td>\n",
       "      <td>2023-04-11</td>\n",
       "      <td>2023-01-02</td>\n",
       "    </tr>\n",
       "    <tr>\n",
       "      <th>901</th>\n",
       "      <td>36684763</td>\n",
       "      <td>2023-01-04</td>\n",
       "      <td>10.3389/fpls.2022.1030595</td>\n",
       "      <td>Frontiers in plant science</td>\n",
       "      <td>CACPU-Net: Channel attention U-net constrained...</td>\n",
       "      <td>Crop type mapping is an indispensable topic in...</td>\n",
       "      <td>github.com/mooneed/CACPU-Net.</td>\n",
       "      <td>https://github.com/mooneed/CACPU-Net/</td>\n",
       "      <td>mooneed</td>\n",
       "      <td>CACPU-Net</td>\n",
       "      <td>2022-08-29</td>\n",
       "      <td>2023-05-15</td>\n",
       "      <td>0.0</td>\n",
       "      <td>0.0</td>\n",
       "      <td>NaN</td>\n",
       "      <td>2023-01-24</td>\n",
       "      <td>2023-01-04</td>\n",
       "    </tr>\n",
       "    <tr>\n",
       "      <th>1340</th>\n",
       "      <td>36685885</td>\n",
       "      <td>2023-01-06</td>\n",
       "      <td>10.3389/fgene.2022.1096797</td>\n",
       "      <td>Frontiers in genetics</td>\n",
       "      <td>Is an SV caller compatible with sequencing dat...</td>\n",
       "      <td>A lot of bioinformatics tools were released to...</td>\n",
       "      <td>github.com/hello-json/CallerRecommendation</td>\n",
       "      <td>https://github.com/hello-json/CallerRecommenda...</td>\n",
       "      <td>hello-json</td>\n",
       "      <td>CallerRecommendation</td>\n",
       "      <td>2022-04-18</td>\n",
       "      <td>2022-05-12</td>\n",
       "      <td>0.0</td>\n",
       "      <td>0.0</td>\n",
       "      <td>NaN</td>\n",
       "      <td>2023-01-24</td>\n",
       "      <td>2023-01-06</td>\n",
       "    </tr>\n",
       "    <tr>\n",
       "      <th>1597</th>\n",
       "      <td>37193322</td>\n",
       "      <td>NaT</td>\n",
       "      <td>10.24963/ijcai.2022/301</td>\n",
       "      <td>IJCAI : proceedings of the conference</td>\n",
       "      <td>Adapt to Adaptation: Learning Personalization ...</td>\n",
       "      <td>Conventional federated learning (FL) trains on...</td>\n",
       "      <td>github.com/ljaiverson/pFL-APPLE.</td>\n",
       "      <td>https://github.com/ljaiverson/pFL-APPLE/</td>\n",
       "      <td>ljaiverson</td>\n",
       "      <td>pFL-APPLE</td>\n",
       "      <td>2022-04-25</td>\n",
       "      <td>2023-04-07</td>\n",
       "      <td>0.0</td>\n",
       "      <td>0.0</td>\n",
       "      <td>NaN</td>\n",
       "      <td>2023-05-17</td>\n",
       "      <td>2023-05-17</td>\n",
       "    </tr>\n",
       "    <tr>\n",
       "      <th>1985</th>\n",
       "      <td>37139473</td>\n",
       "      <td>NaT</td>\n",
       "      <td>NaN</td>\n",
       "      <td>Proceedings of machine learning research</td>\n",
       "      <td>Multi Resolution Analysis (MRA) for Approximat...</td>\n",
       "      <td>Transformers have emerged as a preferred model...</td>\n",
       "      <td>github.com/mlpen/mra-attention.</td>\n",
       "      <td>https://github.com/mlpen/mra-attention/</td>\n",
       "      <td>mlpen</td>\n",
       "      <td>mra-attention</td>\n",
       "      <td>2022-06-06</td>\n",
       "      <td>2023-05-12</td>\n",
       "      <td>0.0</td>\n",
       "      <td>0.0</td>\n",
       "      <td>NaN</td>\n",
       "      <td>2023-05-04</td>\n",
       "      <td>2023-05-04</td>\n",
       "    </tr>\n",
       "    <tr>\n",
       "      <th>2812</th>\n",
       "      <td>36688121</td>\n",
       "      <td>2023-01-13</td>\n",
       "      <td>10.1007/s41666-022-00122-1</td>\n",
       "      <td>Journal of healthcare informatics research</td>\n",
       "      <td>SuperpixelGridMasks Data Augmentation: Applica...</td>\n",
       "      <td>A novel approach of data augmentation based on...</td>\n",
       "      <td>github.com/hammoudiproject/SuperpixelGridMasks.</td>\n",
       "      <td>https://github.com/hammoudiproject/SuperpixelG...</td>\n",
       "      <td>hammoudiproject</td>\n",
       "      <td>SuperpixelGridMasks</td>\n",
       "      <td>2022-04-11</td>\n",
       "      <td>2023-03-31</td>\n",
       "      <td>0.0</td>\n",
       "      <td>0.0</td>\n",
       "      <td>NaN</td>\n",
       "      <td>2023-01-24</td>\n",
       "      <td>2023-01-13</td>\n",
       "    </tr>\n",
       "    <tr>\n",
       "      <th>3551</th>\n",
       "      <td>37128457</td>\n",
       "      <td>2023-04-29</td>\n",
       "      <td>NaN</td>\n",
       "      <td>AMIA ... Annual Symposium proceedings. AMIA Sy...</td>\n",
       "      <td>Methodological information extraction from ran...</td>\n",
       "      <td>Most biomedical information extraction (IE) ap...</td>\n",
       "      <td>github.com/kellyhoang0610/RCTMethodologyIE.</td>\n",
       "      <td>https://github.com/kellyhoang0610/RCTMethodolo...</td>\n",
       "      <td>kellyhoang0610</td>\n",
       "      <td>RCTMethodologyIE</td>\n",
       "      <td>2022-07-27</td>\n",
       "      <td>2022-11-09</td>\n",
       "      <td>0.0</td>\n",
       "      <td>0.0</td>\n",
       "      <td>NaN</td>\n",
       "      <td>2023-05-02</td>\n",
       "      <td>2023-04-29</td>\n",
       "    </tr>\n",
       "    <tr>\n",
       "      <th>4433</th>\n",
       "      <td>37192934</td>\n",
       "      <td>NaT</td>\n",
       "      <td>NaN</td>\n",
       "      <td>Advances in neural information processing systems</td>\n",
       "      <td>Augmentations in Hypergraph Contrastive Learni...</td>\n",
       "      <td>This paper targets at improving the generaliza...</td>\n",
       "      <td>github.com/weitianxin/HyperGCL.</td>\n",
       "      <td>https://github.com/weitianxin/HyperGCL/</td>\n",
       "      <td>weitianxin</td>\n",
       "      <td>HyperGCL</td>\n",
       "      <td>2022-09-17</td>\n",
       "      <td>2023-05-04</td>\n",
       "      <td>0.0</td>\n",
       "      <td>0.0</td>\n",
       "      <td>NaN</td>\n",
       "      <td>2023-05-17</td>\n",
       "      <td>2023-05-17</td>\n",
       "    </tr>\n",
       "    <tr>\n",
       "      <th>4796</th>\n",
       "      <td>36998700</td>\n",
       "      <td>NaT</td>\n",
       "      <td>NaN</td>\n",
       "      <td>The journal of machine learning for biomedical...</td>\n",
       "      <td>QU-BraTS: MICCAI BraTS 2020 Challenge on Quant...</td>\n",
       "      <td>Deep learning (DL) models have provided state-...</td>\n",
       "      <td>github.com/RagMeh11/QU-BraTS.</td>\n",
       "      <td>https://github.com/RagMeh11/QU-BraTS/</td>\n",
       "      <td>RagMeh11</td>\n",
       "      <td>QU-BraTS</td>\n",
       "      <td>2021-03-29</td>\n",
       "      <td>2022-10-31</td>\n",
       "      <td>0.0</td>\n",
       "      <td>1.0</td>\n",
       "      <td>2023-03-27</td>\n",
       "      <td>2023-04-01</td>\n",
       "      <td>2023-04-01</td>\n",
       "    </tr>\n",
       "    <tr>\n",
       "      <th>4820</th>\n",
       "      <td>36699950</td>\n",
       "      <td>2023-01-09</td>\n",
       "      <td>10.3389/fnbot.2022.1081242</td>\n",
       "      <td>Frontiers in neurorobotics</td>\n",
       "      <td>Realistic Actor-Critic: A framework for balanc...</td>\n",
       "      <td>[OrderedDict([('@Label', 'INTRODUCTION'), ('@N...</td>\n",
       "      <td>github.com/ihuhuhu/RAC.</td>\n",
       "      <td>https://github.com/ihuhuhu/RAC/</td>\n",
       "      <td>ihuhuhu</td>\n",
       "      <td>RAC</td>\n",
       "      <td>2021-11-09</td>\n",
       "      <td>2022-10-11</td>\n",
       "      <td>0.0</td>\n",
       "      <td>0.0</td>\n",
       "      <td>NaN</td>\n",
       "      <td>2023-01-27</td>\n",
       "      <td>2023-01-09</td>\n",
       "    </tr>\n",
       "    <tr>\n",
       "      <th>5173</th>\n",
       "      <td>36775347</td>\n",
       "      <td>2023-01-04</td>\n",
       "      <td>10.1038/s41374-022-00801-y</td>\n",
       "      <td>Laboratory investigation; a journal of technic...</td>\n",
       "      <td>A convolutional neural network model for survi...</td>\n",
       "      <td>Great advances in deep learning have provided ...</td>\n",
       "      <td>github.com/wangwangCCChen/CNN-Cox.</td>\n",
       "      <td>https://github.com/wangwangCCChen/CNN-Cox/</td>\n",
       "      <td>wangwangCCChen</td>\n",
       "      <td>CNN-Cox</td>\n",
       "      <td>2022-03-23</td>\n",
       "      <td>2022-12-01</td>\n",
       "      <td>0.0</td>\n",
       "      <td>0.0</td>\n",
       "      <td>NaN</td>\n",
       "      <td>2023-02-13</td>\n",
       "      <td>2023-01-04</td>\n",
       "    </tr>\n",
       "    <tr>\n",
       "      <th>5834</th>\n",
       "      <td>36608843</td>\n",
       "      <td>2023-01-03</td>\n",
       "      <td>10.1016/j.gpb.2022.12.008</td>\n",
       "      <td>Genomics, proteomics &amp; bioinformatics</td>\n",
       "      <td>scEMAIL: Universal and Source-free Annotation ...</td>\n",
       "      <td>Current cell-type annotation tools for single-...</td>\n",
       "      <td>github.com/aster-ww/scEMAIL</td>\n",
       "      <td>https://github.com/aster-ww/scEMAIL/</td>\n",
       "      <td>aster-ww</td>\n",
       "      <td>scEMAIL</td>\n",
       "      <td>2022-06-22</td>\n",
       "      <td>2023-04-26</td>\n",
       "      <td>0.0</td>\n",
       "      <td>0.0</td>\n",
       "      <td>NaN</td>\n",
       "      <td>2023-01-08</td>\n",
       "      <td>2023-01-03</td>\n",
       "    </tr>\n",
       "    <tr>\n",
       "      <th>6072</th>\n",
       "      <td>37081923</td>\n",
       "      <td>NaT</td>\n",
       "      <td>NaN</td>\n",
       "      <td>Advances in neural information processing systems</td>\n",
       "      <td>Trap and Replace: Defending Backdoor Attacks b...</td>\n",
       "      <td>Deep neural networks (DNNs) are vulnerable to ...</td>\n",
       "      <td>github.com/VITA-Group/Trap-and-Replace-Backdoo...</td>\n",
       "      <td>https://github.com/VITA-Group/Trap-and-Replace...</td>\n",
       "      <td>VITA-Group</td>\n",
       "      <td>Trap-and-Replace-Backdoor-Defense</td>\n",
       "      <td>2022-10-18</td>\n",
       "      <td>2023-04-28</td>\n",
       "      <td>0.0</td>\n",
       "      <td>0.0</td>\n",
       "      <td>NaN</td>\n",
       "      <td>2023-04-21</td>\n",
       "      <td>2023-04-21</td>\n",
       "    </tr>\n",
       "    <tr>\n",
       "      <th>7730</th>\n",
       "      <td>36710930</td>\n",
       "      <td>2023-01-13</td>\n",
       "      <td>10.3389/fnmol.2022.1037565</td>\n",
       "      <td>Frontiers in molecular neuroscience</td>\n",
       "      <td>Inferring cell developmental stage-specific ln...</td>\n",
       "      <td>Noncoding RNAs (ncRNAs) occupy ~98% of the tra...</td>\n",
       "      <td>github.com/linxi159/CDSlncR.</td>\n",
       "      <td>https://github.com/linxi159/CDSlncR/</td>\n",
       "      <td>linxi159</td>\n",
       "      <td>CDSlncR</td>\n",
       "      <td>2022-08-20</td>\n",
       "      <td>2022-12-02</td>\n",
       "      <td>0.0</td>\n",
       "      <td>0.0</td>\n",
       "      <td>NaN</td>\n",
       "      <td>2023-01-31</td>\n",
       "      <td>2023-01-13</td>\n",
       "    </tr>\n",
       "    <tr>\n",
       "      <th>7811</th>\n",
       "      <td>36686986</td>\n",
       "      <td>NaT</td>\n",
       "      <td>NaN</td>\n",
       "      <td>Proceedings of machine learning research</td>\n",
       "      <td>An Extensive Data Processing Pipeline for MIMI...</td>\n",
       "      <td>An increasing amount of research is being devo...</td>\n",
       "      <td>github.com/healthylaife/MIMIC-IV-Data-Pipeline.</td>\n",
       "      <td>https://github.com/healthylaife/MIMIC-IV-Data-...</td>\n",
       "      <td>healthylaife</td>\n",
       "      <td>MIMIC-IV-Data-Pipeline</td>\n",
       "      <td>2021-08-06</td>\n",
       "      <td>2023-05-24</td>\n",
       "      <td>0.0</td>\n",
       "      <td>0.0</td>\n",
       "      <td>NaN</td>\n",
       "      <td>2023-01-24</td>\n",
       "      <td>2023-01-24</td>\n",
       "    </tr>\n",
       "    <tr>\n",
       "      <th>8414</th>\n",
       "      <td>36713195</td>\n",
       "      <td>2023-01-12</td>\n",
       "      <td>10.3389/fmicb.2022.1039687</td>\n",
       "      <td>Frontiers in microbiology</td>\n",
       "      <td>β-LacFamPred: An online tool for prediction an...</td>\n",
       "      <td>β-Lactams are a broad class of antimicrobial a...</td>\n",
       "      <td>github.com/mkubiophysics/B-LacFamPred</td>\n",
       "      <td>https://github.com/mkubiophysics/B-LacFamPred/</td>\n",
       "      <td>mkubiophysics</td>\n",
       "      <td>B-LacFamPred</td>\n",
       "      <td>2022-09-06</td>\n",
       "      <td>2022-09-06</td>\n",
       "      <td>0.0</td>\n",
       "      <td>0.0</td>\n",
       "      <td>NaN</td>\n",
       "      <td>2023-01-31</td>\n",
       "      <td>2023-01-12</td>\n",
       "    </tr>\n",
       "    <tr>\n",
       "      <th>8477</th>\n",
       "      <td>36741395</td>\n",
       "      <td>2023-01-20</td>\n",
       "      <td>10.3389/fimmu.2022.1031011</td>\n",
       "      <td>Frontiers in immunology</td>\n",
       "      <td>Counting is almost all you need.</td>\n",
       "      <td>The immune memory repertoire encodes the histo...</td>\n",
       "      <td>github.com/louzounlab/CountingIsAlmostAllYouNeed.</td>\n",
       "      <td>https://github.com/louzounlab/CountingIsAlmost...</td>\n",
       "      <td>louzounlab</td>\n",
       "      <td>CountingIsAlmostAllYouNeed</td>\n",
       "      <td>NaN</td>\n",
       "      <td>NaN</td>\n",
       "      <td>1.0</td>\n",
       "      <td>0.0</td>\n",
       "      <td>NaN</td>\n",
       "      <td>2023-02-07</td>\n",
       "      <td>2023-01-20</td>\n",
       "    </tr>\n",
       "    <tr>\n",
       "      <th>8486</th>\n",
       "      <td>36608842</td>\n",
       "      <td>2023-01-03</td>\n",
       "      <td>10.1016/j.gpb.2022.12.007</td>\n",
       "      <td>Genomics, proteomics &amp; bioinformatics</td>\n",
       "      <td>DeepNoise: Signal and Noise Disentanglement Ba...</td>\n",
       "      <td>The high-content image-based assay is commonly...</td>\n",
       "      <td>github.com/Scu-sen/Recursion-Cellular-Image-Cl...</td>\n",
       "      <td>https://github.com/Scu-sen/Recursion-Cellular-...</td>\n",
       "      <td>Scu-sen</td>\n",
       "      <td>Recursion-Cellular-Image-Classification-Challenge</td>\n",
       "      <td>2020-07-04</td>\n",
       "      <td>2023-04-27</td>\n",
       "      <td>0.0</td>\n",
       "      <td>0.0</td>\n",
       "      <td>NaN</td>\n",
       "      <td>2023-01-08</td>\n",
       "      <td>2023-01-03</td>\n",
       "    </tr>\n",
       "    <tr>\n",
       "      <th>9327</th>\n",
       "      <td>37128454</td>\n",
       "      <td>2023-04-29</td>\n",
       "      <td>NaN</td>\n",
       "      <td>AMIA ... Annual Symposium proceedings. AMIA Sy...</td>\n",
       "      <td>DR-VIDAL - Doubly Robust Variational Informati...</td>\n",
       "      <td>Determining causal effects of interventions on...</td>\n",
       "      <td>github.com/Shantanu48114860/DR-VIDAL-AMIA-22</td>\n",
       "      <td>https://github.com/Shantanu48114860/DR-VIDAL-A...</td>\n",
       "      <td>Shantanu48114860</td>\n",
       "      <td>DR-VIDAL-AMIA-22</td>\n",
       "      <td>2022-07-28</td>\n",
       "      <td>2023-05-16</td>\n",
       "      <td>0.0</td>\n",
       "      <td>0.0</td>\n",
       "      <td>NaN</td>\n",
       "      <td>2023-05-02</td>\n",
       "      <td>2023-04-29</td>\n",
       "    </tr>\n",
       "    <tr>\n",
       "      <th>9735</th>\n",
       "      <td>36880061</td>\n",
       "      <td>NaT</td>\n",
       "      <td>10.5121/csit.2022.121812</td>\n",
       "      <td>Computer science &amp; information technology</td>\n",
       "      <td>Tensor-Based Multi-Modality Feature Selection ...</td>\n",
       "      <td>The assessment of Alzheimer's Disease (AD) and...</td>\n",
       "      <td>github.com/junfish/BIOS22.</td>\n",
       "      <td>https://github.com/junfish/BIOS22/</td>\n",
       "      <td>junfish</td>\n",
       "      <td>BIOS22</td>\n",
       "      <td>2022-03-01</td>\n",
       "      <td>2022-09-29</td>\n",
       "      <td>0.0</td>\n",
       "      <td>0.0</td>\n",
       "      <td>NaN</td>\n",
       "      <td>2023-03-08</td>\n",
       "      <td>2023-03-08</td>\n",
       "    </tr>\n",
       "    <tr>\n",
       "      <th>9914</th>\n",
       "      <td>36694721</td>\n",
       "      <td>NaT</td>\n",
       "      <td>10.18699/VJGB-22-97</td>\n",
       "      <td>Vavilovskii zhurnal genetiki i selektsii</td>\n",
       "      <td>FastContext: A tool for identification of adap...</td>\n",
       "      <td>The development of next generation sequencing ...</td>\n",
       "      <td>github.com/regnveig/FastContext</td>\n",
       "      <td>https://github.com/regnveig/FastContext/</td>\n",
       "      <td>regnveig</td>\n",
       "      <td>FastContext</td>\n",
       "      <td>2022-07-05</td>\n",
       "      <td>2023-02-23</td>\n",
       "      <td>0.0</td>\n",
       "      <td>0.0</td>\n",
       "      <td>NaN</td>\n",
       "      <td>2023-01-26</td>\n",
       "      <td>2023-01-26</td>\n",
       "    </tr>\n",
       "  </tbody>\n",
       "</table>\n",
       "</div>"
      ],
      "text/plain": [
       "          PMID    PubDate                             DOI   \n",
       "76    36910011 2023-01-02  10.1109/bibm55620.2022.9995401  \\\n",
       "271   36712859 2023-01-12      10.3389/fgene.2022.1076554   \n",
       "482   37034305 2023-01-02  10.1109/bibm55620.2022.9994873   \n",
       "901   36684763 2023-01-04       10.3389/fpls.2022.1030595   \n",
       "1340  36685885 2023-01-06      10.3389/fgene.2022.1096797   \n",
       "1597  37193322        NaT         10.24963/ijcai.2022/301   \n",
       "1985  37139473        NaT                             NaN   \n",
       "2812  36688121 2023-01-13      10.1007/s41666-022-00122-1   \n",
       "3551  37128457 2023-04-29                             NaN   \n",
       "4433  37192934        NaT                             NaN   \n",
       "4796  36998700        NaT                             NaN   \n",
       "4820  36699950 2023-01-09      10.3389/fnbot.2022.1081242   \n",
       "5173  36775347 2023-01-04      10.1038/s41374-022-00801-y   \n",
       "5834  36608843 2023-01-03       10.1016/j.gpb.2022.12.008   \n",
       "6072  37081923        NaT                             NaN   \n",
       "7730  36710930 2023-01-13      10.3389/fnmol.2022.1037565   \n",
       "7811  36686986        NaT                             NaN   \n",
       "8414  36713195 2023-01-12      10.3389/fmicb.2022.1039687   \n",
       "8477  36741395 2023-01-20      10.3389/fimmu.2022.1031011   \n",
       "8486  36608842 2023-01-03       10.1016/j.gpb.2022.12.007   \n",
       "9327  37128454 2023-04-29                             NaN   \n",
       "9735  36880061        NaT        10.5121/csit.2022.121812   \n",
       "9914  36694721        NaT             10.18699/VJGB-22-97   \n",
       "\n",
       "                                                Journal   \n",
       "76    Proceedings. IEEE International Conference on ...  \\\n",
       "271                               Frontiers in genetics   \n",
       "482   Proceedings. IEEE International Conference on ...   \n",
       "901                          Frontiers in plant science   \n",
       "1340                              Frontiers in genetics   \n",
       "1597              IJCAI : proceedings of the conference   \n",
       "1985           Proceedings of machine learning research   \n",
       "2812         Journal of healthcare informatics research   \n",
       "3551  AMIA ... Annual Symposium proceedings. AMIA Sy...   \n",
       "4433  Advances in neural information processing systems   \n",
       "4796  The journal of machine learning for biomedical...   \n",
       "4820                         Frontiers in neurorobotics   \n",
       "5173  Laboratory investigation; a journal of technic...   \n",
       "5834              Genomics, proteomics & bioinformatics   \n",
       "6072  Advances in neural information processing systems   \n",
       "7730                Frontiers in molecular neuroscience   \n",
       "7811           Proceedings of machine learning research   \n",
       "8414                          Frontiers in microbiology   \n",
       "8477                            Frontiers in immunology   \n",
       "8486              Genomics, proteomics & bioinformatics   \n",
       "9327  AMIA ... Annual Symposium proceedings. AMIA Sy...   \n",
       "9735          Computer science & information technology   \n",
       "9914           Vavilovskii zhurnal genetiki i selektsii   \n",
       "\n",
       "                                                  Title   \n",
       "76    FineFDR: Fine-grained Taxonomy-specific False ...  \\\n",
       "271   miRdisNET: Discovering microRNA biomarkers tha...   \n",
       "482   IDIA: An Integrative Signal Extractor for Data...   \n",
       "901   CACPU-Net: Channel attention U-net constrained...   \n",
       "1340  Is an SV caller compatible with sequencing dat...   \n",
       "1597  Adapt to Adaptation: Learning Personalization ...   \n",
       "1985  Multi Resolution Analysis (MRA) for Approximat...   \n",
       "2812  SuperpixelGridMasks Data Augmentation: Applica...   \n",
       "3551  Methodological information extraction from ran...   \n",
       "4433  Augmentations in Hypergraph Contrastive Learni...   \n",
       "4796  QU-BraTS: MICCAI BraTS 2020 Challenge on Quant...   \n",
       "4820  Realistic Actor-Critic: A framework for balanc...   \n",
       "5173  A convolutional neural network model for survi...   \n",
       "5834  scEMAIL: Universal and Source-free Annotation ...   \n",
       "6072  Trap and Replace: Defending Backdoor Attacks b...   \n",
       "7730  Inferring cell developmental stage-specific ln...   \n",
       "7811  An Extensive Data Processing Pipeline for MIMI...   \n",
       "8414  β-LacFamPred: An online tool for prediction an...   \n",
       "8477                   Counting is almost all you need.   \n",
       "8486  DeepNoise: Signal and Noise Disentanglement Ba...   \n",
       "9327  DR-VIDAL - Doubly Robust Variational Informati...   \n",
       "9735  Tensor-Based Multi-Modality Feature Selection ...   \n",
       "9914  FastContext: A tool for identification of adap...   \n",
       "\n",
       "                                               Abstract   \n",
       "76    Microbial community proteomics, also termed me...  \\\n",
       "271   During recent years, biological experiments an...   \n",
       "482   In proteomics, data-independent acquisition (D...   \n",
       "901   Crop type mapping is an indispensable topic in...   \n",
       "1340  A lot of bioinformatics tools were released to...   \n",
       "1597  Conventional federated learning (FL) trains on...   \n",
       "1985  Transformers have emerged as a preferred model...   \n",
       "2812  A novel approach of data augmentation based on...   \n",
       "3551  Most biomedical information extraction (IE) ap...   \n",
       "4433  This paper targets at improving the generaliza...   \n",
       "4796  Deep learning (DL) models have provided state-...   \n",
       "4820  [OrderedDict([('@Label', 'INTRODUCTION'), ('@N...   \n",
       "5173  Great advances in deep learning have provided ...   \n",
       "5834  Current cell-type annotation tools for single-...   \n",
       "6072  Deep neural networks (DNNs) are vulnerable to ...   \n",
       "7730  Noncoding RNAs (ncRNAs) occupy ~98% of the tra...   \n",
       "7811  An increasing amount of research is being devo...   \n",
       "8414  β-Lactams are a broad class of antimicrobial a...   \n",
       "8477  The immune memory repertoire encodes the histo...   \n",
       "8486  The high-content image-based assay is commonly...   \n",
       "9327  Determining causal effects of interventions on...   \n",
       "9735  The assessment of Alzheimer's Disease (AD) and...   \n",
       "9914  The development of next generation sequencing ...   \n",
       "\n",
       "                                        GitHub_link_raw   \n",
       "76          github.com/Biocomputing-Research-Group/FDR.  \\\n",
       "271                   github.com/malikyousef/miRdisNET.   \n",
       "482        github.com/Biocomputing-Research-Group/IDIA.   \n",
       "901                       github.com/mooneed/CACPU-Net.   \n",
       "1340         github.com/hello-json/CallerRecommendation   \n",
       "1597                   github.com/ljaiverson/pFL-APPLE.   \n",
       "1985                    github.com/mlpen/mra-attention.   \n",
       "2812    github.com/hammoudiproject/SuperpixelGridMasks.   \n",
       "3551        github.com/kellyhoang0610/RCTMethodologyIE.   \n",
       "4433                    github.com/weitianxin/HyperGCL.   \n",
       "4796                      github.com/RagMeh11/QU-BraTS.   \n",
       "4820                            github.com/ihuhuhu/RAC.   \n",
       "5173                 github.com/wangwangCCChen/CNN-Cox.   \n",
       "5834                        github.com/aster-ww/scEMAIL   \n",
       "6072  github.com/VITA-Group/Trap-and-Replace-Backdoo...   \n",
       "7730                       github.com/linxi159/CDSlncR.   \n",
       "7811    github.com/healthylaife/MIMIC-IV-Data-Pipeline.   \n",
       "8414              github.com/mkubiophysics/B-LacFamPred   \n",
       "8477  github.com/louzounlab/CountingIsAlmostAllYouNeed.   \n",
       "8486  github.com/Scu-sen/Recursion-Cellular-Image-Cl...   \n",
       "9327       github.com/Shantanu48114860/DR-VIDAL-AMIA-22   \n",
       "9735                         github.com/junfish/BIOS22.   \n",
       "9914                    github.com/regnveig/FastContext   \n",
       "\n",
       "                                      GitHub_link_clean   \n",
       "76    https://github.com/Biocomputing-Research-Group...  \\\n",
       "271           https://github.com/malikyousef/miRdisNET/   \n",
       "482   https://github.com/Biocomputing-Research-Group...   \n",
       "901               https://github.com/mooneed/CACPU-Net/   \n",
       "1340  https://github.com/hello-json/CallerRecommenda...   \n",
       "1597           https://github.com/ljaiverson/pFL-APPLE/   \n",
       "1985            https://github.com/mlpen/mra-attention/   \n",
       "2812  https://github.com/hammoudiproject/SuperpixelG...   \n",
       "3551  https://github.com/kellyhoang0610/RCTMethodolo...   \n",
       "4433            https://github.com/weitianxin/HyperGCL/   \n",
       "4796              https://github.com/RagMeh11/QU-BraTS/   \n",
       "4820                    https://github.com/ihuhuhu/RAC/   \n",
       "5173         https://github.com/wangwangCCChen/CNN-Cox/   \n",
       "5834               https://github.com/aster-ww/scEMAIL/   \n",
       "6072  https://github.com/VITA-Group/Trap-and-Replace...   \n",
       "7730               https://github.com/linxi159/CDSlncR/   \n",
       "7811  https://github.com/healthylaife/MIMIC-IV-Data-...   \n",
       "8414     https://github.com/mkubiophysics/B-LacFamPred/   \n",
       "8477  https://github.com/louzounlab/CountingIsAlmost...   \n",
       "8486  https://github.com/Scu-sen/Recursion-Cellular-...   \n",
       "9327  https://github.com/Shantanu48114860/DR-VIDAL-A...   \n",
       "9735                 https://github.com/junfish/BIOS22/   \n",
       "9914           https://github.com/regnveig/FastContext/   \n",
       "\n",
       "                     GitHub_owner   \n",
       "76    Biocomputing-Research-Group  \\\n",
       "271                   malikyousef   \n",
       "482   Biocomputing-Research-Group   \n",
       "901                       mooneed   \n",
       "1340                   hello-json   \n",
       "1597                   ljaiverson   \n",
       "1985                        mlpen   \n",
       "2812              hammoudiproject   \n",
       "3551               kellyhoang0610   \n",
       "4433                   weitianxin   \n",
       "4796                     RagMeh11   \n",
       "4820                      ihuhuhu   \n",
       "5173               wangwangCCChen   \n",
       "5834                     aster-ww   \n",
       "6072                   VITA-Group   \n",
       "7730                     linxi159   \n",
       "7811                 healthylaife   \n",
       "8414                mkubiophysics   \n",
       "8477                   louzounlab   \n",
       "8486                      Scu-sen   \n",
       "9327             Shantanu48114860   \n",
       "9735                      junfish   \n",
       "9914                     regnveig   \n",
       "\n",
       "                                            GitHub_repo Repo_created_at   \n",
       "76                                                  FDR      2022-07-22  \\\n",
       "271                                           miRdisNET      2022-10-13   \n",
       "482                                                IDIA      2022-08-21   \n",
       "901                                           CACPU-Net      2022-08-29   \n",
       "1340                               CallerRecommendation      2022-04-18   \n",
       "1597                                          pFL-APPLE      2022-04-25   \n",
       "1985                                      mra-attention      2022-06-06   \n",
       "2812                                SuperpixelGridMasks      2022-04-11   \n",
       "3551                                   RCTMethodologyIE      2022-07-27   \n",
       "4433                                           HyperGCL      2022-09-17   \n",
       "4796                                           QU-BraTS      2021-03-29   \n",
       "4820                                                RAC      2021-11-09   \n",
       "5173                                            CNN-Cox      2022-03-23   \n",
       "5834                                            scEMAIL      2022-06-22   \n",
       "6072                  Trap-and-Replace-Backdoor-Defense      2022-10-18   \n",
       "7730                                            CDSlncR      2022-08-20   \n",
       "7811                             MIMIC-IV-Data-Pipeline      2021-08-06   \n",
       "8414                                       B-LacFamPred      2022-09-06   \n",
       "8477                         CountingIsAlmostAllYouNeed             NaN   \n",
       "8486  Recursion-Cellular-Image-Classification-Challenge      2020-07-04   \n",
       "9327                                   DR-VIDAL-AMIA-22      2022-07-28   \n",
       "9735                                             BIOS22      2022-03-01   \n",
       "9914                                        FastContext      2022-07-05   \n",
       "\n",
       "     Repo_updated_at  Fork  In_SoftWH    Archived Record_date   Min_date  \n",
       "76        2023-05-04   0.0        0.0         NaN  2023-03-14 2023-01-02  \n",
       "271       2022-10-22   0.0        0.0         NaN  2023-01-31 2023-01-12  \n",
       "482       2022-08-24   0.0        0.0         NaN  2023-04-11 2023-01-02  \n",
       "901       2023-05-15   0.0        0.0         NaN  2023-01-24 2023-01-04  \n",
       "1340      2022-05-12   0.0        0.0         NaN  2023-01-24 2023-01-06  \n",
       "1597      2023-04-07   0.0        0.0         NaN  2023-05-17 2023-05-17  \n",
       "1985      2023-05-12   0.0        0.0         NaN  2023-05-04 2023-05-04  \n",
       "2812      2023-03-31   0.0        0.0         NaN  2023-01-24 2023-01-13  \n",
       "3551      2022-11-09   0.0        0.0         NaN  2023-05-02 2023-04-29  \n",
       "4433      2023-05-04   0.0        0.0         NaN  2023-05-17 2023-05-17  \n",
       "4796      2022-10-31   0.0        1.0  2023-03-27  2023-04-01 2023-04-01  \n",
       "4820      2022-10-11   0.0        0.0         NaN  2023-01-27 2023-01-09  \n",
       "5173      2022-12-01   0.0        0.0         NaN  2023-02-13 2023-01-04  \n",
       "5834      2023-04-26   0.0        0.0         NaN  2023-01-08 2023-01-03  \n",
       "6072      2023-04-28   0.0        0.0         NaN  2023-04-21 2023-04-21  \n",
       "7730      2022-12-02   0.0        0.0         NaN  2023-01-31 2023-01-13  \n",
       "7811      2023-05-24   0.0        0.0         NaN  2023-01-24 2023-01-24  \n",
       "8414      2022-09-06   0.0        0.0         NaN  2023-01-31 2023-01-12  \n",
       "8477             NaN   1.0        0.0         NaN  2023-02-07 2023-01-20  \n",
       "8486      2023-04-27   0.0        0.0         NaN  2023-01-08 2023-01-03  \n",
       "9327      2023-05-16   0.0        0.0         NaN  2023-05-02 2023-04-29  \n",
       "9735      2022-09-29   0.0        0.0         NaN  2023-03-08 2023-03-08  \n",
       "9914      2023-02-23   0.0        0.0         NaN  2023-01-26 2023-01-26  "
      ]
     },
     "execution_count": 111,
     "metadata": {},
     "output_type": "execute_result"
    }
   ],
   "source": [
    "df[df['Min_date'].dt.year == 2023]"
   ]
  },
  {
   "cell_type": "code",
   "execution_count": 115,
   "id": "e968d76d-0ce9-460f-80c4-1803faebded5",
   "metadata": {},
   "outputs": [],
   "source": [
    "#saving the statistics to reuse it in another notebook\n",
    "\n",
    "with open(\"PMIDs.txt\", \"w\") as f:\n",
    "    for PMID in PMIDs:\n",
    "        f.write(str(PMID)+\"\\n\")\n",
    "with open(\"stats_github.json\", \"w\") as f:\n",
    "    json.dump(stats_github, f)\n",
    "with open(\"stats_gitlab.json\", \"w\") as f:\n",
    "    json.dump(stats_gitlab, f)\n",
    "with open(\"stats_sourceforge.json\", \"w\") as f:\n",
    "    json.dump(stats_sourceforge, f)    \n",
    "with open(\"stats_googlecode.json\", \"w\") as f:\n",
    "    json.dump(stats_googlecode, f)\n",
    "with open(\"stats_bitbucket.json\", \"w\") as f:\n",
    "    json.dump(stats_bitbucket, f)"
   ]
  },
  {
   "cell_type": "code",
   "execution_count": 230,
   "id": "98176cc7-615e-4060-84e2-f2b2dd617b87",
   "metadata": {},
   "outputs": [],
   "source": [
    "# https://pubmed.ncbi.nlm.nih.gov/26262258/ - No DOI in PubMed although there is one in the full text of the article (not from ArXiv), and there are a lot of them\n",
    "# https://pubmed.ncbi.nlm.nih.gov/28269829/ - they give a wrong link https://github.com/SBU-BMI/imageboxs://github.com/SBU-BMI/imagebox but if you use this link :\n",
    "# https://github.com/SBU-BMI/imagebox it works. Yet, i am not sure that it is actually what we are looking for since they also provide another link to github.io \n",
    "# (also incorect) and i think it's more likely that their code is there\n",
    "# PMID = 36789260 - 2 links\n",
    "# https://github.com/tyqGitHub/TYQ/tree/master/GACNNMDA - ????\n",
    "# https://github.com/mofradlab - ?????? (PMID 36786404)\n",
    "# PMID = 26124555 - a space in the link\n",
    "# PMID = 24324759, 22151646 - no space after link\n",
    "# PMID = 23849037 - why + in the end ?\n",
    "# PMID = 36315552 - super smart"
   ]
  },
  {
   "cell_type": "code",
   "execution_count": 101,
   "id": "e8425aae-1da2-443d-a325-dc4a1fbe4814",
   "metadata": {},
   "outputs": [],
   "source": [
    "results = []"
   ]
  },
  {
   "cell_type": "code",
   "execution_count": 131,
   "id": "b5b5aead-fa36-41c6-af77-8af8138b0ff6",
   "metadata": {},
   "outputs": [
    {
     "name": "stderr",
     "output_type": "stream",
     "text": [
      "100%|██████████| 59/59 [01:40<00:00,  1.70s/it]\n"
     ]
    }
   ],
   "source": [
    "#API Pubmed rate limit is 10 request per second with a token and 3 request par second without it\n",
    "\n",
    "#count = 0\n",
    "for PMID in tqdm(pm):\n",
    "    #count += 1\n",
    "    #if count % 10 == 0:\n",
    "    #    time.sleep(1)\n",
    "    \n",
    "    try:\n",
    "        summary = pbmd.get_summary(PMID, PUBMED_TOKEN, \"status.txt\")\n",
    "        abstract = pbmd.get_abstract_from_summary(summary, \"status.txt\")\n",
    "        pubdate = pbmd.get_pubdate_from_summary(summary, \"status.txt\")\n",
    "        recdate = pbmd.get_pubmedpubdate_from_summary(summary, \"status.txt\")\n",
    "        title = pbmd.get_title_from_summary(summary, \"status.txt\")\n",
    "        journal = pbmd.get_journal_from_summary(summary, \"status.txt\")\n",
    "        doi = pbmd.get_doi_from_summary(summary, \"status.txt\")\n",
    "    except:\n",
    "        try:\n",
    "            summary = pbmd.get_summary(PMID, PUBMED_TOKEN, \"status.txt\")\n",
    "            abstract = pbmd.get_abstract_from_summary(summary, \"status.txt\")\n",
    "            pubdate = pbmd.get_pubdate_from_summary(summary, \"status.txt\")\n",
    "            recdate = pbmd.get_pubmedpubdate_from_summary(summary, \"status.txt\")\n",
    "            title = pbmd.get_title_from_summary(summary, \"status.txt\")\n",
    "            journal = pbmd.get_journal_from_summary(summary, \"status.txt\")\n",
    "            doi = pbmd.get_doi_from_summary(summary, \"status.txt\")\n",
    "        except:\n",
    "            continue\n",
    "        \n",
    "    #checking in case the API is bugging \n",
    "    if (pubdate, doi) == (None, None):\n",
    "        time.sleep(2)\n",
    "        summary = pbmd.get_summary(PMID, PUBMED_TOKEN, \"status.txt\")\n",
    "        abstract = pbmd.get_abstract_from_summary(summary, \"status.txt\")\n",
    "        pubdate = pbmd.get_pubdate_from_summary(summary, \"status.txt\")\n",
    "        recdate = pbmd.get_pubmedpubdate_from_summary(summary, \"status.txt\")\n",
    "        title = pbmd.get_title_from_summary(summary, \"status.txt\")\n",
    "        journal = pbmd.get_journal_from_summary(summary, \"status.txt\")\n",
    "        doi = pbmd.get_doi_from_summary(summary, \"status.txt\")     \n",
    "\n",
    "    results.append((PMID, pubdate, recdate, doi, journal, title, abstract))"
   ]
  },
  {
   "cell_type": "code",
   "execution_count": 141,
   "id": "e11bc34d-7377-4167-8d80-48952e78323a",
   "metadata": {},
   "outputs": [],
   "source": [
    "df = pd.DataFrame.from_records(results)\n",
    "df = df.rename(columns = {0: 'PMID', 1: 'PubDate', 2: 'Record_date', 3: 'DOI', 4: 'Journal', 5: 'Title', 6: 'Abstract'})\n",
    "df = df.drop_duplicates(subset = 'PMID')\n",
    "df = df.reset_index(drop = True)"
   ]
  },
  {
   "cell_type": "code",
   "execution_count": 142,
   "id": "8a3bcdb5-1810-4b53-b6e9-f55e7b4c3d43",
   "metadata": {},
   "outputs": [
    {
     "data": {
      "text/plain": [
       "10880"
      ]
     },
     "execution_count": 142,
     "metadata": {},
     "output_type": "execute_result"
    }
   ],
   "source": [
    "len(df)"
   ]
  },
  {
   "cell_type": "code",
   "execution_count": 149,
   "id": "9a6c9a6e-9a56-4117-b4c9-28bec1d25313",
   "metadata": {},
   "outputs": [
    {
     "name": "stdout",
     "output_type": "stream",
     "text": [
      "Number of records without publication date is: 59\n"
     ]
    }
   ],
   "source": [
    "print(f\"Number of records without publication date is: {len(df[df['PubDate'].isnull()])}\")"
   ]
  },
  {
   "cell_type": "code",
   "execution_count": 150,
   "id": "94f8544e-f411-40c6-bd35-318d762992e3",
   "metadata": {},
   "outputs": [],
   "source": [
    "df.to_csv('articles.tsv', sep='\\t', index=False)"
   ]
  },
  {
   "cell_type": "markdown",
   "id": "d566e858-dc91-44d1-9e85-13a0fc89f892",
   "metadata": {},
   "source": [
    "## 2. Geting links from the obtained data using regex"
   ]
  },
  {
   "cell_type": "code",
   "execution_count": 42,
   "id": "5f1cfe1c-42eb-4958-a13c-8c7d43136ae0",
   "metadata": {},
   "outputs": [],
   "source": [
    "df = pd.read_csv('articles.tsv', sep='\\t')"
   ]
  },
  {
   "cell_type": "code",
   "execution_count": 38,
   "id": "b8ce85de-20f7-4211-830b-4c6e01e0eb60",
   "metadata": {},
   "outputs": [],
   "source": [
    "df['GitHub_link_raw'] = df['Abstract'].astype(str).apply(pbmd.get_link_from_abstract)\n",
    "df['GitHub_link_clean'] = df['GitHub_link_raw'].astype(str).apply(pbmd.clean_link)\n",
    "df['GitHub_owner'] = df['GitHub_link_clean'].apply(pbmd.get_owner_from_link)\n",
    "df['GitHub_repo'] = df['GitHub_link_clean'].apply(pbmd.get_repo_from_link)"
   ]
  },
  {
   "cell_type": "code",
   "execution_count": 39,
   "id": "964e174c-558c-445e-abec-a0b0c2c16b9b",
   "metadata": {},
   "outputs": [
    {
     "name": "stdout",
     "output_type": "stream",
     "text": [
      "Number of records with weird abstracts leading to inability to extract a link: 6\n"
     ]
    }
   ],
   "source": [
    "print(f\"Number of records with weird abstracts leading to inability to extract a link: {len(df[df['GitHub_owner'].isna()])}\")"
   ]
  },
  {
   "cell_type": "code",
   "execution_count": 163,
   "id": "1d2ae2ce-d877-42af-84d7-96db53d9dae2",
   "metadata": {},
   "outputs": [
    {
     "name": "stdout",
     "output_type": "stream",
     "text": [
      "Number of records without a repository name: 251\n"
     ]
    }
   ],
   "source": [
    "print(f\"Number of records without a repository name: {len(df[df['GitHub_repo'].isna()])-len(df[df['GitHub_owner'].isna()])}\")"
   ]
  },
  {
   "cell_type": "code",
   "execution_count": 164,
   "id": "84639824-a280-494b-b8e8-d2a5b6981006",
   "metadata": {},
   "outputs": [],
   "source": [
    "df.to_csv('articles.tsv', sep='\\t', index=False)"
   ]
  },
  {
   "cell_type": "markdown",
   "id": "d124283b-c8d7-4c6a-913f-f64f2390d66a",
   "metadata": {},
   "source": [
    "## 3. GitHub API Interactions"
   ]
  },
  {
   "cell_type": "code",
   "execution_count": 4,
   "id": "160e77c7-4980-4dbc-bc92-ff9319cd9480",
   "metadata": {},
   "outputs": [],
   "source": [
    "df = pd.read_csv('articles.tsv', sep='\\t')"
   ]
  },
  {
   "cell_type": "code",
   "execution_count": 6,
   "id": "f6bfbf59-53a2-4a9e-93cd-f509588406a6",
   "metadata": {},
   "outputs": [
    {
     "data": {
      "text/plain": [
       "10565"
      ]
     },
     "execution_count": 6,
     "metadata": {},
     "output_type": "execute_result"
    }
   ],
   "source": [
    "PMIDs = df['PMID'][df['GitHub_repo'].notna()][df['PubDate'].notna()].to_list()\n",
    "len(PMIDs)"
   ]
  },
  {
   "cell_type": "code",
   "execution_count": 10,
   "id": "36dd1992-56f7-42a8-95ae-810217f93e68",
   "metadata": {},
   "outputs": [
    {
     "name": "stderr",
     "output_type": "stream",
     "text": [
      "100%|████████████████████████████████████████████████████████████████████████████████| 819/819 [07:46<00:00,  1.76it/s]\n"
     ]
    }
   ],
   "source": [
    "for PMID in tqdm(PMIDs):\n",
    "\n",
    "    with open(\"gitstat.txt\", \"a\") as f:\n",
    "        f.write(f\"\\n\\n PMID: {PMID}, GitHub link: {df[df['PMID'] == PMID]['GitHub_link_clean'].values[0]}\")\n",
    "\n",
    "    info = pbmd.get_repo_info(df[df['PMID']==PMID]['GitHub_owner'].values[0], df[df['PMID']==PMID]['GitHub_repo'].values[0], GITHUB_TOKEN, \"gitstat.txt\")\n",
    "\n",
    "    if info[\"status\"]: \n",
    "        idx = df.index[df['PMID'] == PMID][0]\n",
    "\n",
    "        df.loc[idx, \"Repo_created_at\"] = pbmd.get_repo_date_created(info)\n",
    "        df.loc[idx, \"Repo_updated_at\"] = pbmd.get_repo_date_updated(info)\n",
    "        df.loc[idx, \"Fork\"] = pbmd.is_fork(info)\n",
    "    else:\n",
    "        \n",
    "        time.sleep(3600)\n",
    "        \n",
    "        info = pbmd.get_repo_info(df[df['PMID']==PMID]['GitHub_owner'].values[0], df[df['PMID']==PMID]['GitHub_repo'].values[0], GITHUB_TOKEN, \"gitstat.txt\")\n",
    "        idx = df.index[df['PMID'] == PMID][0]\n",
    "        df.loc[idx, \"Repo_created_at\"] = pbmd.get_repo_date_created(info)\n",
    "        df.loc[idx, \"Repo_updated_at\"] = pbmd.get_repo_date_updated(info)\n",
    "        df.loc[idx, \"Fork\"] = pbmd.is_fork(info)"
   ]
  },
  {
   "cell_type": "code",
   "execution_count": 11,
   "id": "682e0960-eefb-4676-a049-e22cca92418f",
   "metadata": {},
   "outputs": [
    {
     "data": {
      "text/plain": [
       "766"
      ]
     },
     "execution_count": 11,
     "metadata": {},
     "output_type": "execute_result"
    }
   ],
   "source": [
    "PMIDs = df['PMID'][df['Repo_created_at'].isna()].to_list()\n",
    "len(PMIDs)"
   ]
  },
  {
   "cell_type": "code",
   "execution_count": 12,
   "id": "fe532216-f508-4ff9-a16e-3bb957b1e344",
   "metadata": {},
   "outputs": [],
   "source": [
    "df.to_csv('articles.tsv', sep='\\t', index=False)"
   ]
  },
  {
   "cell_type": "markdown",
   "id": "ad760f81-0cf8-4b5d-9015-bda6ac2d2487",
   "metadata": {},
   "source": [
    "## 4. Software Heritage API interactions"
   ]
  },
  {
   "cell_type": "code",
   "execution_count": 2,
   "id": "6aa51fd7-bd8c-472f-b659-edb3ded49461",
   "metadata": {},
   "outputs": [],
   "source": [
    "df = pd.read_csv('articles.tsv', sep='\\t')"
   ]
  },
  {
   "cell_type": "code",
   "execution_count": 13,
   "id": "ca4481bb-3767-415c-bc0d-d460cdc7c5a4",
   "metadata": {},
   "outputs": [
    {
     "data": {
      "text/plain": [
       "10623"
      ]
     },
     "execution_count": 13,
     "metadata": {},
     "output_type": "execute_result"
    }
   ],
   "source": [
    "PMIDs = df['PMID'][df['GitHub_repo'].notna()].to_list()\n",
    "len(PMIDs)"
   ]
  },
  {
   "cell_type": "code",
   "execution_count": 16,
   "id": "5d60a2e7-1d01-4b23-8500-221e4a29c748",
   "metadata": {},
   "outputs": [
    {
     "name": "stderr",
     "output_type": "stream",
     "text": [
      "100%|██████████████████████████████████████████████████████████████████████████████| 6174/6174 [18:04<00:00,  5.69it/s]\n"
     ]
    }
   ],
   "source": [
    "for PMID in tqdm(PMIDs[:]):\n",
    "    \n",
    "    try:\n",
    "        info = pbmd.check_is_in_softwh(df[df['PMID']==PMID]['GitHub_link_clean'].values[0])\n",
    "\n",
    "        idx = df.index[df['PMID'] == PMID][0]\n",
    "\n",
    "        df.loc[idx, \"In_SoftWH\"] = pbmd.is_in_softwh(info)\n",
    "        df.loc[idx, \"Archived\"] = pbmd.get_date_archived(info)\n",
    "    except:\n",
    "        try:\n",
    "            info = pbmd.check_is_in_softwh(df[df['PMID']==PMID]['GitHub_link_clean'].values[0])\n",
    "\n",
    "            idx = df.index[df['PMID'] == PMID][0]\n",
    "\n",
    "            df.loc[idx, \"In_SoftWH\"] = pbmd.is_in_softwh(info)\n",
    "            df.loc[idx, \"Archived\"] = pbmd.get_date_archived(info)\n",
    "        except:\n",
    "            continue"
   ]
  },
  {
   "cell_type": "code",
   "execution_count": 112,
   "id": "3954853c-f227-4a5d-8c24-99694669cdd4",
   "metadata": {},
   "outputs": [],
   "source": [
    "df.to_csv('articles.tsv', sep='\\t', index=False)"
   ]
  },
  {
   "cell_type": "markdown",
   "id": "6d478c7b-9a74-42fb-b71d-1c594eefdadc",
   "metadata": {},
   "source": [
    "## Unresolved links analysis"
   ]
  },
  {
   "cell_type": "code",
   "execution_count": 383,
   "id": "b597f0b6-78f4-4736-9a89-ac0191b0c702",
   "metadata": {},
   "outputs": [],
   "source": [
    "df = pd.read_csv('no_info.tsv', sep='\\t',usecols=['PMID', 'PubDate', 'DOI', 'Journal', 'Title', 'Abstract', 'Issue', 'GitHub_link_clean','Correct_link'])"
   ]
  },
  {
   "cell_type": "code",
   "execution_count": 384,
   "id": "6b70ec1b-96dd-43d1-9876-4dac90c542a0",
   "metadata": {},
   "outputs": [
    {
     "name": "stdout",
     "output_type": "stream",
     "text": [
      "Number of articles with a wrong link (either a space in the link, or no space after link, etc) : 58\n"
     ]
    }
   ],
   "source": [
    "print(f\"Number of articles with a wrong link (either a space in the link, or no space after link, etc) : {len(df[df['Issue'] == 'wrong link'])}\") "
   ]
  },
  {
   "cell_type": "code",
   "execution_count": 385,
   "id": "b34f0e2f-1e42-46ff-ae71-f984e2a433a3",
   "metadata": {},
   "outputs": [
    {
     "name": "stdout",
     "output_type": "stream",
     "text": [
      "Number of articles with a renamed repository : 11\n"
     ]
    }
   ],
   "source": [
    "print(f\"Number of articles with a renamed repository : {len(df[df['Issue'] == 'renamed'])}\") "
   ]
  },
  {
   "cell_type": "code",
   "execution_count": 386,
   "id": "a8db6bd5-d473-4a5f-85ab-e8b179186b0f",
   "metadata": {},
   "outputs": [
    {
     "name": "stdout",
     "output_type": "stream",
     "text": [
      "Number of articles with a deleted repository : 146\n"
     ]
    }
   ],
   "source": [
    "print(f\"Number of articles with a deleted repository : {len(df[df['Issue'] == 'owner deleted']) + len(df[df['Issue'] == 'repo deleted'])}\")"
   ]
  },
  {
   "cell_type": "markdown",
   "id": "18fd77b8-8cac-45be-af2f-928dd2d35cc5",
   "metadata": {},
   "source": [
    "Resolving unresolved but existing links"
   ]
  },
  {
   "cell_type": "code",
   "execution_count": 387,
   "id": "3db1fcb0-8066-4c19-a853-34ad54833439",
   "metadata": {},
   "outputs": [],
   "source": [
    "df.loc[df['Correct_link'].notna(),'GitHub_owner'] = df.loc[df['Correct_link'].notna(),'Correct_link'].apply(pbmd.get_owner_from_link)\n",
    "df.loc[df['Correct_link'].notna(),'GitHub_repo'] = df.loc[df['Correct_link'].notna(),'Correct_link'].apply(pbmd.get_repo_from_link)\n",
    "\n",
    "df.loc[df['Correct_link'].isna(),'GitHub_owner'] = df.loc[df['Correct_link'].isna(),'GitHub_link_clean'].apply(pbmd.get_owner_from_link)\n",
    "df.loc[df['Correct_link'].isna(),'GitHub_repo'] = df.loc[df['Correct_link'].isna(),'GitHub_link_clean'].apply(pbmd.get_repo_from_link)"
   ]
  },
  {
   "cell_type": "code",
   "execution_count": 389,
   "id": "35967c10-c389-4542-9dfb-cca1c8a61306",
   "metadata": {},
   "outputs": [
    {
     "data": {
      "text/plain": [
       "215"
      ]
     },
     "execution_count": 389,
     "metadata": {},
     "output_type": "execute_result"
    }
   ],
   "source": [
    "PMIDs = df['PMID'][df['GitHub_repo'].notna()].to_list()\n",
    "len(PMIDs)"
   ]
  },
  {
   "cell_type": "code",
   "execution_count": 390,
   "id": "2e7d124d-9a2b-443b-8c63-7ee3cbecc7cf",
   "metadata": {},
   "outputs": [
    {
     "name": "stderr",
     "output_type": "stream",
     "text": [
      "100%|████████████████████████████████████████████████████████████████████████████████| 215/215 [01:05<00:00,  3.30it/s]\n"
     ]
    }
   ],
   "source": [
    "count = 0\n",
    "for PMID in tqdm(PMIDs):\n",
    "    count += 1\n",
    "    if count % 5000 == 0:\n",
    "        time.sleep(3600)\n",
    "    \n",
    "    with open(\"gitstat.txt\", \"a\") as f:\n",
    "        f.write(f\"\\n\\n PMID: {PMID}, GitHub link: {df[df['PMID'] == PMID]['Correct_link'].values[0]}\")\n",
    "\n",
    "    info = pbmd.get_repo_info(df[df['PMID']==PMID]['GitHub_owner'].values[0], df[df['PMID']==PMID]['GitHub_repo'].values[0], GITHUB_TOKEN, \"gitstat.txt\")\n",
    "\n",
    "    idx = df.index[df['PMID'] == PMID][0]\n",
    "\n",
    "    df.loc[idx, \"Repo_created_at\"] = pbmd.get_repo_date_created(info)\n",
    "    df.loc[idx, \"Repo_updated_at\"] = pbmd.get_repo_date_updated(info)\n",
    "    df.loc[idx, \"Fork\"] = pbmd.is_fork(info)"
   ]
  },
  {
   "cell_type": "code",
   "execution_count": 391,
   "id": "ae1722cd-c089-456a-97b4-5267d944a463",
   "metadata": {},
   "outputs": [
    {
     "data": {
      "text/plain": [
       "69"
      ]
     },
     "execution_count": 391,
     "metadata": {},
     "output_type": "execute_result"
    }
   ],
   "source": [
    "PMIDs = df['PMID'][df['Correct_link'].notna()].to_list()\n",
    "len(PMIDs)"
   ]
  },
  {
   "cell_type": "code",
   "execution_count": 392,
   "id": "3ea729a9-2a5a-4d81-99c8-7e2718000724",
   "metadata": {},
   "outputs": [
    {
     "name": "stderr",
     "output_type": "stream",
     "text": [
      "100%|██████████████████████████████████████████████████████████████████████████████████| 69/69 [00:13<00:00,  5.03it/s]\n"
     ]
    }
   ],
   "source": [
    "for PMID in tqdm(PMIDs):\n",
    "    \n",
    "    info = pbmd.check_is_in_softwh(df[df['PMID']==PMID]['Correct_link'].values[0])\n",
    "\n",
    "    idx = df.index[df['PMID'] == PMID][0]\n",
    "    \n",
    "    df.loc[idx, \"In_SoftWH\"] = pbmd.is_in_softwh(info)\n",
    "    df.loc[idx, \"Archived\"] = pbmd.get_date_archived(info)"
   ]
  },
  {
   "cell_type": "code",
   "execution_count": 393,
   "id": "d3c3010b-1b18-4875-bf57-c3e100883ef8",
   "metadata": {},
   "outputs": [
    {
     "data": {
      "text/plain": [
       "146"
      ]
     },
     "execution_count": 393,
     "metadata": {},
     "output_type": "execute_result"
    }
   ],
   "source": [
    "PMIDs = df['PMID'][df['Correct_link'].isna()].to_list()\n",
    "len(PMIDs)"
   ]
  },
  {
   "cell_type": "code",
   "execution_count": 394,
   "id": "0d615f28-b18d-4cd0-9407-5d6e88b9e7c7",
   "metadata": {},
   "outputs": [
    {
     "name": "stderr",
     "output_type": "stream",
     "text": [
      "100%|████████████████████████████████████████████████████████████████████████████████| 146/146 [00:56<00:00,  2.60it/s]\n"
     ]
    }
   ],
   "source": [
    "for PMID in tqdm(PMIDs):\n",
    "    \n",
    "    info = pbmd.check_is_in_softwh(df[df['PMID']==PMID]['GitHub_link_clean'].values[0])\n",
    "\n",
    "    idx = df.index[df['PMID'] == PMID][0]\n",
    "    \n",
    "    df.loc[idx, \"In_SoftWH\"] = pbmd.is_in_softwh(info)\n",
    "    df.loc[idx, \"Archived\"] = pbmd.get_date_archived(info)"
   ]
  },
  {
   "cell_type": "code",
   "execution_count": 396,
   "id": "414b497b-bf2c-432e-86c7-cfe37b3af1d2",
   "metadata": {},
   "outputs": [
    {
     "name": "stdout",
     "output_type": "stream",
     "text": [
      "Repositories that are forks : 0\n"
     ]
    }
   ],
   "source": [
    "print(f\"Repositories that are forks : {len(df[df['Fork'] == 1])}\")"
   ]
  },
  {
   "cell_type": "code",
   "execution_count": 397,
   "id": "2433e02b-40b0-4b61-8636-a35d3954f887",
   "metadata": {},
   "outputs": [
    {
     "name": "stdout",
     "output_type": "stream",
     "text": [
      "Not in SoftWH : 118\n"
     ]
    }
   ],
   "source": [
    "print(f\"Not in SoftWH : {len(df[df['In_SoftWH'] == 0])}\")"
   ]
  },
  {
   "cell_type": "code",
   "execution_count": 398,
   "id": "b561b266-3336-4238-8827-87c3bef2740d",
   "metadata": {},
   "outputs": [
    {
     "name": "stdout",
     "output_type": "stream",
     "text": [
      "In SoftWH : 97\n"
     ]
    }
   ],
   "source": [
    "print(f\"In SoftWH : {len(df[df['In_SoftWH'] == 1])}\")"
   ]
  },
  {
   "cell_type": "code",
   "execution_count": 401,
   "id": "23fad432-e0f1-4cb4-991b-a88ca809422d",
   "metadata": {},
   "outputs": [
    {
     "name": "stdout",
     "output_type": "stream",
     "text": [
      "Were deleted but archived in SoftWH : 49\n"
     ]
    },
    {
     "name": "stderr",
     "output_type": "stream",
     "text": [
      "C:\\Users\\nadia\\AppData\\Local\\Temp\\ipykernel_9668\\3996960915.py:1: UserWarning: Boolean Series key will be reindexed to match DataFrame index.\n",
      "  print(f\"Were deleted but archived in SoftWH : {len(df[df['Correct_link'].isna()][df['In_SoftWH'] == 1])}\")\n"
     ]
    }
   ],
   "source": [
    "print(f\"Were deleted but archived in SoftWH : {len(df[df['Correct_link'].isna()][df['In_SoftWH'] == 1])}\")"
   ]
  }
 ],
 "metadata": {
  "kernelspec": {
   "display_name": "Python 3 (ipykernel)",
   "language": "python",
   "name": "python3"
  },
  "language_info": {
   "codemirror_mode": {
    "name": "ipython",
    "version": 3
   },
   "file_extension": ".py",
   "mimetype": "text/x-python",
   "name": "python",
   "nbconvert_exporter": "python",
   "pygments_lexer": "ipython3",
   "version": "3.9.13"
  }
 },
 "nbformat": 4,
 "nbformat_minor": 5
}
